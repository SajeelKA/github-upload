{
 "cells": [
  {
   "cell_type": "code",
   "execution_count": 24,
   "metadata": {},
   "outputs": [],
   "source": [
    "import tensorflow as tf\n",
    "import numpy as np\n",
    "import matplotlib.pyplot as plt\n",
    "import os\n",
    "import pandas as pd\n",
    "from tensorflow import keras\n",
    "from sklearn.preprocessing import MultiLabelBinarizer\n",
    "from sklearn.preprocessing import LabelEncoder\n",
    "from sklearn.model_selection import train_test_split\n",
    "from keras.utils import np_utils # need pip install\n",
    "from random import randrange\n",
    "from IPython.display import YouTubeVideo\n"
   ]
  },
  {
   "cell_type": "markdown",
   "metadata": {},
   "source": [
    "## First, change the newPath variable below to point to the location of the tfrecords file, then run all of the cells in order to get the results. You can also comment and uncomment some parts to tune hyperparameters"
   ]
  },
  {
   "cell_type": "code",
   "execution_count": 7,
   "metadata": {},
   "outputs": [],
   "source": [
    "newPath = \"./audioset_v1_embeddings/myFiltered2/\"\n",
    "files = os.listdir( newPath )\n",
    "\n",
    "oneFile=[]\n",
    "allFiles=[]\n",
    "myLabels=[]\n",
    "myLabelsAll=[]\n",
    "multiLabels=[]\n",
    "ytid=[]\n",
    "count=0;\n",
    "ind=0;\n",
    "\n",
    "\n",
    "for file in files:\n",
    "    tfrecords_filename = newPath+file\n",
    "\n",
    "    record_iterator = tf.python_io.tf_record_iterator(path=tfrecords_filename)\n",
    "\n",
    "    string_record = next(record_iterator)\n",
    "\n",
    "    example = tf.train.SequenceExample()\n",
    "\n",
    "    example.ParseFromString(string_record)    \n",
    "    \n",
    "    #to store the id of the video for later use\n",
    "    vidId=example.context.feature['video_id'].bytes_list.value[0].decode()\n",
    "    \n",
    "    for a in example.feature_lists.feature_list['audio_embedding'].feature:\n",
    "            # 960ms of data\n",
    "        hexembed = a.bytes_list.value[0].hex()\n",
    "\n",
    "        arrayembed = [int(hexembed[i:i+2],16) for i in range(0,len(hexembed),2)]         \n",
    "        \n",
    "        label=example.context.feature['labels'].int64_list.value[:]        \n",
    "        \n",
    "        #0, 72,137,300\n",
    "        if 0 in label or 72 in label or 137 in label or 300 in label:\n",
    "            allFiles.append(arrayembed)\n",
    "            ytid.append(vidId)\n",
    "            for x in label:\n",
    "                if x in {0,72,137,300}:\n",
    "                    myLabelsAll.append(label[label.index(x)]) #basically saying the first label in these categories is considered the only label                    \n",
    "                    break\n",
    "        \n",
    "        "
   ]
  },
  {
   "cell_type": "code",
   "execution_count": 8,
   "metadata": {},
   "outputs": [],
   "source": [
    "def counting(labels, df):\n",
    "    for i, x in enumerate(labels):\n",
    "        if x == 0:\n",
    "            df.iloc[0,0]+=1\n",
    "\n",
    "        if x == 72:\n",
    "            df.iloc[0,1]+=1           \n",
    "\n",
    "        if x == 137:\n",
    "            df.iloc[0,2]+=1\n",
    "\n",
    "        if x == 300:\n",
    "            df.iloc[0,3]+=1\n",
    "    print(df)    "
   ]
  },
  {
   "cell_type": "code",
   "execution_count": 9,
   "metadata": {},
   "outputs": [],
   "source": [
    "def shuffling(allSamples,labels,sampleToShuffle, sampleLabel):\n",
    "    X=allSamples    \n",
    "    Y=labels\n",
    "    x1=sampleToShuffle\n",
    "    y1=sampleLabel\n",
    "    \n",
    "    r=[randrange(10) for _ in range(0,10)]\n",
    "    for num in range(10):\n",
    "        if(num < int(len(r)/2)):\n",
    "            #print('1st is {0}, 2nd is {1}'.format(x[(len(x)-1)-num],num))\n",
    "            temp=x1[num].copy()\n",
    "            x1[num]=x1[r[num]].copy()#r[num] is the index num in the list r of random numbers between 1 and 10\n",
    "            x1[r[num]]=temp.copy()    \n",
    "\n",
    "    X=np.append(X, x1.reshape(1,10,128,1), axis=0)    \n",
    "    Y=np.append(Y, y1)\n",
    "\n",
    "    #print(len(X))\n",
    "    \n",
    "    return X, Y\n",
    "            \n",
    "\n",
    "\n"
   ]
  },
  {
   "cell_type": "code",
   "execution_count": 10,
   "metadata": {},
   "outputs": [
    {
     "name": "stdout",
     "output_type": "stream",
     "text": [
      "3529\n",
      "3529\n",
      "   speech  Animal  Music  Vehicle\n",
      "0    1951     621   1369     1241\n"
     ]
    }
   ],
   "source": [
    "count=0\n",
    "newLabels=[]\n",
    "ytidNew=[]\n",
    "\n",
    "\n",
    "for i in range(0, len(myLabelsAll)):\n",
    "    if i%10==0:\n",
    "        newLabels.append(myLabelsAll[i])\n",
    "        ytidNew.append(ytid[i])\n",
    "        #multiLabelsNew.append(y_multi[i]) # for future\n",
    "\n",
    "yLabel=[]\n",
    "\n",
    "newLabelsFiltered=newLabels\n",
    "ind=0\n",
    "count0=0\n",
    "count137=0\n",
    "count72=0\n",
    "count300=0\n",
    "\n",
    "X = np.array(allFiles)\n",
    "X=X.reshape(int(len(X)/10),10,128,1) # no of 10 s clips, first dimension, 2nd dimension, 1 channel\n",
    "\n",
    "indList=[]\n",
    "        \n",
    "df = pd.DataFrame(columns = [\"speech\", \"Animal\", \"Music\", \"Vehicle\"])\n",
    "df=df.append({\"speech\":0, \"Animal\":0, \"Music\":0, \"Vehicle\":0}, ignore_index=True)\n",
    "\n",
    "print(len(X))            \n",
    "X=np.delete(X, indList, axis=0)\n",
    "print(len(X))\n",
    "\n",
    "#shuffle around data in each sample for the samples that don't have much data, and append it as a new sample\n",
    "while count72<=300: # count72 is for Animal label\n",
    "    count72=0\n",
    "    count300=0\n",
    "    for i, x in enumerate(newLabelsFiltered):\n",
    "        if x == 72 and count72<=300:\n",
    "            count72+=1\n",
    "            X, newLabelsFiltered =shuffling(X, newLabelsFiltered, X[i], x)\n",
    "            ytidNew.append(ytidNew[i])\n",
    "        if x == 300 and count300<=300:\n",
    "            count300+=1\n",
    "            X, newLabelsFiltered =shuffling(X, newLabelsFiltered, X[i], x)\n",
    "            ytidNew.append(ytidNew[i])\n",
    "    if count72>300:\n",
    "        break\n",
    "    #print(count72)\n",
    "\n",
    "counting(newLabelsFiltered, df)\n",
    "     \n",
    "encoder = LabelEncoder()\n",
    "encoder.fit(newLabelsFiltered)\n",
    "encoded_Y = encoder.transform(newLabelsFiltered)\n",
    "# convert integers to dummy variables (i.e. one hot encoded)\n",
    "dummy_y = np_utils.to_categorical(encoded_Y)\n",
    "\n",
    "xtr, xte, ytr, yte = train_test_split(X,dummy_y,test_size = 0.40, random_state = 0) #one-hot encoding version\n",
    "#xtr, xte, ytr, yte = train_test_split(X,encoded_Y,test_size = 0.40, random_state = 0)# regular encoded version (for sparse categorical cross entropy)\n",
    "\n",
    "xtr=xtr/255\n",
    "xte=xte/255\n",
    "\n",
    "np.save('XTrain', xtr)\n",
    "np.save('Xtest', xte)\n",
    "np.save('YTrain', ytr)\n",
    "np.save('Ytest', yte)\n",
    "np.save('XFull', X)\n",
    "np.save('ytidNew', np.array(ytidNew))\n",
    "\n"
   ]
  },
  {
   "cell_type": "code",
   "execution_count": 25,
   "metadata": {},
   "outputs": [],
   "source": [
    "np.save('encoded', np.array(dummy_y))"
   ]
  },
  {
   "cell_type": "code",
   "execution_count": 32,
   "metadata": {},
   "outputs": [],
   "source": [
    "\n",
    "model = keras.Sequential()\n",
    "\n",
    "model.add(keras.layers.Conv2D(16, kernel_size=(1, 6), strides=(2, 2), activation='relu',input_shape=(10,128,1)))\n",
    "model.add(keras.layers.MaxPooling2D(pool_size=(2, 2), strides=(1, 1)))\n",
    "\n",
    "model.add(keras.layers.Conv2D(32, kernel_size=(1, 6), strides=(1, 1), activation='relu',padding=\"same\"))\n",
    "model.add(keras.layers.MaxPooling2D(pool_size=(2, 2), strides=(1, 1)))\n",
    "\n",
    "model.add(keras.layers.Conv2D(32, kernel_size=(1, 6), strides=(1, 1), activation='relu',padding=\"same\"))\n",
    "#model.add(keras.layers.MaxPooling2D(pool_size=(2, 2), strides=(1, 1)))# testing\n",
    "\n",
    "model.add(keras.layers.Flatten())\n",
    "model.add(keras.layers.Dense(1000, activation='relu'))\n",
    "model.add(keras.layers.Dense(4, activation='softmax'))\n"
   ]
  },
  {
   "cell_type": "code",
   "execution_count": 30,
   "metadata": {},
   "outputs": [],
   "source": [
    "model2 = keras.Sequential()\n",
    "model2.add(keras.layers.Dense(10, activation='relu',input_shape=(1280,)))\n",
    "model2.add(keras.layers.Dense(100, activation='relu'))\n",
    "model2.add(keras.layers.Dense(1000, activation='relu'))\n",
    "model2.add(keras.layers.Dense(4, activation='softmax'))\n",
    "\n",
    "model2.compile(optimizer='adam', loss='binary_crossentropy', metrics=['accuracy'])"
   ]
  },
  {
   "cell_type": "code",
   "execution_count": 31,
   "metadata": {},
   "outputs": [
    {
     "name": "stdout",
     "output_type": "stream",
     "text": [
      "\n",
      "=======================\n",
      " using 1280/10-100-1000 ONN\n",
      "=================\n",
      "\n",
      "Epoch 1/5\n",
      "3109/3109 [==============================]3109/3109 [==============================] - 0s 102us/step - loss: 0.5167 - acc: 0.7523\n",
      "\n",
      "Epoch 2/5\n",
      "3109/3109 [==============================]3109/3109 [==============================] - 0s 43us/step - loss: 0.3930 - acc: 0.8192\n",
      "\n",
      "Epoch 3/5\n",
      "3109/3109 [==============================]3109/3109 [==============================] - 0s 43us/step - loss: 0.2981 - acc: 0.8772\n",
      "\n",
      "Epoch 4/5\n",
      "3109/3109 [==============================]3109/3109 [==============================] - 0s 42us/step - loss: 0.2570 - acc: 0.8940\n",
      "\n",
      "Epoch 5/5\n",
      "3109/3109 [==============================]3109/3109 [==============================] - 0s 42us/step - loss: 0.2712 - acc: 0.8874\n",
      "\n",
      "2073/2073 [==============================]2073/2073 [==============================] - 0s 52us/step\n",
      "\n",
      "0.8839845632333659\n"
     ]
    }
   ],
   "source": [
    "xtr2=xtr.reshape(len(xtr),10*128)\n",
    "xte2=xte.reshape(len(xte),10*128)\n",
    "print(\"\\n=======================\\n using 1280/10-100-1000 ONN\\n=================\\n\")\n",
    "model2.fit(xtr2, np.array(ytr), shuffle=True, batch_size=100, epochs=5)\n",
    "\n",
    "test_loss, test_acc = model2.evaluate(xte2, np.array(yte))\n",
    "#test_loss, test_acc = model.evaluate(xte, multiLabelsNew[2000:])\n",
    "print(test_acc)"
   ]
  },
  {
   "cell_type": "code",
   "execution_count": 34,
   "metadata": {},
   "outputs": [
    {
     "name": "stdout",
     "output_type": "stream",
     "text": [
      "\n",
      " =========================using 1280/10-100-1000 ONN ========================== \n",
      "\n",
      "\n",
      "the order of the Real labels is [speech, animal, music, vehicle]\n",
      "\n",
      "0.) youtube id 5rks4FNDYPw has (a/an) music , Real label is [0. 0. 1. 0.]\n",
      "1.) youtube id 0WYSS13Hqy8 has (a/an) music , Real label is [0. 0. 1. 0.]\n",
      "2.) youtube id hZYFGJ2Tr_g has (a/an) music , Real label is [0. 0. 1. 0.]\n",
      "3.) youtube id 3gFQwviPv9g has (a/an) human speaker , Real label is [1. 0. 0. 0.]\n",
      "4.) youtube id MeAykJrFfJs has (a/an) music , Real label is [0. 0. 1. 0.]\n",
      "5.) youtube id Lfl2GhUJsoY has (a/an) human speaker , Real label is [1. 0. 0. 0.]\n",
      "6.) youtube id 5G05PSrnr1o has (a/an) vehicle , Real label is [0. 0. 0. 1.]\n",
      "7.) youtube id 5X6q35fYKLc has (a/an) human speaker , Real label is [1. 0. 0. 0.]\n",
      "8.) youtube id Bg0gtKsMV6E has (a/an) vehicle , Real label is [0. 0. 0. 1.]\n",
      "9.) youtube id CCPJa-FjWho has (a/an) human speaker , Real label is [0. 0. 1. 0.]\n",
      "10.) youtube id PJf16pkFAuI has (a/an) human speaker , Real label is [1. 0. 0. 0.]\n",
      "11.) youtube id lKS7fQ42Zn4 has (a/an) music , Real label is [0. 0. 1. 0.]\n",
      "12.) youtube id Y9kHCgC121c has (a/an) animal , Real label is [0. 1. 0. 0.]\n",
      "13.) youtube id DiP_I4tqjqs has (a/an) human speaker , Real label is [1. 0. 0. 0.]\n",
      "14.) youtube id gfQnUI-s6po has (a/an) vehicle , Real label is [0. 0. 0. 1.]\n",
      "15.) youtube id g2W2pUy7O5k has (a/an) music , Real label is [0. 0. 1. 0.]\n",
      "16.) youtube id EL8H2Q62v3o has (a/an) music , Real label is [0. 0. 1. 0.]\n",
      "17.) youtube id I5lkr3d8yO8 has (a/an) music , Real label is [1. 0. 0. 0.]\n",
      "18.) youtube id TEuWnyMj3XQ has (a/an) music , Real label is [1. 0. 0. 0.]\n",
      "19.) youtube id lW2WOgt-P9U has (a/an) music , Real label is [0. 0. 1. 0.]\n",
      "\n",
      " ========= \n",
      " youtube video to verify prediction no 4 (music): \n",
      "\n"
     ]
    },
    {
     "data": {
      "image/jpeg": "[encoded data removed]",
      "text/html": [
       "\n",
       "        <iframe\n",
       "            width=\"400\"\n",
       "            height=\"300\"\n",
       "            src=\"https://www.youtube.com/embed/MeAykJrFfJs\"\n",
       "            frameborder=\"0\"\n",
       "            allowfullscreen\n",
       "        ></iframe>\n",
       "        "
      ],
      "text/plain": [
       "<IPython.lib.display.YouTubeVideo at 0x7f08d6e6a208>"
      ]
     },
     "execution_count": 34,
     "metadata": {},
     "output_type": "execute_result"
    }
   ],
   "source": [
    "###### just predicting first 20 videos\n",
    "pred = model2.predict(X[0:20].reshape(len(X[0:20]),10*128))\n",
    "chosen = []\n",
    "ind=0\n",
    "for x in pred:\n",
    "    if np.where(x == (max(x)))[0]==0:\n",
    "        chosen.append('human speaker')\n",
    "    if np.where(x == (max(x)))[0]==1:\n",
    "        chosen.append('animal')\n",
    "    if np.where(x == (max(x)))[0]==2:\n",
    "        chosen.append('music')\n",
    "    if np.where(x == (max(x)))[0]==3:\n",
    "        chosen.append('vehicle')\n",
    "        \n",
    "#[human speaker, animal, music, vehicle] \n",
    "print(\"\\n =========================using 1280/10-100-1000 ONN ========================== \\n\")\n",
    "print(\"\\nthe order of the Real labels is [speech, animal, music, vehicle]\\n\")\n",
    "for i in ytidNew[0:20]:    \n",
    "    print('{0}.) youtube id {1} has (a/an) {2} , Real label is {3}'.format(ind, i, chosen[ind], dummy_y[ind]))\n",
    "    ind+=1\n",
    "\n",
    "r = randrange(0,20)\n",
    "    \n",
    "print('\\n ========= \\n youtube video to verify prediction no {0} ({1}): \\n'.format(r, chosen[r]))\n",
    "\n",
    "YouTubeVideo(ytidNew[r]) # functionality imported from an IPython.display library"
   ]
  },
  {
   "cell_type": "code",
   "execution_count": 35,
   "metadata": {},
   "outputs": [],
   "source": [
    "#model.compile(optimizer='adam', loss='sparse_categorical_crossentropy', metrics=['accuracy'])\n",
    "\n",
    "#model.compile(optimizer='adam', loss='categorical_crossentropy', metrics=['accuracy'])\n",
    "\n",
    "model.compile(optimizer='adam', loss='binary_crossentropy', metrics=['accuracy'])"
   ]
  },
  {
   "cell_type": "code",
   "execution_count": 36,
   "metadata": {
    "scrolled": false
   },
   "outputs": [
    {
     "name": "stdout",
     "output_type": "stream",
     "text": [
      "Epoch 1/10\n",
      "3109/3109 [==============================]3109/3109 [==============================] - 12s 4ms/step - loss: 0.5157 - acc: 0.7684\n",
      "\n",
      "Epoch 2/10\n",
      "3109/3109 [==============================]3109/3109 [==============================] - 13s 4ms/step - loss: 0.3303 - acc: 0.8572\n",
      "\n",
      "Epoch 3/10\n",
      "3109/3109 [==============================]3109/3109 [==============================] - 12s 4ms/step - loss: 0.2533 - acc: 0.8980\n",
      "\n",
      "Epoch 4/10\n",
      "3109/3109 [==============================]3109/3109 [==============================] - 12s 4ms/step - loss: 0.1951 - acc: 0.9246\n",
      "\n",
      "Epoch 5/10\n",
      "3109/3109 [==============================]3109/3109 [==============================] - 11s 4ms/step - loss: 0.1502 - acc: 0.9445\n",
      "\n",
      "Epoch 6/10\n",
      "3109/3109 [==============================]3109/3109 [==============================] - 13s 4ms/step - loss: 0.1061 - acc: 0.9609\n",
      "\n",
      "Epoch 7/10\n",
      "3109/3109 [==============================]3109/3109 [==============================] - 12s 4ms/step - loss: 0.0776 - acc: 0.9738\n",
      "\n",
      "Epoch 8/10\n",
      "3109/3109 [==============================]3109/3109 [==============================] - 12s 4ms/step - loss: 0.0532 - acc: 0.9821\n",
      "\n",
      "Epoch 9/10\n",
      "3109/3109 [==============================]3109/3109 [==============================] - 13s 4ms/step - loss: 0.0274 - acc: 0.9916\n",
      "\n",
      "Epoch 10/10\n",
      "3109/3109 [==============================]3109/3109 [==============================] - 12s 4ms/step - loss: 0.0153 - acc: 0.9964\n",
      "\n",
      "2073/2073 [==============================]2073/2073 [==============================] - 1s 386us/step\n",
      "\n",
      "0.921490593371734\n"
     ]
    }
   ],
   "source": [
    "### \n",
    "#batch size 20 with 10 epochs was good\n",
    "\n",
    "print(\"\\n =========================using CNN ========================== \\n\")\n",
    "model.fit(xtr, np.array(ytr), shuffle=True, batch_size=20, epochs=10)\n",
    "\n",
    "test_loss, test_acc = model.evaluate(xte, np.array(yte))\n",
    "print(test_acc)"
   ]
  },
  {
   "cell_type": "code",
   "execution_count": 37,
   "metadata": {},
   "outputs": [
    {
     "name": "stdout",
     "output_type": "stream",
     "text": [
      "\n",
      "the order of the Real labels is [speech, animal, music, vehicle]\n",
      "\n",
      "0.) youtube id 5rks4FNDYPw has (a/an) music , Real label is [0. 0. 1. 0.]\n",
      "1.) youtube id 0WYSS13Hqy8 has (a/an) music , Real label is [0. 0. 1. 0.]\n",
      "2.) youtube id hZYFGJ2Tr_g has (a/an) music , Real label is [0. 0. 1. 0.]\n",
      "3.) youtube id 3gFQwviPv9g has (a/an) human speaker , Real label is [1. 0. 0. 0.]\n",
      "4.) youtube id MeAykJrFfJs has (a/an) music , Real label is [0. 0. 1. 0.]\n",
      "5.) youtube id Lfl2GhUJsoY has (a/an) human speaker , Real label is [1. 0. 0. 0.]\n",
      "6.) youtube id 5G05PSrnr1o has (a/an) vehicle , Real label is [0. 0. 0. 1.]\n",
      "7.) youtube id 5X6q35fYKLc has (a/an) human speaker , Real label is [1. 0. 0. 0.]\n",
      "8.) youtube id Bg0gtKsMV6E has (a/an) vehicle , Real label is [0. 0. 0. 1.]\n",
      "9.) youtube id CCPJa-FjWho has (a/an) human speaker , Real label is [0. 0. 1. 0.]\n",
      "10.) youtube id PJf16pkFAuI has (a/an) human speaker , Real label is [1. 0. 0. 0.]\n",
      "11.) youtube id lKS7fQ42Zn4 has (a/an) music , Real label is [0. 0. 1. 0.]\n",
      "12.) youtube id Y9kHCgC121c has (a/an) animal , Real label is [0. 1. 0. 0.]\n",
      "13.) youtube id DiP_I4tqjqs has (a/an) human speaker , Real label is [1. 0. 0. 0.]\n",
      "14.) youtube id gfQnUI-s6po has (a/an) vehicle , Real label is [0. 0. 0. 1.]\n",
      "15.) youtube id g2W2pUy7O5k has (a/an) music , Real label is [0. 0. 1. 0.]\n",
      "16.) youtube id EL8H2Q62v3o has (a/an) music , Real label is [0. 0. 1. 0.]\n",
      "17.) youtube id I5lkr3d8yO8 has (a/an) music , Real label is [1. 0. 0. 0.]\n",
      "18.) youtube id TEuWnyMj3XQ has (a/an) human speaker , Real label is [1. 0. 0. 0.]\n",
      "19.) youtube id lW2WOgt-P9U has (a/an) music , Real label is [0. 0. 1. 0.]\n",
      "\n",
      " ========= \n",
      " youtube video to verify prediction no 18 (human speaker): \n",
      "\n"
     ]
    },
    {
     "data": {
      "image/jpeg": "[encoded data removed]",
      "text/html": [
       "\n",
       "        <iframe\n",
       "            width=\"400\"\n",
       "            height=\"300\"\n",
       "            src=\"https://www.youtube.com/embed/TEuWnyMj3XQ\"\n",
       "            frameborder=\"0\"\n",
       "            allowfullscreen\n",
       "        ></iframe>\n",
       "        "
      ],
      "text/plain": [
       "<IPython.lib.display.YouTubeVideo at 0x7f08d5c8cdd8>"
      ]
     },
     "execution_count": 37,
     "metadata": {},
     "output_type": "execute_result"
    }
   ],
   "source": [
    "# just predicting first ten videos\n",
    "pred = model.predict(X[0:20])\n",
    "chosen = []\n",
    "ind=0\n",
    "for x in pred:\n",
    "    if np.where(x == (max(x)))[0]==0:\n",
    "        chosen.append('human speaker')\n",
    "    if np.where(x == (max(x)))[0]==1:\n",
    "        chosen.append('animal')\n",
    "    if np.where(x == (max(x)))[0]==2:\n",
    "        chosen.append('music')\n",
    "    if np.where(x == (max(x)))[0]==3:\n",
    "        chosen.append('vehicle')\n",
    "        \n",
    "#[human speaker, animal, music, vehicle]  \n",
    "print(\"\\nthe order of the Real labels is [speech, animal, music, vehicle]\\n\")\n",
    "for i in ytidNew[0:20]:    \n",
    "    print('{0}.) youtube id {1} has (a/an) {2} , Real label is {3}'.format(ind, i, chosen[ind], dummy_y[ind]))\n",
    "    ind+=1\n",
    "\n",
    "r = randrange(0,20)\n",
    "    \n",
    "print('\\n ========= \\n youtube video to verify prediction no {0} ({1}): \\n'.format(r, chosen[r]))\n",
    "\n",
    "YouTubeVideo(ytidNew[r]) # functionality imported from an IPython.display library"
   ]
  },
  {
   "cell_type": "code",
   "execution_count": 22,
   "metadata": {},
   "outputs": [
    {
     "data": {
      "text/plain": [
       "array([0., 0., 1., 0.], dtype=float32)"
      ]
     },
     "execution_count": 22,
     "metadata": {},
     "output_type": "execute_result"
    },
    {
     "data": {
      "image/png": "[encoded data removed]",
      "text/plain": [
       "<Figure size 1440x720 with 1 Axes>"
      ]
     },
     "metadata": {
      "needs_background": "light"
     },
     "output_type": "display_data"
    }
   ],
   "source": [
    "plt.figure(figsize=(20,10))\n",
    "plt.imshow(X[0].reshape(10,128))\n",
    "plt.title('Heatmap of the input vector values')\n",
    "plt.xlabel('index of 128-length vector element')\n",
    "plt.ylabel('time (seconds)')\n",
    "dummy_y[0]"
   ]
  },
  {
   "cell_type": "code",
   "execution_count": null,
   "metadata": {},
   "outputs": [],
   "source": []
  }
 ],
 "metadata": {
  "kernelspec": {
   "display_name": "Python 3",
   "language": "python",
   "name": "python3"
  },
  "language_info": {
   "codemirror_mode": {
    "name": "ipython",
    "version": 3
   },
   "file_extension": ".py",
   "mimetype": "text/x-python",
   "name": "python",
   "nbconvert_exporter": "python",
   "pygments_lexer": "ipython3",
   "version": "3.6.8"
  }
 },
 "nbformat": 4,
 "nbformat_minor": 2
}
