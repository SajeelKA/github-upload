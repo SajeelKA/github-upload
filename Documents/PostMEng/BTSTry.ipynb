{
 "cells": [
  {
   "cell_type": "code",
   "execution_count": 1,
   "metadata": {
    "executionInfo": {
     "elapsed": 2995,
     "status": "ok",
     "timestamp": 1621108657581,
     "user": {
      "displayName": "Sajeel Khalid",
      "photoUrl": "",
      "userId": "17554249077233151040"
     },
     "user_tz": 240
    },
    "id": "UipF4UJtXH9R"
   },
   "outputs": [],
   "source": [
    "import torch\n",
    "import numpy as np\n",
    "import os"
   ]
  },
  {
   "cell_type": "code",
   "execution_count": 14,
   "metadata": {
    "colab": {
     "base_uri": "https://localhost:8080/"
    },
    "executionInfo": {
     "elapsed": 589,
     "status": "ok",
     "timestamp": 1621109525015,
     "user": {
      "displayName": "Sajeel Khalid",
      "photoUrl": "",
      "userId": "17554249077233151040"
     },
     "user_tz": 240
    },
    "id": "TIRLMtHNXH_0",
    "outputId": "0277bc77-c24d-489c-c7f3-cff759a0700e"
   },
   "outputs": [
    {
     "data": {
      "text/plain": [
       "((5202, 47), (79, 46))"
      ]
     },
     "execution_count": 14,
     "metadata": {},
     "output_type": "execute_result"
    }
   ],
   "source": [
    "pathReq=os.getcwd()+'/'\n",
    "# stats=np.load(pathReq+'allStats20210531BvsP.npy')\n",
    "stats=np.load(pathReq+'allStats20210609BvsP.npy')\n",
    "\n",
    "forInference=np.load(pathReq+'statsForInference.npy')\n",
    "stats.shape,forInference.shape"
   ]
  },
  {
   "cell_type": "code",
   "execution_count": 15,
   "metadata": {},
   "outputs": [],
   "source": [
    "from sklearn.utils import shuffle\n",
    "\n",
    "stats=shuffle(stats)"
   ]
  },
  {
   "cell_type": "code",
   "execution_count": 16,
   "metadata": {},
   "outputs": [],
   "source": [
    "# h=['PA','AB','R','H','2B','3B','HR',\n",
    "#            'RBI','BB','IBB','SO','HBP','SH','SF','GDP','SB','CS']#batting only\n",
    "# # hP=['Dec','IP','H_','R_','ER','BB_','SO_','HR_','HBP_','AB_','2B_','3B_','IBB_','Pit','Str','StL','StS']#had to add underscores to some to separate from h\n",
    "# hP=['W','IP','H_', 'R_', 'ER_', 'BB_', 'SO_', 'HR_', 'HBP_', 'AB_', '2B_', '3B_', 'IBB_','Pit', 'Str', 'StL', 'StS']\n",
    "# hBvsP=['PA2','AB2','H2', '1B2','2B2','3B2','HR2','BB2','SO2','AVG2','OBP2','SLG2'] #BvsP\n",
    "# hTotal=h+hP+hBvsP\n",
    "\n",
    "\n",
    "\n",
    "# m=dict()\n",
    "\n",
    "# for i, hh in enumerate(hTotal):\n",
    "#     m[hh]=i\n",
    "    \n",
    "# print(m)\n",
    "\n",
    "# stats=stats[np.where(stats[:,m['PA']]>0 )[0]]\n",
    "# stats=stats[np.where(stats[:,m['IP']]>0)[0]]\n",
    "# stats=stats[np.where(stats[:,m['PA2']]>0)[0]]\n",
    "\n",
    "# forInference=forInference[np.where(forInference[:,m['PA']]>0 )[0]]\n",
    "# forInference=forInference[np.where(forInference[:,m['IP']]>0)[0]]\n",
    "# forInference=forInference[np.where(forInference[:,m['PA2']]>0)[0]]\n",
    "\n",
    "# toCount=hTotal\n",
    "\n",
    "# # toCount=['PA','AB','R','H','2B','3B','HR',\n",
    "# #          'PA2','AB2','H2', '1B2','2B2','3B2','HR2','BB2','SO2'\n",
    "# #         ]\n",
    "\n",
    "\n",
    "# finalFeatures=np.zeros((stats.shape[0],len(toCount)))\n",
    "# finalInference=np.zeros((forInference.shape[0],len(toCount)))\n",
    "# for i, cat in enumerate(toCount):\n",
    "#     if cat in h: # to normalize hitting stats by PA\n",
    "#         finalFeatures[:,i]=stats[:, m[cat]]/stats[:, m['PA']]\n",
    "#         finalInference[:,i]=forInference[:,m[cat]]/forInference[:, m['PA']]\n",
    "#     if cat in hP: # to normalize pitching stats by IP\n",
    "#         finalFeatures[:,i]=stats[:, m[cat]]/stats[:, m['IP']]\n",
    "#         finalInference[:,i]=forInference[:,m[cat]]/forInference[:, m['IP']]\n",
    "#     if cat in hBvsP: # to normalize BvsP stats by PA2\n",
    "#         finalFeatures[:,i]=stats[:, m[cat]]/stats[:, m['PA2']]\n",
    "#         finalInference[:,i]=forInference[:,m[cat]]/forInference[:, m['PA2']]\n",
    "    "
   ]
  },
  {
   "cell_type": "code",
   "execution_count": 17,
   "metadata": {},
   "outputs": [
    {
     "name": "stdout",
     "output_type": "stream",
     "text": [
      "{'PA': 0, 'AB': 1, 'R': 2, 'H': 3, '2B': 4, '3B': 5, 'HR': 6, 'RBI': 7, 'BB': 8, 'IBB': 9, 'SO': 10, 'HBP': 11, 'SH': 12, 'SF': 13, 'GDP': 14, 'SB': 15, 'CS': 16, 'W': 17, 'IP': 18, 'H_': 19, 'R_': 20, 'ER_': 21, 'BB_': 22, 'SO_': 23, 'HR_': 24, 'HBP_': 25, 'AB_': 26, '2B_': 27, '3B_': 28, 'IBB_': 29, 'Pit': 30, 'Str': 31, 'StL': 32, 'StS': 33, 'PA2': 34, 'AB2': 35, 'H2': 36, '1B2': 37, '2B2': 38, '3B2': 39, 'HR2': 40, 'BB2': 41, 'SO2': 42, 'AVG2': 43, 'OBP2': 44, 'SLG2': 45}\n"
     ]
    }
   ],
   "source": [
    "def normStats(stats, forInference):\n",
    "    \n",
    "    h=['PA','AB','R','H','2B','3B','HR',\n",
    "           'RBI','BB','IBB','SO','HBP','SH','SF','GDP','SB','CS']#batting only\n",
    "    # hP=['Dec','IP','H_','R_','ER','BB_','SO_','HR_','HBP_','AB_','2B_','3B_','IBB_','Pit','Str','StL','StS']#had to add underscores to some to separate from h\n",
    "    hP=['W','IP','H_', 'R_', 'ER_', 'BB_', 'SO_', 'HR_', 'HBP_', 'AB_', '2B_', '3B_', 'IBB_','Pit', 'Str', 'StL', 'StS']\n",
    "    hBvsP=['PA2','AB2','H2', '1B2','2B2','3B2','HR2','BB2','SO2','AVG2','OBP2','SLG2'] #BvsP\n",
    "    hTotal=h+hP+hBvsP\n",
    "    m=dict()\n",
    "    for i, hh in enumerate(hTotal):\n",
    "        m[hh]=i\n",
    "    print(m)\n",
    "    hTotal=h+hP+hBvsP\n",
    "    toCount=hTotal\n",
    "\n",
    "    toCount=h+hP#['PA','AB','R','H','2B','3B','HR','RBI','BB']\n",
    "             \n",
    "    \n",
    "    finalFeatures=np.zeros((stats.shape[0],len(toCount)))\n",
    "    finalInference=np.zeros((forInference.shape[0],len(toCount)))     \n",
    "    \n",
    "    \n",
    "    for r in range(finalFeatures.shape[0]):        \n",
    "        for i, cat in enumerate(toCount):\n",
    "            if cat in h: # to normalize hitting stats by PA\n",
    "                if stats[r, m['PA']]>0:\n",
    "                    finalFeatures[r,m[cat]]=stats[r, m[cat]]/stats[r, m['PA']] \n",
    "                else:\n",
    "                    finalFeatures[r,m[cat]]=stats[r, m[cat]]\n",
    "            if cat in hP: # to normalize pitching stats by IP\n",
    "                if stats[r, m['IP']]>0:\n",
    "                    finalFeatures[r,m[cat]]=stats[r, m[cat]]/stats[r, m['IP']]  \n",
    "                else:\n",
    "                    finalFeatures[r,m[cat]]=stats[r, m[cat]]\n",
    "            if cat in hBvsP: # to normalize BvsP stats by PA2\n",
    "                if stats[r, m['PA2']]>0:\n",
    "                    finalFeatures[r,m[cat]]=stats[r, m[cat]]/stats[r, m['PA2']]\n",
    "                else:\n",
    "                    finalFeatures[r,m[cat]]=stats[r, m[cat]]\n",
    "                \n",
    "    for r in range(finalInference.shape[0]):\n",
    "        for i, cat in enumerate(toCount):            \n",
    "            if cat in h: # to normalize hitting stats by PA                \n",
    "                if forInference[r, m['PA']]>0:\n",
    "                    finalInference[r,m[cat]]=forInference[r,m[cat]]/forInference[r, m['PA']]\n",
    "                else:\n",
    "                    finalInference[r,m[cat]]=forInference[r,m[cat]]\n",
    "            if cat in hP: # to normalize pitching stats by IP                \n",
    "                if forInference[r, m['IP']]>0:\n",
    "                    finalInference[r,m[cat]]=forInference[r,m[cat]]/forInference[r, m['IP']]\n",
    "                else:\n",
    "                    finalInference[r,m[cat]]=forInference[r,m[cat]]\n",
    "            if cat in hBvsP: # to normalize BvsP stats by PA2      \n",
    "                if forInference[r, m['PA2']]>0:\n",
    "                    finalInference[r,m[cat]]=forInference[r,m[cat]]/forInference[r, m['PA2']]\n",
    "                else:\n",
    "                    finalInference[r,m[cat]]=forInference[r,m[cat]]\n",
    "\n",
    "    return finalFeatures, finalInference\n",
    "\n",
    "finalFeatures, finalInference=normStats(stats, forInference)\n",
    "\n",
    "\n",
    "\n",
    "    "
   ]
  },
  {
   "cell_type": "code",
   "execution_count": 18,
   "metadata": {},
   "outputs": [],
   "source": [
    "h=['PA','AB','R','H','2B','3B','HR',\n",
    "       'RBI','BB','IBB','SO','HBP','SH','SF','GDP','SB','CS']#batting only\n",
    "# hP=['Dec','IP','H_','R_','ER','BB_','SO_','HR_','HBP_','AB_','2B_','3B_','IBB_','Pit','Str','StL','StS']#had to add underscores to some to separate from h\n",
    "hP=['W','IP','H_', 'R_', 'ER_', 'BB_', 'SO_', 'HR_', 'HBP_', 'AB_', '2B_', '3B_', 'IBB_','Pit', 'Str', 'StL', 'StS']\n",
    "hBvsP=['PA2','AB2','H2', '1B2','2B2','3B2','HR2','BB2','SO2','AVG2','OBP2','SLG2'] #BvsP\n",
    "hTotal=h+hP+hBvsP\n",
    "m=dict()\n",
    "for i, hh in enumerate(hTotal):\n",
    "    m[hh]=i\n",
    "        \n",
    "# finalFeatures[np.where(finalFeatures[:,m['PA2']]==0)].shape"
   ]
  },
  {
   "cell_type": "code",
   "execution_count": null,
   "metadata": {},
   "outputs": [],
   "source": []
  },
  {
   "cell_type": "code",
   "execution_count": 7,
   "metadata": {},
   "outputs": [],
   "source": [
    "# finalFeatures[-10:]"
   ]
  },
  {
   "cell_type": "code",
   "execution_count": 19,
   "metadata": {
    "executionInfo": {
     "elapsed": 262,
     "status": "ok",
     "timestamp": 1621109530279,
     "user": {
      "displayName": "Sajeel Khalid",
      "photoUrl": "",
      "userId": "17554249077233151040"
     },
     "user_tz": 240
    },
    "id": "ELRAqMUxXLRC"
   },
   "outputs": [
    {
     "name": "stderr",
     "output_type": "stream",
     "text": [
      "/home/adimn/anaconda3/envs/venv-base/lib/python3.7/site-packages/ipykernel_launcher.py:34: UserWarning: To copy construct from a tensor, it is recommended to use sourceTensor.clone().detach() or sourceTensor.clone().detach().requires_grad_(True), rather than torch.tensor(sourceTensor).\n"
     ]
    }
   ],
   "source": [
    "from sklearn.model_selection import train_test_split\n",
    "from sklearn.preprocessing import StandardScaler\n",
    "from sklearn.preprocessing import MinMaxScaler\n",
    "\n",
    "features=torch.tensor(finalFeatures) #torch.tensor(stats[:,skippingFrom:skippingTo])\n",
    "labels=torch.tensor(stats[:,-1])\n",
    "\n",
    "forInferenceStats=torch.tensor(finalInference) #torch.tensor(forInference[:,skippingFrom:skippingTo])\n",
    "\n",
    "pctTotal=(1-torch.mean(labels))*2\n",
    "finalNo=(features.size()[0]*pctTotal).int()\n",
    "\n",
    "balancedFeatures=features\n",
    "balancedLabels=labels\n",
    "# balancedFeatures=torch.zeros(0,features.size()[1])\n",
    "# balancedLabels=torch.zeros(0,1)\n",
    "\n",
    "# c0=0\n",
    "# c1=0\n",
    "\n",
    "# for smpl, l in enumerate(labels):\n",
    "#   if l==1 and c1<(finalNo//2):\n",
    "#     #balancedFeatures[smpl]=features[smpl]\n",
    "#     balancedFeatures=np.vstack((balancedFeatures, features[smpl]))\n",
    "#     balancedLabels=np.vstack((balancedLabels, l))\n",
    "# #     balancedLabels[smpl]=l\n",
    "#     c1+=1\n",
    "#   if l==0 and (c1+c0)<finalNo:\n",
    "#     balancedFeatures=np.vstack((balancedFeatures, features[smpl]))\n",
    "#     balancedLabels=np.vstack((balancedLabels, l))\n",
    "#     c0+=1\n",
    "\n",
    "   \n",
    "X_train, X_test, y_train, y_test = train_test_split(torch.tensor(balancedFeatures), torch.tensor(balancedLabels.squeeze()), test_size=0.2, random_state=42)\n",
    "\n",
    "# X_train, X_test, y_train, y_test = train_test_split(features, labels, test_size=0.1, random_state=42)\n",
    "\n",
    "scaler = StandardScaler()\n",
    "\n",
    "x_norm=torch.tensor(scaler.fit_transform(X_train))\n",
    "\n",
    "x_norm_test=torch.tensor(scaler.fit_transform(X_test))\n",
    "\n",
    "inference_norm=torch.tensor(scaler.fit_transform(forInferenceStats))\n"
   ]
  },
  {
   "cell_type": "code",
   "execution_count": 20,
   "metadata": {},
   "outputs": [],
   "source": [
    "# y_train"
   ]
  },
  {
   "cell_type": "code",
   "execution_count": 21,
   "metadata": {},
   "outputs": [
    {
     "data": {
      "text/plain": [
       "(tensor(0.6688, dtype=torch.float64), tensor(0.6244, dtype=torch.float64))"
      ]
     },
     "execution_count": 21,
     "metadata": {},
     "output_type": "execute_result"
    }
   ],
   "source": [
    "torch.mean(y_train),torch.mean(y_test)"
   ]
  },
  {
   "cell_type": "code",
   "execution_count": 22,
   "metadata": {},
   "outputs": [],
   "source": [
    "# balancedFeatures[:100], finalNo,pctTotal,c1,c0,np.mean(balancedLabels)"
   ]
  },
  {
   "cell_type": "code",
   "execution_count": 23,
   "metadata": {
    "colab": {
     "base_uri": "https://localhost:8080/"
    },
    "executionInfo": {
     "elapsed": 268,
     "status": "ok",
     "timestamp": 1621109531387,
     "user": {
      "displayName": "Sajeel Khalid",
      "photoUrl": "",
      "userId": "17554249077233151040"
     },
     "user_tz": 240
    },
    "id": "fIDukiQ1_IPf",
    "outputId": "d2598c48-04fb-4d3e-9a35-177b5fb751b6"
   },
   "outputs": [
    {
     "data": {
      "text/plain": [
       "(torch.Size([4161, 34]), torch.Size([1041, 34]), torch.Size([79, 34]))"
      ]
     },
     "execution_count": 23,
     "metadata": {},
     "output_type": "execute_result"
    }
   ],
   "source": [
    "x_norm.shape,x_norm_test.shape,inference_norm.shape"
   ]
  },
  {
   "cell_type": "code",
   "execution_count": null,
   "metadata": {},
   "outputs": [],
   "source": []
  },
  {
   "cell_type": "code",
   "execution_count": null,
   "metadata": {
    "colab": {
     "base_uri": "https://localhost:8080/"
    },
    "executionInfo": {
     "elapsed": 104461,
     "status": "ok",
     "timestamp": 1621108791101,
     "user": {
      "displayName": "Sajeel Khalid",
      "photoUrl": "",
      "userId": "17554249077233151040"
     },
     "user_tz": 240
    },
    "id": "_pYFU92LXLVS",
    "outputId": "14a0e254-2572-434d-e364-e51aeb8b2c63"
   },
   "outputs": [
    {
     "name": "stderr",
     "output_type": "stream",
     "text": [
      "/home/adimn/anaconda3/envs/venv-base/lib/python3.7/site-packages/ipykernel_launcher.py:48: UserWarning: To copy construct from a tensor, it is recommended to use sourceTensor.clone().detach() or sourceTensor.clone().detach().requires_grad_(True), rather than torch.tensor(sourceTensor).\n",
      "/home/adimn/anaconda3/envs/venv-base/lib/python3.7/site-packages/ipykernel_launcher.py:49: UserWarning: To copy construct from a tensor, it is recommended to use sourceTensor.clone().detach() or sourceTensor.clone().detach().requires_grad_(True), rather than torch.tensor(sourceTensor).\n"
     ]
    },
    {
     "name": "stdout",
     "output_type": "stream",
     "text": [
      "epoch= 0 avg loss= tensor(0.6438, dtype=torch.float64) acc =  0.6560922855082912\n",
      "epoch= 1 avg loss= tensor(0.6384, dtype=torch.float64) acc =  0.6630617639990387\n",
      "epoch= 2 avg loss= tensor(0.6360, dtype=torch.float64) acc =  0.6650644877032764\n",
      "epoch= 3 avg loss= tensor(0.6346, dtype=torch.float64) acc =  0.6665465032444124\n",
      "epoch= 4 avg loss= tensor(0.6335, dtype=torch.float64) acc =  0.6672915164623888\n",
      "epoch= 5 avg loss= tensor(0.6326, dtype=torch.float64) acc =  0.6679083553632941\n",
      "epoch= 6 avg loss= tensor(0.6318, dtype=torch.float64) acc =  0.6684519517973014\n",
      "epoch= 7 avg loss= tensor(0.6311, dtype=torch.float64) acc =  0.6685892814227349\n",
      "epoch= 8 avg loss= tensor(0.6304, dtype=torch.float64) acc =  0.6688563112499666\n",
      "epoch= 9 avg loss= tensor(0.6298, dtype=torch.float64) acc =  0.6690218697428503\n",
      "epoch= 10 avg loss= tensor(0.6292, dtype=torch.float64) acc =  0.6692010224814839\n",
      "epoch= 11 avg loss= tensor(0.6287, dtype=torch.float64) acc =  0.6694304253785148\n",
      "epoch= 12 avg loss= tensor(0.6282, dtype=torch.float64) acc =  0.6697354556042372\n",
      "epoch= 13 avg loss= tensor(0.6278, dtype=torch.float64) acc =  0.6700484086929653\n",
      "epoch= 14 avg loss= tensor(0.6273, dtype=torch.float64) acc =  0.6703196347031963\n",
      "epoch= 15 avg loss= tensor(0.6270, dtype=torch.float64) acc =  0.6705419370343667\n",
      "epoch= 16 avg loss= tensor(0.6266, dtype=torch.float64) acc =  0.6707522230233117\n",
      "epoch= 17 avg loss= tensor(0.6263, dtype=torch.float64) acc =  0.6708990894282891\n",
      "epoch= 18 avg loss= tensor(0.6259, dtype=torch.float64) acc =  0.6709925498678202\n",
      "epoch= 19 avg loss= tensor(0.6256, dtype=torch.float64) acc =  0.6710766642633982\n",
      "epoch= 20 avg loss= tensor(0.6253, dtype=torch.float64) acc =  0.6711069912223481\n",
      "epoch= 21 avg loss= tensor(0.6249, dtype=torch.float64) acc =  0.6712219527648511\n",
      "epoch= 22 avg loss= tensor(0.6246, dtype=torch.float64) acc =  0.6712537746988078\n",
      "epoch= 23 avg loss= tensor(0.6243, dtype=torch.float64) acc =  0.6712529039493711\n",
      "epoch= 24 avg loss= tensor(0.6240, dtype=torch.float64) acc =  0.6712713290074501\n",
      "epoch= 25 avg loss= tensor(0.6236, dtype=torch.float64) acc =  0.6712606067328489\n",
      "epoch= 26 avg loss= tensor(0.6234, dtype=torch.float64) acc =  0.6713485896374625\n",
      "epoch= 27 avg loss= tensor(0.6231, dtype=torch.float64) acc =  0.671438871150479\n",
      "epoch= 28 avg loss= tensor(0.6228, dtype=torch.float64) acc =  0.6715726491476685\n",
      "epoch= 29 avg loss= tensor(0.6225, dtype=torch.float64) acc =  0.6716414323479932\n",
      "epoch= 30 avg loss= tensor(0.6222, dtype=torch.float64) acc =  0.6717212828802009\n",
      "epoch= 31 avg loss= tensor(0.6220, dtype=torch.float64) acc =  0.6718186733958184\n",
      "epoch= 32 avg loss= tensor(0.6218, dtype=torch.float64) acc =  0.6719392919825509\n",
      "epoch= 33 avg loss= tensor(0.6215, dtype=torch.float64) acc =  0.6720952259779182\n",
      "epoch= 34 avg loss= tensor(0.6213, dtype=torch.float64) acc =  0.672255982421808\n",
      "epoch= 35 avg loss= tensor(0.6210, dtype=torch.float64) acc =  0.6723944564607867\n",
      "epoch= 36 avg loss= tensor(0.6208, dtype=torch.float64) acc =  0.6725319407366992\n",
      "epoch= 37 avg loss= tensor(0.6205, dtype=torch.float64) acc =  0.67267483777938\n",
      "epoch= 38 avg loss= tensor(0.6203, dtype=torch.float64) acc =  0.6727549467275494\n",
      "epoch= 39 avg loss= tensor(0.6201, dtype=torch.float64) acc =  0.672861091083874\n",
      "epoch= 40 avg loss= tensor(0.6199, dtype=torch.float64) acc =  0.6729444727756578\n",
      "epoch= 41 avg loss= tensor(0.6197, dtype=torch.float64) acc =  0.6730009956397844\n",
      "epoch= 42 avg loss= tensor(0.6195, dtype=torch.float64) acc =  0.6730660675262543\n",
      "epoch= 43 avg loss= tensor(0.6193, dtype=torch.float64) acc =  0.6731063337047476\n",
      "epoch= 44 avg loss= tensor(0.6191, dtype=torch.float64) acc =  0.6731608320649417\n",
      "epoch= 45 avg loss= tensor(0.6189, dtype=torch.float64) acc =  0.6732025119379748\n",
      "epoch= 46 avg loss= tensor(0.6187, dtype=torch.float64) acc =  0.6732730982220927\n",
      "epoch= 47 avg loss= tensor(0.6185, dtype=torch.float64) acc =  0.6733357366017784\n",
      "epoch= 48 avg loss= tensor(0.6184, dtype=torch.float64) acc =  0.6734056275718651\n",
      "epoch= 49 avg loss= tensor(0.6182, dtype=torch.float64) acc =  0.6734775294400385\n",
      "epoch= 50 avg loss= tensor(0.6180, dtype=torch.float64) acc =  0.6735513239181757\n",
      "epoch= 51 avg loss= tensor(0.6178, dtype=torch.float64) acc =  0.6736130368069806\n",
      "epoch= 52 avg loss= tensor(0.6177, dtype=torch.float64) acc =  0.6736860243138215\n",
      "epoch= 53 avg loss= tensor(0.6175, dtype=torch.float64) acc =  0.6737830115623915\n",
      "epoch= 54 avg loss= tensor(0.6173, dtype=torch.float64) acc =  0.6739114286338511\n",
      "epoch= 55 avg loss= tensor(0.6172, dtype=torch.float64) acc =  0.6739880523225873\n",
      "epoch= 56 avg loss= tensor(0.6170, dtype=torch.float64) acc =  0.6740662037212715\n",
      "epoch= 57 avg loss= tensor(0.6169, dtype=torch.float64) acc =  0.6741416602441389\n",
      "epoch= 58 avg loss= tensor(0.6167, dtype=torch.float64) acc =  0.6742389989368592\n",
      "epoch= 59 avg loss= tensor(0.6166, dtype=torch.float64) acc =  0.6742970439798125\n",
      "epoch= 60 avg loss= tensor(0.6165, dtype=torch.float64) acc =  0.6743847041812931\n",
      "epoch= 61 avg loss= tensor(0.6163, dtype=torch.float64) acc =  0.674450155437201\n",
      "epoch= 62 avg loss= tensor(0.6162, dtype=torch.float64) acc =  0.6745097141636435\n",
      "epoch= 63 avg loss= tensor(0.6161, dtype=torch.float64) acc =  0.6745749218937755\n",
      "epoch= 64 avg loss= tensor(0.6159, dtype=torch.float64) acc =  0.6746492152404193\n",
      "epoch= 65 avg loss= tensor(0.6158, dtype=torch.float64) acc =  0.6746884854310954\n",
      "epoch= 66 avg loss= tensor(0.6157, dtype=torch.float64) acc =  0.674766040023387\n",
      "epoch= 67 avg loss= tensor(0.6156, dtype=torch.float64) acc =  0.6748059714152423\n",
      "epoch= 68 avg loss= tensor(0.6155, dtype=torch.float64) acc =  0.6748447453754497\n",
      "epoch= 69 avg loss= tensor(0.6154, dtype=torch.float64) acc =  0.6748858447488585\n",
      "epoch= 70 avg loss= tensor(0.6152, dtype=torch.float64) acc =  0.6749190166231709\n",
      "epoch= 71 avg loss= tensor(0.6151, dtype=torch.float64) acc =  0.6749712942935726\n",
      "epoch= 72 avg loss= tensor(0.6150, dtype=torch.float64) acc =  0.6750221396990318\n",
      "epoch= 73 avg loss= tensor(0.6149, dtype=torch.float64) acc =  0.6750488772839169\n",
      "epoch= 74 avg loss= tensor(0.6148, dtype=torch.float64) acc =  0.6751005367299527\n",
      "epoch= 75 avg loss= tensor(0.6147, dtype=torch.float64) acc =  0.6751508367168824\n",
      "epoch= 76 avg loss= tensor(0.6146, dtype=torch.float64) acc =  0.675171740059988\n",
      "epoch= 77 avg loss= tensor(0.6145, dtype=torch.float64) acc =  0.6752198374404574\n",
      "epoch= 78 avg loss= tensor(0.6144, dtype=torch.float64) acc =  0.6752758435015925\n",
      "epoch= 79 avg loss= tensor(0.6143, dtype=torch.float64) acc =  0.6753334534967556\n",
      "epoch= 80 avg loss= tensor(0.6142, dtype=torch.float64) acc =  0.6753777730305809\n",
      "epoch= 81 avg loss= tensor(0.6141, dtype=torch.float64) acc =  0.6754122191546357\n",
      "epoch= 82 avg loss= tensor(0.6140, dtype=torch.float64) acc =  0.675454521764057\n",
      "epoch= 83 avg loss= tensor(0.6139, dtype=torch.float64) acc =  0.6754757899314496\n",
      "epoch= 84 avg loss= tensor(0.6138, dtype=torch.float64) acc =  0.6755304861670696\n",
      "epoch= 85 avg loss= tensor(0.6137, dtype=torch.float64) acc =  0.6755671434080582\n",
      "epoch= 86 avg loss= tensor(0.6136, dtype=torch.float64) acc =  0.6756140074639441\n",
      "epoch= 87 avg loss= tensor(0.6135, dtype=torch.float64) acc =  0.6756379585326954\n",
      "epoch= 88 avg loss= tensor(0.6134, dtype=torch.float64) acc =  0.6756532704703115\n",
      "epoch= 89 avg loss= tensor(0.6134, dtype=torch.float64) acc =  0.6756815936340089\n",
      "epoch= 90 avg loss= tensor(0.6133, dtype=torch.float64) acc =  0.6757119352649273\n",
      "epoch= 91 avg loss= tensor(0.6132, dtype=torch.float64) acc =  0.6757390050468637\n",
      "epoch= 92 avg loss= tensor(0.6131, dtype=torch.float64) acc =  0.6757499877252419\n"
     ]
    }
   ],
   "source": [
    "from torch import nn\n",
    "import torch.optim as optim\n",
    "\n",
    "device = torch.device('cpu')\n",
    "if torch.cuda.is_available():\n",
    "    device = torch.device('cuda')\n",
    "\n",
    "net = nn.Sequential(\n",
    "      nn.Linear(features.shape[1], 5),\n",
    "      nn.ReLU(),    \n",
    "      nn.Linear(5,10),\n",
    "      nn.ReLU(),\n",
    "      nn.Linear(10,1),    \n",
    "      #nn.Dropout(p=0.5),\n",
    "      nn.Sigmoid(),\n",
    "      ).to(device)\n",
    "\n",
    "net=net.double()\n",
    "\n",
    "losses=[]\n",
    "\n",
    "correct=0\n",
    "count=0\n",
    "\n",
    "def train_gen(feat,lbl, batch=4):\n",
    "  fBatch=[]#torch.zeros(batch, feat.size()[1])\n",
    "  lBatch=[]#torch.zeros(lbl)\n",
    "  for i, f in enumerate(feat):   \n",
    "    fBatch.append(f.numpy())\n",
    "    lBatch.append(lbl[i].numpy())\n",
    "    if len(fBatch)==batch:\n",
    "      yield fBatch, lBatch\n",
    "      fBatch,lBatch=[],[]\n",
    "  \n",
    "batchSize=1\n",
    "\n",
    "epochs=100\n",
    "optimizer = optim.Adam(net.parameters(), lr=1e-3, weight_decay=1e-4)\n",
    "#(optimizer, step_size, gamma=0.1, last_epoch=-1, verbose=False)\n",
    "scheduler = torch.optim.lr_scheduler.StepLR(optimizer, 100, gamma=0.5, last_epoch=-1)\n",
    "\n",
    "criterion = nn.BCELoss()  \n",
    "\n",
    "for epoch in range(epochs):\n",
    "    #gen=train_gen(X_train,y_train,batchSize)\n",
    "    for sample, label in zip(x_norm, y_train):\n",
    "    #for sample, label in gen:\n",
    "        sample=torch.tensor(sample).to(device)\n",
    "        label=torch.tensor(label).to(device)\n",
    "        #label=torch.from_numpy(np.array(label)).to(device)\n",
    "        sample=sample.double()\n",
    "        label=label.double()\n",
    "        \n",
    "        output=net(sample)        \n",
    "        net.zero_grad()\n",
    "        target = label\n",
    "        #target = target.view(-1, 1)  # make it the same shape as output #this is for batches\n",
    "        target = target.view(1)  # make it the same shape as output \n",
    "        #print('pred:',output, 'pred shape:',output.shape, 'label:', target, 'label shape:', target.shape)            \n",
    "\n",
    "        # in your training loop:\n",
    "        optimizer.zero_grad()   # zero the gradient buffers\n",
    "\n",
    "        loss = criterion(output, target)\n",
    "        loss.backward()\n",
    "        optimizer.step()    # Does the update\n",
    "        \n",
    "        \n",
    "        losses.append(loss)\n",
    "        count+=batchSize\n",
    "        if (output>0.5 and label==1) or (output<=0.5 and label==0):\n",
    "              correct+=1\n",
    "    \n",
    "#     scheduler.step()\n",
    "    acc=correct/count\n",
    "    \n",
    "    print('epoch=' ,epoch, 'avg loss=', torch.mean(torch.tensor(losses)), 'acc = ', acc)\n"
   ]
  },
  {
   "cell_type": "code",
   "execution_count": null,
   "metadata": {},
   "outputs": [],
   "source": [
    "ind=100\n",
    "\n",
    "for x, y in zip(x_norm[:ind], y_train[:ind]):\n",
    "    print(y)"
   ]
  },
  {
   "cell_type": "code",
   "execution_count": null,
   "metadata": {
    "executionInfo": {
     "elapsed": 1169,
     "status": "ok",
     "timestamp": 1621108797850,
     "user": {
      "displayName": "Sajeel Khalid",
      "photoUrl": "",
      "userId": "17554249077233151040"
     },
     "user_tz": 240
    },
    "id": "zyfDUqzm5OmJ"
   },
   "outputs": [],
   "source": [
    "test=np.load(pathReq+'allStats20210528BvsP.npy')\n",
    "testfeats=test[:,:-1]\n",
    "\n",
    "finalFeatures, testfeats=normStats(stats, testfeats)\n",
    "\n",
    "x_norm_test2=torch.tensor(scaler.fit_transform(testfeats))\n",
    "y_test2=test[:,-1]"
   ]
  },
  {
   "cell_type": "code",
   "execution_count": null,
   "metadata": {},
   "outputs": [],
   "source": []
  },
  {
   "cell_type": "code",
   "execution_count": 72,
   "metadata": {
    "colab": {
     "base_uri": "https://localhost:8080/"
    },
    "executionInfo": {
     "elapsed": 1236,
     "status": "ok",
     "timestamp": 1621109987408,
     "user": {
      "displayName": "Sajeel Khalid",
      "photoUrl": "",
      "userId": "17554249077233151040"
     },
     "user_tz": 240
    },
    "id": "FMi9wXSNBWCG",
    "outputId": "d3c55a25-ccd2-406e-e559-9bc7768740ab"
   },
   "outputs": [
    {
     "data": {
      "text/plain": [
       "<All keys matched successfully>"
      ]
     },
     "execution_count": 72,
     "metadata": {},
     "output_type": "execute_result"
    }
   ],
   "source": [
    "# from datetime import datetime\n",
    "# dateReq=datetime.today().strftime('%Y-%m-%d')\n",
    "# PATH=pathReq + '/savedModels/Features46(3-5-1)'+dateReq+'.pth'\n",
    "\n",
    "# # for param_tensor in net.state_dict():\n",
    "# #     print(param_tensor, \"\\t\", net.state_dict()[param_tensor])\n",
    "\n",
    "# torch.save(net.state_dict(), PATH)\n",
    "# net.load_state_dict(torch.load(PATH))\n"
   ]
  },
  {
   "cell_type": "code",
   "execution_count": 32,
   "metadata": {
    "colab": {
     "base_uri": "https://localhost:8080/"
    },
    "executionInfo": {
     "elapsed": 845,
     "status": "ok",
     "timestamp": 1621109691222,
     "user": {
      "displayName": "Sajeel Khalid",
      "photoUrl": "",
      "userId": "17554249077233151040"
     },
     "user_tz": 240
    },
    "id": "dGgV0R-PBWg8",
    "outputId": "5583dd81-33eb-47b0-f757-7d3107a67b2f"
   },
   "outputs": [
    {
     "name": "stdout",
     "output_type": "stream",
     "text": [
      "pred test= 0.9430216678264681 label= tensor(1., dtype=torch.float64)\n",
      "pred test= 0.9824384272298328 label= tensor(1., dtype=torch.float64)\n",
      "pred test= 0.9267440607666423 label= tensor(1., dtype=torch.float64)\n",
      "pred test= 0.9233528852044969 label= tensor(0., dtype=torch.float64)\n",
      "pred test= 0.9114851432574353 label= tensor(0., dtype=torch.float64)\n",
      "pred test= 0.9687412599609398 label= tensor(1., dtype=torch.float64)\n",
      "pred test= 0.9389194672816609 label= tensor(1., dtype=torch.float64)\n",
      "pred test= 0.9520765150690819 label= tensor(1., dtype=torch.float64)\n",
      "pred test= 0.9456409786917822 label= tensor(1., dtype=torch.float64)\n",
      "pred test= 0.947383032100556 label= tensor(1., dtype=torch.float64)\n",
      "pred test= 0.9859727059948877 label= tensor(0., dtype=torch.float64)\n",
      "pred test= 0.9001065575941765 label= tensor(0., dtype=torch.float64)\n",
      "pred test= 0.9908971058783455 label= tensor(1., dtype=torch.float64)\n",
      "pred test= 0.9999433368889236 label= tensor(0., dtype=torch.float64)\n",
      "pred test= 0.9248123874926275 label= tensor(0., dtype=torch.float64)\n",
      "pred test= 0.9501506738678909 label= tensor(0., dtype=torch.float64)\n",
      "pred test= 0.9830627562745441 label= tensor(1., dtype=torch.float64)\n",
      "pred test= 0.9407658208749766 label= tensor(0., dtype=torch.float64)\n",
      "pred test= 0.999999999743546 label= tensor(1., dtype=torch.float64)\n",
      "pred test= 0.9414590384426026 label= tensor(0., dtype=torch.float64)\n",
      "pred test= 0.9169331135307526 label= tensor(0., dtype=torch.float64)\n",
      "pred test= 0.9498347525159834 label= tensor(1., dtype=torch.float64)\n",
      "pred test= 0.9999999995892761 label= tensor(0., dtype=torch.float64)\n",
      "pred test= 0.9941122976839035 label= tensor(0., dtype=torch.float64)\n",
      "pred test= 0.9982965149434984 label= tensor(1., dtype=torch.float64)\n"
     ]
    },
    {
     "data": {
      "text/plain": [
       "(13, 25, 0.52)"
      ]
     },
     "execution_count": 32,
     "metadata": {},
     "output_type": "execute_result"
    }
   ],
   "source": [
    "with torch.no_grad():\n",
    "    net.eval()\n",
    "    net.cpu()\n",
    "    indices=350\n",
    "    net(x_norm[:indices].cpu()),y_train[:indices],net(x_norm_test[:indices].cpu()),y_test[:indices]\n",
    "\n",
    "    # for i in range(indices):\n",
    "    #   print('pred=', net(x_norm[i].cpu()).item(),'label=', y_train[i])\n",
    "    \n",
    "    c=0\n",
    "    tp=0\n",
    "    for i in range(indices):\n",
    "      pred_score=net(x_norm_test[i].cpu()).item()\n",
    "      if pred_score >0.9:\n",
    "        print('pred test=', pred_score ,'label=', y_test[i])\n",
    "        if pred_score-y_test[i]<0.5:\n",
    "            tp+=1            \n",
    "        c+=1\n",
    "tp, c, (tp/c)"
   ]
  },
  {
   "cell_type": "code",
   "execution_count": 51,
   "metadata": {
    "executionInfo": {
     "elapsed": 251,
     "status": "ok",
     "timestamp": 1621109700931,
     "user": {
      "displayName": "Sajeel Khalid",
      "photoUrl": "",
      "userId": "17554249077233151040"
     },
     "user_tz": 240
    },
    "id": "_I6-x4RXTrIl"
   },
   "outputs": [],
   "source": [
    "net.eval()\n",
    "net.cpu()\n",
    "preds=net(inference_norm)"
   ]
  },
  {
   "cell_type": "code",
   "execution_count": 52,
   "metadata": {
    "colab": {
     "base_uri": "https://localhost:8080/"
    },
    "executionInfo": {
     "elapsed": 927,
     "status": "ok",
     "timestamp": 1621109703082,
     "user": {
      "displayName": "Sajeel Khalid",
      "photoUrl": "",
      "userId": "17554249077233151040"
     },
     "user_tz": 240
    },
    "id": "hJo-QiBmpHAw",
    "outputId": "62392626-49e4-4bdb-c0c0-dc35bda2ee4f"
   },
   "outputs": [
    {
     "data": {
      "text/plain": [
       "torch.Size([39, 33])"
      ]
     },
     "execution_count": 52,
     "metadata": {},
     "output_type": "execute_result"
    }
   ],
   "source": [
    "inference_norm.shape"
   ]
  },
  {
   "cell_type": "code",
   "execution_count": 53,
   "metadata": {
    "colab": {
     "base_uri": "https://localhost:8080/"
    },
    "executionInfo": {
     "elapsed": 265,
     "status": "ok",
     "timestamp": 1621109704772,
     "user": {
      "displayName": "Sajeel Khalid",
      "photoUrl": "",
      "userId": "17554249077233151040"
     },
     "user_tz": 240
    },
    "id": "-Vv6td_fWSFv",
    "outputId": "145f0f36-f082-4ee0-b288-e32025e95c97"
   },
   "outputs": [
    {
     "data": {
      "text/plain": [
       "torch.Size([39, 1])"
      ]
     },
     "execution_count": 53,
     "metadata": {},
     "output_type": "execute_result"
    }
   ],
   "source": [
    "\n",
    "preds.shape"
   ]
  },
  {
   "cell_type": "code",
   "execution_count": 50,
   "metadata": {
    "executionInfo": {
     "elapsed": 239,
     "status": "ok",
     "timestamp": 1621109705486,
     "user": {
      "displayName": "Sajeel Khalid",
      "photoUrl": "",
      "userId": "17554249077233151040"
     },
     "user_tz": 240
    },
    "id": "cm_NV0jP-tsf"
   },
   "outputs": [],
   "source": [
    "pList=[['Miguel Rojas', 'Miami'],\n",
    " ['Austin Hays', 'Baltimore'],\n",
    " ['Raimel Tapia', 'Colorado'],\n",
    " ['Marcus Semien', 'Toronto'],\n",
    " ['Cedric Mullins', 'Baltimore'],\n",
    " ['Jake Cronenworth', 'San Diego'],\n",
    " ['Yoan Moncada', 'Chicago'],\n",
    " ['Teoscar Hernandez', 'Toronto'],\n",
    " ['Dylan Carlson', 'St. Louis'],\n",
    " ['Trey Mancini', 'Baltimore'],\n",
    " ['Tommy Edman', 'St. Louis'],\n",
    " ['Bo Bichette', 'Toronto'],\n",
    " ['Ramon Laureano', 'Oakland'],\n",
    " ['Kolten Wong', 'Milwaukee'],\n",
    " ['Randal Grichuk', 'Toronto'],\n",
    " ['Robbie Grossman', 'Detroit'],\n",
    " ['Nolan Arenado', 'St. Louis'],\n",
    " ['Tim Anderson', 'Chicago'],\n",
    " ['Vladimir Guerrero Jr.', 'Toronto']]\n",
    "\n"
   ]
  },
  {
   "cell_type": "code",
   "execution_count": 52,
   "metadata": {
    "colab": {
     "base_uri": "https://localhost:8080/"
    },
    "executionInfo": {
     "elapsed": 243,
     "status": "ok",
     "timestamp": 1621109720720,
     "user": {
      "displayName": "Sajeel Khalid",
      "photoUrl": "",
      "userId": "17554249077233151040"
     },
     "user_tz": 240
    },
    "id": "rzmbFIuPUcAh",
    "outputId": "8febb28f-bd4a-4170-a1ed-fd6b55ffe635"
   },
   "outputs": [
    {
     "name": "stdout",
     "output_type": "stream",
     "text": [
      "2021-05-24\n",
      "['Marcus Semien', 'Toronto'] 0.9260356487699175\n",
      "['Randal Grichuk', 'Toronto'] 0.8976579394915949\n",
      "['Ramon Laureano', 'Oakland'] 0.6988358214337181\n",
      "['Bo Bichette', 'Toronto'] 0.656616436729234\n",
      "['Teoscar Hernandez', 'Toronto'] 0.6280565786076028\n",
      "['Nolan Arenado', 'St. Louis'] 0.6077291051733582\n",
      "['Cedric Mullins', 'Baltimore'] 0.04456414760401088\n",
      "['Raimel Tapia', 'Colorado'] 0.029471240817665074\n",
      "['Jake Cronenworth', 'San Diego'] 0.025413258555440132\n",
      "['Miguel Rojas', 'Miami'] 0.0012692695407037352\n"
     ]
    }
   ],
   "source": [
    "from datetime import datetime\n",
    "print(datetime.today().strftime('%Y-%m-%d'))\n",
    "nnOut=[]\n",
    "for i, ind in enumerate(torch.topk(preds.reshape(1,preds.shape[0]),10)[1][0]):  \n",
    "  nnOut.append(pList[ind])\n",
    "  print(pList[ind],torch.topk(preds.reshape(1,preds.shape[0]),10)[0][0][i].item())"
   ]
  },
  {
   "cell_type": "code",
   "execution_count": null,
   "metadata": {
    "colab": {
     "base_uri": "https://localhost:8080/"
    },
    "executionInfo": {
     "elapsed": 1016,
     "status": "ok",
     "timestamp": 1621018584629,
     "user": {
      "displayName": "Sajeel Khalid",
      "photoUrl": "",
      "userId": "17554249077233151040"
     },
     "user_tz": 240
    },
    "id": "amsby5xLpi38",
    "outputId": "0e1b6ded-fbec-42f7-911d-283acb022d82"
   },
   "outputs": [
    {
     "data": {
      "text/plain": [
       "49"
      ]
     },
     "execution_count": 73,
     "metadata": {
      "tags": []
     },
     "output_type": "execute_result"
    }
   ],
   "source": [
    "len(pList)"
   ]
  },
  {
   "cell_type": "code",
   "execution_count": 133,
   "metadata": {
    "executionInfo": {
     "elapsed": 484,
     "status": "ok",
     "timestamp": 1621109096334,
     "user": {
      "displayName": "Sajeel Khalid",
      "photoUrl": "",
      "userId": "17554249077233151040"
     },
     "user_tz": 240
    },
    "id": "fcM2ZJZIcJHl"
   },
   "outputs": [],
   "source": [
    "from sklearn.linear_model import LogisticRegression\n",
    "\n",
    "clf = LogisticRegression(random_state=0, max_iter=1000).fit(x_norm, y_train)"
   ]
  },
  {
   "cell_type": "code",
   "execution_count": 134,
   "metadata": {
    "colab": {
     "base_uri": "https://localhost:8080/"
    },
    "executionInfo": {
     "elapsed": 414,
     "status": "ok",
     "timestamp": 1621109097784,
     "user": {
      "displayName": "Sajeel Khalid",
      "photoUrl": "",
      "userId": "17554249077233151040"
     },
     "user_tz": 240
    },
    "id": "Csxu5MBGq2SH",
    "outputId": "825a6ed4-301c-45e2-e6a9-a1f524725732"
   },
   "outputs": [
    {
     "data": {
      "text/plain": [
       "0.6528662420382165"
      ]
     },
     "execution_count": 134,
     "metadata": {},
     "output_type": "execute_result"
    }
   ],
   "source": [
    "clf.score(x_norm_test, y_test)"
   ]
  },
  {
   "cell_type": "code",
   "execution_count": 24,
   "metadata": {
    "colab": {
     "base_uri": "https://localhost:8080/"
    },
    "executionInfo": {
     "elapsed": 349,
     "status": "ok",
     "timestamp": 1621109099749,
     "user": {
      "displayName": "Sajeel Khalid",
      "photoUrl": "",
      "userId": "17554249077233151040"
     },
     "user_tz": 240
    },
    "id": "UeTtafFOrFyg",
    "outputId": "96a7b411-0633-43d2-f892-50b6f16bfff5"
   },
   "outputs": [
    {
     "name": "stdout",
     "output_type": "stream",
     "text": [
      "2021-05-15\n",
      "['Paul Goldschmidt', 'St. Louis'] 0.999780017203643\n",
      "['Rafael Devers', 'Boston'] 0.9848612150580556\n",
      "['Randal Grichuk', 'Toronto'] 0.9346816196472018\n",
      "['Giancarlo Stanton', 'New York'] 0.9259634913698378\n",
      "['Andrew Benintendi', 'Kansas City'] 0.8824150199235107\n",
      "['Jesus Aguilar', 'Miami'] 0.8433218626593961\n",
      "['Shohei Ohtani', 'Los Angeles'] 0.8396202610265788\n",
      "['Trey Mancini', 'Baltimore'] 0.8273806263552075\n",
      "['Rhys Hoskins', 'Philadelphia'] 0.7735909562856644\n",
      "['Corey Seager', 'Los Angeles'] 0.7596874128563706\n"
     ]
    }
   ],
   "source": [
    "from datetime import datetime\n",
    "print(datetime.today().strftime('%Y-%m-%d'))\n",
    "\n",
    "lrOut=[]\n",
    "for i, pred in enumerate(clf.predict_proba(inference_norm)[:,1][np.argsort(-clf.predict_proba(inference_norm)[:,1])][:10]):  \n",
    "  lrOut.append(pList[i])\n",
    "  print(pList[i], pred)"
   ]
  },
  {
   "cell_type": "code",
   "execution_count": 27,
   "metadata": {
    "colab": {
     "base_uri": "https://localhost:8080/"
    },
    "executionInfo": {
     "elapsed": 452,
     "status": "ok",
     "timestamp": 1621109252823,
     "user": {
      "displayName": "Sajeel Khalid",
      "photoUrl": "",
      "userId": "17554249077233151040"
     },
     "user_tz": 240
    },
    "id": "mApugbdMK2AE",
    "outputId": "e961a5aa-fb40-4631-d1dd-13fdc23fb598"
   },
   "outputs": [
    {
     "name": "stdout",
     "output_type": "stream",
     "text": [
      "['Paul Goldschmidt', 'St. Louis']\n",
      "['Corey Seager', 'Los Angeles']\n",
      "['Randal Grichuk', 'Toronto']\n",
      "['Giancarlo Stanton', 'New York']\n",
      "['Rhys Hoskins', 'Philadelphia']\n",
      "['Rafael Devers', 'Boston']\n",
      "['Jesus Aguilar', 'Miami']\n"
     ]
    }
   ],
   "source": [
    "for o in nnOut:\n",
    "  if o in lrOut:\n",
    "    print(o)"
   ]
  },
  {
   "cell_type": "code",
   "execution_count": null,
   "metadata": {
    "id": "r0HwoyahK2EN"
   },
   "outputs": [],
   "source": []
  },
  {
   "cell_type": "code",
   "execution_count": null,
   "metadata": {
    "id": "90sCHyjeE6Te"
   },
   "outputs": [],
   "source": [
    "# 2021-05-12\n",
    "# ['Jake Cronenworth', 'San Diego'] 0.9951982878094792\n",
    "# ['Paul Goldschmidt', 'St. Louis'] 0.9885262239419107\n",
    "# ['Yermin Mercedes', 'Chicago'] 0.9743571206807747\n",
    "# ['Carlos Santana', 'Kansas City'] 0.9727445792429186\n",
    "# ['Mike Trout', 'Los Angeles'] 0.9636184834153763\n",
    "# ['Austin Riley', 'Atlanta'] 0.9586897621663748\n",
    "# ['Randal Grichuk', 'Toronto'] 0.9498869962253059\n",
    "# ['J.D. Martinez', 'Boston'] 0.9106846220235486\n",
    "# ['Trey Mancini', 'Baltimore'] 0.8654366296051179\n",
    "# ['Trent Grisham', 'San Diego'] 0.7794279905260642\n",
    "\n"
   ]
  },
  {
   "cell_type": "code",
   "execution_count": null,
   "metadata": {
    "id": "TES-FdFZE6We"
   },
   "outputs": [],
   "source": []
  },
  {
   "cell_type": "code",
   "execution_count": null,
   "metadata": {
    "id": "ZGjwy0nmE6Zr"
   },
   "outputs": [],
   "source": []
  },
  {
   "cell_type": "code",
   "execution_count": null,
   "metadata": {
    "colab": {
     "base_uri": "https://localhost:8080/"
    },
    "executionInfo": {
     "elapsed": 576,
     "status": "ok",
     "timestamp": 1620770734966,
     "user": {
      "displayName": "Sajeel Khalid",
      "photoUrl": "",
      "userId": "17554249077233151040"
     },
     "user_tz": 240
    },
    "id": "m3lgqiFkcBxW",
    "outputId": "4d7fe776-08ee-4642-ec0e-2925caa11430"
   },
   "outputs": [
    {
     "data": {
      "text/plain": [
       "(array([18,  9, 11, 32, 34, 28, 36, 29, 15,  4, 39,  8,  3, 35,  0, 19, 26,\n",
       "        33,  2, 13, 21, 42,  6, 14, 30, 38, 41, 40, 37, 31,  7, 25, 17, 10,\n",
       "        46,  1, 43, 24, 22, 45, 20, 16, 12,  5, 44, 27, 23]),\n",
       " array([0.45747394, 0.07671667, 0.42466979, 0.50921759, 0.64018901,\n",
       "        0.0657057 , 0.26373826, 0.08482591, 0.56207819, 0.8352786 ,\n",
       "        0.0806784 , 0.83372114, 0.0657057 , 0.37323229, 0.25208786,\n",
       "        0.66286895, 0.0657057 , 0.08482591, 0.9721208 , 0.44813441,\n",
       "        0.0657057 , 0.36740579, 0.06914139, 0.0657057 , 0.06914139,\n",
       "        0.08482591, 0.43756551, 0.0657057 , 0.68468595, 0.66286895,\n",
       "        0.21396768, 0.08939631, 0.82797847, 0.42979197, 0.71715111,\n",
       "        0.47543885, 0.66309993, 0.10858724, 0.19750926, 0.62796537,\n",
       "        0.13930828, 0.18658975, 0.35013712, 0.07651625, 0.0657057 ,\n",
       "        0.0657057 , 0.07671667]),\n",
       " array([0.9721208 , 0.8352786 , 0.83372114, 0.82797847, 0.71715111,\n",
       "        0.68468595, 0.66309993, 0.66286895, 0.66286895, 0.64018901,\n",
       "        0.62796537, 0.56207819, 0.50921759, 0.47543885, 0.45747394,\n",
       "        0.44813441, 0.43756551, 0.42979197, 0.42466979, 0.37323229,\n",
       "        0.36740579, 0.35013712, 0.26373826, 0.25208786, 0.21396768,\n",
       "        0.19750926, 0.18658975, 0.13930828, 0.10858724, 0.08939631,\n",
       "        0.08482591, 0.08482591, 0.08482591, 0.0806784 , 0.07671667,\n",
       "        0.07671667, 0.07651625, 0.06914139, 0.06914139, 0.0657057 ,\n",
       "        0.0657057 , 0.0657057 , 0.0657057 , 0.0657057 , 0.0657057 ,\n",
       "        0.0657057 , 0.0657057 ]))"
      ]
     },
     "execution_count": 116,
     "metadata": {
      "tags": []
     },
     "output_type": "execute_result"
    }
   ],
   "source": [
    "np.argsort(-clf.predict_proba(inference_norm)[:,1]),clf.predict_proba(inference_norm)[:,1],clf.predict_proba(inference_norm)[:,1][np.argsort(-clf.predict_proba(inference_norm)[:,1])]\n"
   ]
  },
  {
   "cell_type": "code",
   "execution_count": null,
   "metadata": {
    "colab": {
     "base_uri": "https://localhost:8080/"
    },
    "executionInfo": {
     "elapsed": 207,
     "status": "ok",
     "timestamp": 1620769647096,
     "user": {
      "displayName": "Sajeel Khalid",
      "photoUrl": "",
      "userId": "17554249077233151040"
     },
     "user_tz": 240
    },
    "id": "_DtIyARISetU",
    "outputId": "ef6cf957-d4e7-40e8-b362-6d9264801321"
   },
   "outputs": [
    {
     "data": {
      "text/plain": [
       "array([[ 0.15407444,  0.12765536, -0.51097697, -1.28875385, -0.11525518,\n",
       "        -0.02817996, -0.53926629,  0.40723739,  0.94032604,  0.08294364,\n",
       "         1.06828656,  0.04501935,  0.        ,  0.53586396,  0.33600777,\n",
       "        -0.05340233,  0.14588743,  0.59336036]])"
      ]
     },
     "execution_count": 93,
     "metadata": {
      "tags": []
     },
     "output_type": "execute_result"
    }
   ],
   "source": [
    "h=['PA','AB','R','H','2B','3B','HR',\n",
    "           'RBI','BB','IBB','SO','HBP','SH','SF','GDP','SB','CS']#batting only\n",
    "hBvsP=['PA2','AB2','H2', '1B2','2B2','3B2','HR2','BB2','SO2','AVG2','OBP2','SLG2'] #BvsP\n",
    "\n",
    "clf.coef_"
   ]
  },
  {
   "cell_type": "code",
   "execution_count": null,
   "metadata": {
    "colab": {
     "base_uri": "https://localhost:8080/",
     "height": 35
    },
    "executionInfo": {
     "elapsed": 206,
     "status": "ok",
     "timestamp": 1620769689094,
     "user": {
      "displayName": "Sajeel Khalid",
      "photoUrl": "",
      "userId": "17554249077233151040"
     },
     "user_tz": 240
    },
    "id": "rMKVv5sNSe3l",
    "outputId": "db4772b5-68ad-45d3-ef73-adef24cb5168"
   },
   "outputs": [
    {
     "data": {
      "application/vnd.google.colaboratory.intrinsic+json": {
       "type": "string"
      },
      "text/plain": [
       "'BB'"
      ]
     },
     "execution_count": 94,
     "metadata": {
      "tags": []
     },
     "output_type": "execute_result"
    }
   ],
   "source": [
    "h[8]"
   ]
  },
  {
   "cell_type": "code",
   "execution_count": null,
   "metadata": {
    "colab": {
     "base_uri": "https://localhost:8080/"
    },
    "executionInfo": {
     "elapsed": 246,
     "status": "ok",
     "timestamp": 1620767498524,
     "user": {
      "displayName": "Sajeel Khalid",
      "photoUrl": "",
      "userId": "17554249077233151040"
     },
     "user_tz": 240
    },
    "id": "glxU0A-rrF13",
    "outputId": "0c54e0da-a8b8-4774-d002-0da68ceb2c68"
   },
   "outputs": [
    {
     "data": {
      "text/plain": [
       "tensor([1., 0., 1., 1., 1., 0., 0., 0., 0., 1., 0., 0., 1., 1., 1.])"
      ]
     },
     "execution_count": 41,
     "metadata": {
      "tags": []
     },
     "output_type": "execute_result"
    }
   ],
   "source": [
    "y_test[:15]"
   ]
  },
  {
   "cell_type": "code",
   "execution_count": null,
   "metadata": {
    "id": "ayvAWM_dq2YC"
   },
   "outputs": [],
   "source": []
  },
  {
   "cell_type": "code",
   "execution_count": null,
   "metadata": {
    "colab": {
     "base_uri": "https://localhost:8080/",
     "height": 219
    },
    "executionInfo": {
     "elapsed": 942,
     "status": "error",
     "timestamp": 1620754436768,
     "user": {
      "displayName": "Sajeel Khalid",
      "photoUrl": "",
      "userId": "17554249077233151040"
     },
     "user_tz": 240
    },
    "id": "T7vj3hdNc5vY",
    "outputId": "7b783696-ea60-4324-86ab-0f053b35d9c8"
   },
   "outputs": [
    {
     "ename": "IndexError",
     "evalue": "ignored",
     "output_type": "error",
     "traceback": [
      "\u001b[0;31m---------------------------------------------------------------------------\u001b[0m",
      "\u001b[0;31mIndexError\u001b[0m                                Traceback (most recent call last)",
      "\u001b[0;32m<ipython-input-46-c820f3e34b9c>\u001b[0m in \u001b[0;36m<module>\u001b[0;34m()\u001b[0m\n\u001b[1;32m      5\u001b[0m     \u001b[0mbalancedSet\u001b[0m\u001b[0;34m[\u001b[0m\u001b[0msmpl\u001b[0m\u001b[0;34m]\u001b[0m\u001b[0;34m=\u001b[0m\u001b[0mfeatures\u001b[0m\u001b[0;34m[\u001b[0m\u001b[0msmpl\u001b[0m\u001b[0;34m]\u001b[0m\u001b[0;34m\u001b[0m\u001b[0;34m\u001b[0m\u001b[0m\n\u001b[1;32m      6\u001b[0m   \u001b[0;32melse\u001b[0m\u001b[0;34m:\u001b[0m\u001b[0;34m\u001b[0m\u001b[0;34m\u001b[0m\u001b[0m\n\u001b[0;32m----> 7\u001b[0;31m     \u001b[0mbalancedSet\u001b[0m\u001b[0;34m[\u001b[0m\u001b[0msmpl\u001b[0m\u001b[0;34m]\u001b[0m\u001b[0;34m=\u001b[0m\u001b[0mfeatures\u001b[0m\u001b[0;34m[\u001b[0m\u001b[0msmpl\u001b[0m\u001b[0;34m]\u001b[0m\u001b[0;34m\u001b[0m\u001b[0;34m\u001b[0m\u001b[0m\n\u001b[0m\u001b[1;32m      8\u001b[0m \u001b[0;34m\u001b[0m\u001b[0m\n",
      "\u001b[0;31mIndexError\u001b[0m: index 914 is out of bounds for dimension 0 with size 914"
     ]
    }
   ],
   "source": [
    "pctTotal=(1-torch.mean(labels))*2\n",
    "\n",
    "finalNo=(features.size()[0]*pctTotal).int()\n",
    "\n",
    "balancedSet=torch.zeros(finalNo,features.size()[1])\n",
    "\n",
    "for smpl, l in enumerate(labels):\n",
    "  if l==1 and smpl<(finalNo/2):\n",
    "    balancedSet[smpl]=features[smpl].copy()\n",
    "  else:\n",
    "    balancedSet[smpl]=features[smpl].copy()\n",
    "\n"
   ]
  },
  {
   "cell_type": "code",
   "execution_count": null,
   "metadata": {
    "colab": {
     "base_uri": "https://localhost:8080/"
    },
    "executionInfo": {
     "elapsed": 819,
     "status": "ok",
     "timestamp": 1620754244387,
     "user": {
      "displayName": "Sajeel Khalid",
      "photoUrl": "",
      "userId": "17554249077233151040"
     },
     "user_tz": 240
    },
    "id": "8nZsFzcBdZy4",
    "outputId": "6bc7a1aa-8fc1-4878-bb6f-125614404d32"
   },
   "outputs": [
    {
     "data": {
      "text/plain": [
       "tensor(914, dtype=torch.int32)"
      ]
     },
     "execution_count": 44,
     "metadata": {
      "tags": []
     },
     "output_type": "execute_result"
    }
   ],
   "source": [
    "finalNo"
   ]
  },
  {
   "cell_type": "code",
   "execution_count": null,
   "metadata": {
    "id": "EjJPPUQlex-z"
   },
   "outputs": [],
   "source": []
  }
 ],
 "metadata": {
  "colab": {
   "authorship_tag": "ABX9TyOnTl+8kwkagbNlDBWBNAoY",
   "collapsed_sections": [],
   "name": "BTSTry.ipynb",
   "provenance": []
  },
  "kernelspec": {
   "display_name": "Python 3",
   "language": "python",
   "name": "python3"
  },
  "language_info": {
   "codemirror_mode": {
    "name": "ipython",
    "version": 3
   },
   "file_extension": ".py",
   "mimetype": "text/x-python",
   "name": "python",
   "nbconvert_exporter": "python",
   "pygments_lexer": "ipython3",
   "version": "3.7.4"
  }
 },
 "nbformat": 4,
 "nbformat_minor": 1
}
