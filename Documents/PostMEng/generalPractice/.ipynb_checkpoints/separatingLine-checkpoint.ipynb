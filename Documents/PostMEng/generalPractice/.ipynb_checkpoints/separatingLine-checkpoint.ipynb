{
 "cells": [
  {
   "cell_type": "code",
   "execution_count": 66,
   "metadata": {},
   "outputs": [
    {
     "data": {
      "image/png": "[encoded data removed]",
      "text/plain": [
       "<Figure size 432x288 with 1 Axes>"
      ]
     },
     "metadata": {
      "needs_background": "light"
     },
     "output_type": "display_data"
    }
   ],
   "source": [
    "import numpy as np\n",
    "import matplotlib.pyplot as plt\n",
    "\n",
    "x1=np.array(range(-500,500))\n",
    "x2=-x1**2\n",
    "x22=-1.5*x1**2-100000\n",
    "\n",
    "X=np.vstack((x2,x22)).reshape(x1.shape[0]*2,1)\n",
    "plt.scatter(x1,x2)\n",
    "plt.scatter(x1,x22)\n",
    "plt.show()"
   ]
  },
  {
   "cell_type": "code",
   "execution_count": 29,
   "metadata": {},
   "outputs": [
    {
     "data": {
      "text/plain": [
       "(100,)"
      ]
     },
     "execution_count": 29,
     "metadata": {},
     "output_type": "execute_result"
    }
   ],
   "source": [
    "x2.shape"
   ]
  },
  {
   "cell_type": "code",
   "execution_count": 46,
   "metadata": {},
   "outputs": [
    {
     "data": {
      "text/plain": [
       "<matplotlib.collections.PathCollection at 0x7fb52420c0d0>"
      ]
     },
     "execution_count": 46,
     "metadata": {},
     "output_type": "execute_result"
    },
    {
     "data": {
      "image/png": "[encoded data removed]",
      "text/plain": [
       "<Figure size 432x288 with 1 Axes>"
      ]
     },
     "metadata": {
      "needs_background": "light"
     },
     "output_type": "display_data"
    }
   ],
   "source": [
    "plt.scatter(x1,X[0:100])\n",
    "plt.scatter(x1,X[100:200])"
   ]
  },
  {
   "cell_type": "code",
   "execution_count": 81,
   "metadata": {},
   "outputs": [
    {
     "name": "stderr",
     "output_type": "stream",
     "text": [
      "/home/adimn/anaconda3/envs/venv-base/lib/python3.7/site-packages/ipykernel_launcher.py:16: RuntimeWarning: overflow encountered in multiply\n",
      "  app.launch_new_instance()\n",
      "/home/adimn/anaconda3/envs/venv-base/lib/python3.7/site-packages/ipykernel_launcher.py:16: RuntimeWarning: overflow encountered in add\n",
      "  app.launch_new_instance()\n"
     ]
    }
   ],
   "source": [
    "wl1=np.array([0.5,0.5,0.5,0.5])\n",
    "wl2=np.array([0.5,0.5])\n",
    "b1=0.5\n",
    "b2=0.5\n",
    "bb=0.5\n",
    "\n",
    "ind=np.random.choice(range(-500,500),500)\n",
    "\n",
    "t=np.zeros(X.shape)\n",
    "t[:100]=1\n",
    "lr=0.0001\n",
    "\n",
    "for i in ind:\n",
    "    y1 = b1 + wl1[0]*X[i] + wl1[1]*i \n",
    "    y2 = b2 + wl1[2]*X[i] + wl1[3]*i \n",
    "    yy = bb + wl2[0]* y1 + wl2[1]* y2 \n",
    "    \n",
    "    if yy < 0:\n",
    "        yy = 0\n",
    "    else:\n",
    "        yy = 1\n",
    "\n",
    "    e = t[i] - yy     \n",
    "    wl2[0]=wl2[0] +lr*e*y1 \n",
    "    wl2[1]=wl2[1] + lr*e*y2 \n",
    "    bb=bb + lr * e \n",
    "    #print(y1)\n",
    "    wl1[0]=wl1[0]+lr*e*wl2[0]*X[i]\n",
    "    wl1[1]=wl1[1]+lr*e*wl2[0]*i\n",
    "    wl1[2]=wl1[2]+lr*e*wl2[1]*X[i]\n",
    "    wl1[3]=wl1[3]+lr*e*wl2[1]*i\n",
    "    b1=b1 + lr* e*wl2[0]\n",
    "    b2=b2 + lr*e*wl2[1]\n",
    "\n",
    "u=[x * 0.1 for x in range(-500, 500)]\n",
    "v1=(-b1-wl1[0]*np.array(u) ) / wl1[1]\n",
    "v2=(-b2-wl2[0]*np.array(u) ) / wl2[1]\n"
   ]
  },
  {
   "cell_type": "code",
   "execution_count": 82,
   "metadata": {},
   "outputs": [
    {
     "data": {
      "text/plain": [
       "<matplotlib.collections.PathCollection at 0x7fb523e19210>"
      ]
     },
     "execution_count": 82,
     "metadata": {},
     "output_type": "execute_result"
    },
    {
     "data": {
      "image/png": "[encoded data removed]",
      "text/plain": [
       "<Figure size 432x288 with 1 Axes>"
      ]
     },
     "metadata": {
      "needs_background": "light"
     },
     "output_type": "display_data"
    }
   ],
   "source": [
    "plt.scatter(u,v1)\n",
    "plt.scatter(u,v2)"
   ]
  },
  {
   "cell_type": "code",
   "execution_count": null,
   "metadata": {},
   "outputs": [],
   "source": [
    "wl1=np.array([0.5,0.5])\n",
    "wl2=np.array([0.5])\n",
    "b=0.5\n",
    "\n",
    "t=np.zeros(X.shape)\n",
    "t[:100]=1\n",
    "lr=0.1\n",
    "\n",
    "ind=np.random.choice(range(-50,50),20)\n",
    "\n",
    "for i in ind:\n",
    "    o1=wl1*X[i]\n",
    "    o2=wl2*o1\n",
    "    if o2>=0:\n",
    "        o2=1\n",
    "    else:\n",
    "        o2=0        \n",
    "    e=t[i]-o2\n",
    "    \n",
    "    wl2=wl2-lr*e*o1\n",
    "    w11=wl1-lr*e*x\n",
    "    "
   ]
  }
 ],
 "metadata": {
  "kernelspec": {
   "display_name": "Python 3",
   "language": "python",
   "name": "python3"
  },
  "language_info": {
   "codemirror_mode": {
    "name": "ipython",
    "version": 3
   },
   "file_extension": ".py",
   "mimetype": "text/x-python",
   "name": "python",
   "nbconvert_exporter": "python",
   "pygments_lexer": "ipython3",
   "version": "3.7.4"
  }
 },
 "nbformat": 4,
 "nbformat_minor": 2
}
