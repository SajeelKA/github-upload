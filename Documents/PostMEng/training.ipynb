{
 "cells": [
  {
   "cell_type": "code",
   "execution_count": 1,
   "metadata": {},
   "outputs": [],
   "source": [
    "import torch\n",
    "import numpy as np"
   ]
  },
  {
   "cell_type": "code",
   "execution_count": 2,
   "metadata": {},
   "outputs": [
    {
     "data": {
      "text/plain": [
       "(1609, 30)"
      ]
     },
     "execution_count": 2,
     "metadata": {},
     "output_type": "execute_result"
    }
   ],
   "source": [
    "stats=np.load('allStats20210512.npy')\n",
    "stats.shape"
   ]
  },
  {
   "cell_type": "code",
   "execution_count": 3,
   "metadata": {},
   "outputs": [],
   "source": [
    "h=['PA','AB','R','H','2B','3B','HR',\n",
    "           'RBI','BB','IBB','SO','HBP','SH','SF','GDP','SB','CS']#batting only\n",
    "hBvsP=['PA2','AB2','H2', '1B2','2B2','3B2','HR2','BB2','SO2','AVG2','OBP2','SLG2'] #BvsP\n",
    "hTotal=h+hBvsP\n",
    "features=stats[:,len(h):-1]\n",
    "labels=stats[:,-1]"
   ]
  },
  {
   "cell_type": "code",
   "execution_count": null,
   "metadata": {},
   "outputs": [],
   "source": []
  },
  {
   "cell_type": "code",
   "execution_count": null,
   "metadata": {},
   "outputs": [],
   "source": []
  },
  {
   "cell_type": "code",
   "execution_count": 4,
   "metadata": {},
   "outputs": [],
   "source": [
    "from sklearn.model_selection import train_test_split\n",
    "features=torch.tensor(features)\n",
    "labels=torch.tensor(labels)\n",
    "\n",
    "X_train, X_test, y_train, y_test = train_test_split(features, labels, test_size=0.1, random_state=42)\n"
   ]
  },
  {
   "cell_type": "code",
   "execution_count": 6,
   "metadata": {},
   "outputs": [
    {
     "name": "stderr",
     "output_type": "stream",
     "text": [
      "/home/adimn/anaconda3/envs/venv-base/lib/python3.7/site-packages/torch/nn/modules/loss.py:529: UserWarning: Using a target size (torch.Size([1, 1])) that is different to the input size (torch.Size([1])) is deprecated. Please ensure they have the same size.\n",
      "  return F.binary_cross_entropy(input, target, weight=self.weight, reduction=self.reduction)\n"
     ]
    },
    {
     "name": "stdout",
     "output_type": "stream",
     "text": [
      "epoch= 0 avg loss= tensor(0.6076, dtype=torch.float64) acc =  0.17196132596685082\n",
      "epoch= 1 avg loss= tensor(0.6033, dtype=torch.float64) acc =  0.3011049723756906\n",
      "epoch= 2 avg loss= tensor(0.5986, dtype=torch.float64) acc =  0.3710865561694291\n",
      "epoch= 3 avg loss= tensor(0.5928, dtype=torch.float64) acc =  0.3786256906077348\n",
      "epoch= 4 avg loss= tensor(0.5865, dtype=torch.float64) acc =  0.3791436464088398\n",
      "epoch= 5 avg loss= tensor(0.5809, dtype=torch.float64) acc =  0.37419429097605894\n",
      "epoch= 6 avg loss= tensor(0.5764, dtype=torch.float64) acc =  0.3724348855564325\n",
      "epoch= 7 avg loss= tensor(0.5723, dtype=torch.float64) acc =  0.3723238950276243\n",
      "epoch= 8 avg loss= tensor(0.5694, dtype=torch.float64) acc =  0.37093308778391654\n",
      "epoch= 9 avg loss= tensor(0.5669, dtype=torch.float64) acc =  0.3695441988950276\n",
      "epoch= 10 avg loss= tensor(0.5648, dtype=torch.float64) acc =  0.3685961828227022\n",
      "epoch= 11 avg loss= tensor(0.5630, dtype=torch.float64) acc =  0.3713743093922652\n",
      "epoch= 12 avg loss= tensor(0.5613, dtype=torch.float64) acc =  0.3723969400764981\n",
      "epoch= 13 avg loss= tensor(0.5599, dtype=torch.float64) acc =  0.3742107340173639\n",
      "epoch= 14 avg loss= tensor(0.5585, dtype=torch.float64) acc =  0.37458563535911604\n",
      "epoch= 15 avg loss= tensor(0.5575, dtype=torch.float64) acc =  0.37525897790055246\n",
      "epoch= 16 avg loss= tensor(0.5564, dtype=torch.float64) acc =  0.3756906077348066\n",
      "epoch= 17 avg loss= tensor(0.5555, dtype=torch.float64) acc =  0.3759975445058318\n",
      "epoch= 18 avg loss= tensor(0.5547, dtype=torch.float64) acc =  0.37674469322477466\n",
      "epoch= 19 avg loss= tensor(0.5537, dtype=torch.float64) acc =  0.37945441988950274\n",
      "epoch= 20 avg loss= tensor(0.5526, dtype=torch.float64) acc =  0.38220205209155483\n",
      "epoch= 21 avg loss= tensor(0.5517, dtype=torch.float64) acc =  0.3846371170266198\n",
      "epoch= 22 avg loss= tensor(0.5511, dtype=torch.float64) acc =  0.3847285611337977\n",
      "epoch= 23 avg loss= tensor(0.5503, dtype=torch.float64) acc =  0.38596339779005523\n",
      "epoch= 24 avg loss= tensor(0.5496, dtype=torch.float64) acc =  0.3874033149171271\n",
      "epoch= 25 avg loss= tensor(0.5490, dtype=torch.float64) acc =  0.3887324691882703\n",
      "epoch= 26 avg loss= tensor(0.5483, dtype=torch.float64) acc =  0.3899120114589728\n",
      "epoch= 27 avg loss= tensor(0.5477, dtype=torch.float64) acc =  0.3910073007103394\n",
      "epoch= 28 avg loss= tensor(0.5472, dtype=torch.float64) acc =  0.39202705277195654\n",
      "epoch= 29 avg loss= tensor(0.5466, dtype=torch.float64) acc =  0.39295580110497236\n",
      "epoch= 30 avg loss= tensor(0.5461, dtype=torch.float64) acc =  0.3938023525218321\n",
      "epoch= 31 avg loss= tensor(0.5456, dtype=torch.float64) acc =  0.3945528314917127\n",
      "epoch= 32 avg loss= tensor(0.5451, dtype=torch.float64) acc =  0.39521597187343044\n",
      "epoch= 33 avg loss= tensor(0.5447, dtype=torch.float64) acc =  0.3960838479038024\n",
      "epoch= 34 avg loss= tensor(0.5443, dtype=torch.float64) acc =  0.3968823993685872\n",
      "epoch= 35 avg loss= tensor(0.5439, dtype=torch.float64) acc =  0.3976557704112953\n",
      "epoch= 36 avg loss= tensor(0.5435, dtype=torch.float64) acc =  0.3982940122442885\n",
      "epoch= 37 avg loss= tensor(0.5432, dtype=torch.float64) acc =  0.39893501017737715\n",
      "epoch= 38 avg loss= tensor(0.5428, dtype=torch.float64) acc =  0.39938376540586484\n",
      "epoch= 39 avg loss= tensor(0.5425, dtype=torch.float64) acc =  0.3999654696132597\n",
      "epoch= 40 avg loss= tensor(0.5422, dtype=torch.float64) acc =  0.4006198625522167\n",
      "epoch= 41 avg loss= tensor(0.5419, dtype=torch.float64) acc =  0.401226650881347\n",
      "epoch= 42 avg loss= tensor(0.5416, dtype=torch.float64) acc =  0.4017409739175125\n",
      "epoch= 43 avg loss= tensor(0.5413, dtype=torch.float64) acc =  0.40224761426418887\n",
      "epoch= 44 avg loss= tensor(0.5411, dtype=torch.float64) acc =  0.40276243093922653\n",
      "epoch= 45 avg loss= tensor(0.5409, dtype=torch.float64) acc =  0.40328489070381934\n",
      "epoch= 46 avg loss= tensor(0.5406, dtype=torch.float64) acc =  0.40379981191959563\n",
      "epoch= 47 avg loss= tensor(0.5404, dtype=torch.float64) acc =  0.40427889042357273\n",
      "epoch= 48 avg loss= tensor(0.5402, dtype=torch.float64) acc =  0.4047666027737062\n",
      "epoch= 49 avg loss= tensor(0.5399, dtype=torch.float64) acc =  0.4052209944751381\n",
      "epoch= 50 avg loss= tensor(0.5397, dtype=torch.float64) acc =  0.40558986025349364\n",
      "epoch= 51 avg loss= tensor(0.5395, dtype=torch.float64) acc =  0.4059312579685508\n",
      "epoch= 52 avg loss= tensor(0.5394, dtype=torch.float64) acc =  0.4062728030855832\n",
      "epoch= 53 avg loss= tensor(0.5392, dtype=torch.float64) acc =  0.4066016983834663\n",
      "epoch= 54 avg loss= tensor(0.5390, dtype=torch.float64) acc =  0.40695630336514316\n",
      "epoch= 55 avg loss= tensor(0.5388, dtype=torch.float64) acc =  0.40727357932123126\n",
      "epoch= 56 avg loss= tensor(0.5386, dtype=torch.float64) acc =  0.4076281864883202\n",
      "epoch= 57 avg loss= tensor(0.5385, dtype=torch.float64) acc =  0.40793484473233\n",
      "epoch= 58 avg loss= tensor(0.5383, dtype=torch.float64) acc =  0.40823110778162747\n",
      "epoch= 59 avg loss= tensor(0.5381, dtype=torch.float64) acc =  0.40850598526703497\n",
      "epoch= 60 avg loss= tensor(0.5380, dtype=torch.float64) acc =  0.40877185037587177\n",
      "epoch= 61 avg loss= tensor(0.5378, dtype=torch.float64) acc =  0.4090291391908751\n",
      "epoch= 62 avg loss= tensor(0.5377, dtype=torch.float64) acc =  0.40934403227220906\n",
      "epoch= 63 avg loss= tensor(0.5375, dtype=torch.float64) acc =  0.4095951312154696\n",
      "epoch= 64 avg loss= tensor(0.5374, dtype=torch.float64) acc =  0.4098385040373991\n",
      "epoch= 65 avg loss= tensor(0.5373, dtype=torch.float64) acc =  0.410064038171773\n",
      "epoch= 66 avg loss= tensor(0.5371, dtype=torch.float64) acc =  0.4103034551001897\n",
      "epoch= 67 avg loss= tensor(0.5370, dtype=torch.float64) acc =  0.4105358303542411\n",
      "epoch= 68 avg loss= tensor(0.5369, dtype=torch.float64) acc =  0.4107014172471775\n",
      "epoch= 69 avg loss= tensor(0.5368, dtype=torch.float64) acc =  0.4109017363851618\n",
      "epoch= 70 avg loss= tensor(0.5366, dtype=torch.float64) acc =  0.4110866858610225\n",
      "epoch= 71 avg loss= tensor(0.5365, dtype=torch.float64) acc =  0.4114199662369552\n",
      "epoch= 72 avg loss= tensor(0.5364, dtype=torch.float64) acc =  0.4116211307046091\n",
      "epoch= 73 avg loss= tensor(0.5362, dtype=torch.float64) acc =  0.4119381812751978\n",
      "epoch= 74 avg loss= tensor(0.5361, dtype=torch.float64) acc =  0.41224677716390423\n",
      "epoch= 75 avg loss= tensor(0.5360, dtype=torch.float64) acc =  0.4124382087816226\n",
      "epoch= 76 avg loss= tensor(0.5358, dtype=torch.float64) acc =  0.41293858075626033\n",
      "epoch= 77 avg loss= tensor(0.5357, dtype=torch.float64) acc =  0.4133907068989942\n",
      "epoch= 78 avg loss= tensor(0.5356, dtype=torch.float64) acc =  0.4138226449402056\n",
      "epoch= 79 avg loss= tensor(0.5354, dtype=torch.float64) acc =  0.41424378453038674\n",
      "epoch= 80 avg loss= tensor(0.5353, dtype=torch.float64) acc =  0.4146630516335857\n",
      "epoch= 81 avg loss= tensor(0.5352, dtype=torch.float64) acc =  0.4150468265732381\n",
      "epoch= 82 avg loss= tensor(0.5350, dtype=torch.float64) acc =  0.4154463156493377\n",
      "epoch= 83 avg loss= tensor(0.5349, dtype=torch.float64) acc =  0.4158445146014207\n",
      "epoch= 84 avg loss= tensor(0.5348, dtype=torch.float64) acc =  0.41623334416639585\n",
      "epoch= 85 avg loss= tensor(0.5346, dtype=torch.float64) acc =  0.4166131311833483\n",
      "epoch= 86 avg loss= tensor(0.5345, dtype=torch.float64) acc =  0.416960373404458\n",
      "epoch= 87 avg loss= tensor(0.5344, dtype=torch.float64) acc =  0.4173468106479156\n",
      "epoch= 88 avg loss= tensor(0.5343, dtype=torch.float64) acc =  0.41767800608355576\n",
      "epoch= 89 avg loss= tensor(0.5342, dtype=torch.float64) acc =  0.4180095150399018\n",
      "epoch= 90 avg loss= tensor(0.5340, dtype=torch.float64) acc =  0.4183716835650537\n",
      "epoch= 91 avg loss= tensor(0.5339, dtype=torch.float64) acc =  0.41868844583233245\n",
      "epoch= 92 avg loss= tensor(0.5338, dtype=torch.float64) acc =  0.41881274876730235\n",
      "epoch= 93 avg loss= tensor(0.5337, dtype=torch.float64) acc =  0.41916950746444104\n",
      "epoch= 94 avg loss= tensor(0.5336, dtype=torch.float64) acc =  0.4195114858970631\n",
      "epoch= 95 avg loss= tensor(0.5335, dtype=torch.float64) acc =  0.41966649401473294\n",
      "epoch= 96 avg loss= tensor(0.5334, dtype=torch.float64) acc =  0.41992510109927667\n",
      "epoch= 97 avg loss= tensor(0.5333, dtype=torch.float64) acc =  0.4202700417183448\n",
      "epoch= 98 avg loss= tensor(0.5332, dtype=torch.float64) acc =  0.42060103800435295\n",
      "epoch= 99 avg loss= tensor(0.5331, dtype=torch.float64) acc =  0.4208425414364641\n"
     ]
    }
   ],
   "source": [
    "from torch import nn\n",
    "import torch.optim as optim\n",
    "\n",
    "device = torch.device('cpu')\n",
    "if torch.cuda.is_available():\n",
    "    device = torch.device('cuda')\n",
    "\n",
    "net = nn.Sequential(\n",
    "      nn.Linear(features.shape[1], 5),\n",
    "      nn.ReLU(),\n",
    "      nn.Linear(5, 3),\n",
    "      nn.ReLU(),\n",
    "      nn.Linear(3, 1),\n",
    "      nn.Sigmoid()\n",
    "      ).to(device)\n",
    "\n",
    "net=net.double()\n",
    "epochs=100\n",
    "losses=[]\n",
    "\n",
    "correct=0\n",
    "count=0\n",
    "for epoch in range(epochs):\n",
    "    for sample, label in zip(X_train, y_train):\n",
    "#         print(sample, label)\n",
    "        output=net(sample.double())\n",
    "\n",
    "        net.zero_grad()\n",
    "\n",
    "\n",
    "        target = label.double()\n",
    "        target = target.view(1, -1)  # make it the same shape as output\n",
    "        criterion = nn.BCELoss()\n",
    "\n",
    "        optimizer = optim.SGD(net.parameters(), lr=0.01)\n",
    "\n",
    "        # in your training loop:\n",
    "        optimizer.zero_grad()   # zero the gradient buffers\n",
    "\n",
    "        loss = criterion(output, target)\n",
    "        loss.backward()\n",
    "        optimizer.step()    # Does the update\n",
    "        losses.append(loss)\n",
    "        count+=1\n",
    "        if (output>0.5 and label==1) or (output<0.5 and label==0):\n",
    "            correct+=1\n",
    "#         print('output=', output.item(), ' label = ', label.item())\n",
    "    acc=correct/count\n",
    "    print('epoch=' ,epoch, 'avg loss=', torch.mean(torch.tensor(losses)), 'acc = ', acc)\n",
    "\n"
   ]
  },
  {
   "cell_type": "code",
   "execution_count": 80,
   "metadata": {},
   "outputs": [
    {
     "data": {
      "text/plain": [
       "(torch.Size([1565, 29]), torch.Size([1565]))"
      ]
     },
     "execution_count": 80,
     "metadata": {},
     "output_type": "execute_result"
    }
   ],
   "source": [
    "features.shape, labels.shape"
   ]
  },
  {
   "cell_type": "code",
   "execution_count": null,
   "metadata": {},
   "outputs": [],
   "source": []
  }
 ],
 "metadata": {
  "kernelspec": {
   "display_name": "Python 3",
   "language": "python",
   "name": "python3"
  },
  "language_info": {
   "codemirror_mode": {
    "name": "ipython",
    "version": 3
   },
   "file_extension": ".py",
   "mimetype": "text/x-python",
   "name": "python",
   "nbconvert_exporter": "python",
   "pygments_lexer": "ipython3",
   "version": "3.7.4"
  }
 },
 "nbformat": 4,
 "nbformat_minor": 2
}
