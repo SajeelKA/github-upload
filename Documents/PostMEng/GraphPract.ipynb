{
 "cells": [
  {
   "cell_type": "code",
   "execution_count": 1,
   "metadata": {},
   "outputs": [
    {
     "data": {
      "text/plain": [
       "NodeView((1, 2, 3))"
      ]
     },
     "execution_count": 1,
     "metadata": {},
     "output_type": "execute_result"
    }
   ],
   "source": [
    "import networkx as nx\n",
    "G=nx.Graph()\n",
    "\n",
    "G.add_node(1)\n",
    "\n",
    "G.add_nodes_from([2,3])\n",
    "\n",
    "G.nodes()"
   ]
  },
  {
   "cell_type": "code",
   "execution_count": 2,
   "metadata": {},
   "outputs": [],
   "source": [
    "H=nx.path_graph(10)\n",
    "\n",
    "G.add_nodes_from(H)\n",
    "\n",
    "G.add_node(H)\n",
    "\n",
    "e=(1,2)\n",
    "\n",
    "G.add_edge(*e)\n",
    "\n",
    "e=(2,3)\n",
    "\n",
    "G.add_edge(*e)\n",
    "\n"
   ]
  },
  {
   "cell_type": "code",
   "execution_count": 3,
   "metadata": {},
   "outputs": [],
   "source": [
    "G.add_edges_from(H.edges)\n",
    "G.remove_node(H)\n",
    "G.clear()"
   ]
  },
  {
   "cell_type": "code",
   "execution_count": 4,
   "metadata": {},
   "outputs": [],
   "source": [
    "G.add_edges_from([(1,2),(1,3)])\n",
    "G.add_node(1)\n",
    "G.add_edge(1,2)\n",
    "G.add_node(\"spam\")       # adds node \"spam\"\n",
    "G.add_nodes_from(\"spam\") # adds 4 nodes: 's', 'p', 'a', 'm'"
   ]
  },
  {
   "cell_type": "code",
   "execution_count": 5,
   "metadata": {},
   "outputs": [
    {
     "data": {
      "text/plain": [
       "(8, 2)"
      ]
     },
     "execution_count": 5,
     "metadata": {},
     "output_type": "execute_result"
    }
   ],
   "source": [
    "G.number_of_nodes(),G.number_of_edges()"
   ]
  },
  {
   "cell_type": "code",
   "execution_count": 6,
   "metadata": {},
   "outputs": [
    {
     "data": {
      "text/plain": [
       "EdgeView([(1, 2), (1, 3)])"
      ]
     },
     "execution_count": 6,
     "metadata": {},
     "output_type": "execute_result"
    }
   ],
   "source": [
    "G.nodes()\n",
    "G.edges()"
   ]
  },
  {
   "cell_type": "code",
   "execution_count": 7,
   "metadata": {},
   "outputs": [
    {
     "data": {
      "text/plain": [
       "[2, 3]"
      ]
     },
     "execution_count": 7,
     "metadata": {},
     "output_type": "execute_result"
    }
   ],
   "source": [
    "list(G.neighbors(1))"
   ]
  },
  {
   "cell_type": "code",
   "execution_count": 8,
   "metadata": {},
   "outputs": [],
   "source": [
    "G.remove_nodes_from(\"spam\")\n",
    "G.nodes()\n",
    "\n",
    "G.remove_edge(1,3)"
   ]
  },
  {
   "cell_type": "code",
   "execution_count": 9,
   "metadata": {},
   "outputs": [
    {
     "data": {
      "text/plain": [
       "OutEdgeView([(1, 2), (2, 1)])"
      ]
     },
     "execution_count": 9,
     "metadata": {},
     "output_type": "execute_result"
    }
   ],
   "source": [
    "H=nx.DiGraph(G)# a graph with both directions\n",
    "\n",
    "H.edges"
   ]
  },
  {
   "cell_type": "code",
   "execution_count": 10,
   "metadata": {},
   "outputs": [
    {
     "data": {
      "text/plain": [
       "AtlasView({1: {}, 3: {}})"
      ]
     },
     "execution_count": 10,
     "metadata": {},
     "output_type": "execute_result"
    }
   ],
   "source": [
    "G.add_edge(2,3)\n",
    "G[2]"
   ]
  },
  {
   "cell_type": "code",
   "execution_count": 11,
   "metadata": {},
   "outputs": [
    {
     "data": {
      "text/plain": [
       "AtlasView({1: {}, 3: {'colour': 'blue'}})"
      ]
     },
     "execution_count": 11,
     "metadata": {},
     "output_type": "execute_result"
    }
   ],
   "source": [
    "G[2][3]['colour']='blue'\n",
    "G[2]"
   ]
  },
  {
   "cell_type": "code",
   "execution_count": 12,
   "metadata": {},
   "outputs": [
    {
     "data": {
      "text/plain": [
       "AtlasView({1: {}})"
      ]
     },
     "execution_count": 12,
     "metadata": {},
     "output_type": "execute_result"
    }
   ],
   "source": [
    "G.add_edge('spam',1)\n",
    "G[\"spam\"]"
   ]
  },
  {
   "cell_type": "code",
   "execution_count": 13,
   "metadata": {},
   "outputs": [
    {
     "name": "stdout",
     "output_type": "stream",
     "text": [
      "aa 1 {2: {'weight': 0.125}, 3: {'weight': 0.75}}\n",
      "bb 2 {'weight': 0.125}\n",
      "bb 3 {'weight': 0.75}\n",
      "aa 2 {1: {'weight': 0.125}, 4: {'weight': 1.2}}\n",
      "bb 1 {'weight': 0.125}\n",
      "bb 4 {'weight': 1.2}\n",
      "aa 3 {1: {'weight': 0.75}, 4: {'weight': 0.375}}\n",
      "bb 1 {'weight': 0.75}\n",
      "bb 4 {'weight': 0.375}\n",
      "aa 4 {2: {'weight': 1.2}, 3: {'weight': 0.375}}\n",
      "bb 2 {'weight': 1.2}\n",
      "bb 3 {'weight': 0.375}\n"
     ]
    }
   ],
   "source": [
    "FG=nx.Graph()\n",
    "FG.add_weighted_edges_from([(1,2,0.125),(1,3,0.75),(2,4,1.2),(3,4,0.375)])\n",
    "for n,nbrs in FG.adjacency():\n",
    "    print('aa', n,nbrs)\n",
    "    for nbr,eattr in nbrs.items():\n",
    "        print('bb', nbr,eattr)\n",
    "        data=eattr['weight']\n",
    "        #if data<0.5: print('(%d, %d, %.3f)' % (n,nbr,data))  "
   ]
  },
  {
   "cell_type": "code",
   "execution_count": 16,
   "metadata": {},
   "outputs": [
    {
     "data": {
      "image/png": "[encoded data removed]",
      "text/plain": [
       "<Figure size 432x288 with 1 Axes>"
      ]
     },
     "metadata": {},
     "output_type": "display_data"
    }
   ],
   "source": [
    "pos=nx.spring_layout(FG)\n",
    "nx.draw(FG,pos=pos)"
   ]
  },
  {
   "cell_type": "code",
   "execution_count": 17,
   "metadata": {},
   "outputs": [
    {
     "data": {
      "text/plain": [
       "{1: array([-1.        , -0.40453909]),\n",
       " 2: array([ 0.9347493 , -0.41669958]),\n",
       " 3: array([-0.63571684,  0.46786086]),\n",
       " 4: array([0.70096754, 0.35337781])}"
      ]
     },
     "execution_count": 17,
     "metadata": {},
     "output_type": "execute_result"
    }
   ],
   "source": [
    "pos\n"
   ]
  },
  {
   "cell_type": "code",
   "execution_count": null,
   "metadata": {},
   "outputs": [],
   "source": []
  }
 ],
 "metadata": {
  "kernelspec": {
   "display_name": "Python 3",
   "language": "python",
   "name": "python3"
  },
  "language_info": {
   "codemirror_mode": {
    "name": "ipython",
    "version": 3
   },
   "file_extension": ".py",
   "mimetype": "text/x-python",
   "name": "python",
   "nbconvert_exporter": "python",
   "pygments_lexer": "ipython3",
   "version": "3.7.4"
  }
 },
 "nbformat": 4,
 "nbformat_minor": 2
}
