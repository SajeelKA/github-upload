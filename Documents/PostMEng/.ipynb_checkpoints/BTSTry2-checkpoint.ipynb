{
 "cells": [
  {
   "cell_type": "code",
   "execution_count": 1,
   "metadata": {
    "colab": {
     "base_uri": "https://localhost:8080/"
    },
    "executionInfo": {
     "elapsed": 23827,
     "status": "ok",
     "timestamp": 1621108653431,
     "user": {
      "displayName": "Sajeel Khalid",
      "photoUrl": "",
      "userId": "17554249077233151040"
     },
     "user_tz": 240
    },
    "id": "I4Xvk4ygW6G4",
    "outputId": "4c58a4ab-d661-40a9-bad8-4c09f92653a1"
   },
   "outputs": [
    {
     "name": "stdout",
     "output_type": "stream",
     "text": [
      "Mounted at /content/gdrive\n"
     ]
    }
   ],
   "source": [
    "from google.colab import drive\n",
    "\n",
    "drive.mount('/content/gdrive', force_remount=True)"
   ]
  },
  {
   "cell_type": "code",
   "execution_count": 2,
   "metadata": {
    "executionInfo": {
     "elapsed": 2995,
     "status": "ok",
     "timestamp": 1621108657581,
     "user": {
      "displayName": "Sajeel Khalid",
      "photoUrl": "",
      "userId": "17554249077233151040"
     },
     "user_tz": 240
    },
    "id": "UipF4UJtXH9R"
   },
   "outputs": [],
   "source": [
    "import torch\n",
    "import numpy as np\n",
    "import os"
   ]
  },
  {
   "cell_type": "code",
   "execution_count": 3,
   "metadata": {
    "colab": {
     "base_uri": "https://localhost:8080/"
    },
    "executionInfo": {
     "elapsed": 589,
     "status": "ok",
     "timestamp": 1621109525015,
     "user": {
      "displayName": "Sajeel Khalid",
      "photoUrl": "",
      "userId": "17554249077233151040"
     },
     "user_tz": 240
    },
    "id": "TIRLMtHNXH_0",
    "outputId": "0277bc77-c24d-489c-c7f3-cff759a0700e"
   },
   "outputs": [
    {
     "data": {
      "text/plain": [
       "((3230, 30), (47, 29))"
      ]
     },
     "execution_count": 3,
     "metadata": {},
     "output_type": "execute_result"
    }
   ],
   "source": [
    "pathReq=os.getcwd()+'/'\n",
    "stats=np.load(pathReq+'allStats20210513.npy')\n",
    "\n",
    "forInference=np.load(pathReq+'statsForInference.npy')\n",
    "stats.shape,forInference.shape"
   ]
  },
  {
   "cell_type": "code",
   "execution_count": 5,
   "metadata": {
    "executionInfo": {
     "elapsed": 262,
     "status": "ok",
     "timestamp": 1621109530279,
     "user": {
      "displayName": "Sajeel Khalid",
      "photoUrl": "",
      "userId": "17554249077233151040"
     },
     "user_tz": 240
    },
    "id": "ELRAqMUxXLRC"
   },
   "outputs": [],
   "source": [
    "from sklearn.model_selection import train_test_split\n",
    "from sklearn.preprocessing import StandardScaler\n",
    "\n",
    "h=['PA','AB','R','H','2B','3B','HR',\n",
    "           'RBI','BB','IBB','SO','HBP','SH','SF','GDP','SB','CS']#batting only\n",
    "hBvsP=['PA2','AB2','H2', '1B2','2B2','3B2','HR2','BB2','SO2','AVG2','OBP2','SLG2'] #BvsP\n",
    "hTotal=h+hBvsP\n",
    "\n",
    "skipping=0#len(h) #sometimes we might just want to do batter vs pitcher so we skip batter stats\n",
    "features=torch.tensor(stats[:,skipping:-1])\n",
    "labels=torch.tensor(stats[:,-1])\n",
    "\n",
    "forInferenceStats=torch.tensor(forInference[:,skipping:])\n",
    "\n",
    "pctTotal=(1-torch.mean(labels))*2\n",
    "finalNo=(features.size()[0]*pctTotal).int()\n",
    "\n",
    "balancedFeatures=torch.zeros(finalNo,features.size()[1])\n",
    "balancedLabels=torch.zeros(finalNo)\n",
    "\n",
    "for smpl, l in enumerate(labels):\n",
    "  if l==1 and smpl<(finalNo//2):\n",
    "    balancedFeatures[smpl]=features[smpl]\n",
    "    balancedLabels[smpl]=l\n",
    "  elif l==0 and smpl<finalNo:\n",
    "    balancedFeatures[smpl]=features[smpl]\n",
    "    balancedLabels[smpl]=l\n",
    "\n",
    "X_train, X_test, y_train, y_test = train_test_split(balancedFeatures, balancedLabels, test_size=0.1, random_state=42)\n",
    "\n",
    "scaler = StandardScaler()\n",
    "\n",
    "x_norm=torch.tensor(scaler.fit_transform(X_train))\n",
    "\n",
    "x_norm_test=torch.tensor(scaler.fit_transform(X_test))\n",
    "\n",
    "inference_norm=torch.tensor(scaler.fit_transform(forInferenceStats))\n"
   ]
  },
  {
   "cell_type": "code",
   "execution_count": 6,
   "metadata": {
    "colab": {
     "base_uri": "https://localhost:8080/"
    },
    "executionInfo": {
     "elapsed": 268,
     "status": "ok",
     "timestamp": 1621109531387,
     "user": {
      "displayName": "Sajeel Khalid",
      "photoUrl": "",
      "userId": "17554249077233151040"
     },
     "user_tz": 240
    },
    "id": "fIDukiQ1_IPf",
    "outputId": "d2598c48-04fb-4d3e-9a35-177b5fb751b6"
   },
   "outputs": [
    {
     "data": {
      "text/plain": [
       "(torch.Size([1900, 29]), torch.Size([212, 29]), torch.Size([47, 29]))"
      ]
     },
     "execution_count": 6,
     "metadata": {},
     "output_type": "execute_result"
    }
   ],
   "source": [
    "x_norm.shape,x_norm_test.shape,inference_norm.shape"
   ]
  },
  {
   "cell_type": "code",
   "execution_count": null,
   "metadata": {},
   "outputs": [],
   "source": [
    "from torch import nn\n",
    "device='cpu'\n",
    "net = nn.Sequential(\n",
    "      nn.Linear(features.shape[1], 30),\n",
    "      nn.ReLU(),           \n",
    "      nn.Linear(30, 20),                                 \n",
    "      nn.ReLU(),\n",
    "      nn.Linear(20, 10),\n",
    "      nn.ReLU(),\n",
    "      nn.Linear(10, 1),\n",
    "      nn.Sigmoid(),\n",
    "      ).to(device)\n",
    "\n",
    "net=net.double()\n",
    "\n",
    "PATH=pathReq + '/savedModels/overlyConfident2021-05-18.pth'\n",
    "net.load_state_dict(torch.load(PATH))"
   ]
  },
  {
   "cell_type": "code",
   "execution_count": null,
   "metadata": {},
   "outputs": [],
   "source": [
    "netHold=net[:-2]\n",
    "netTrain=net[-2:]\n"
   ]
  },
  {
   "cell_type": "code",
   "execution_count": null,
   "metadata": {},
   "outputs": [],
   "source": []
  },
  {
   "cell_type": "code",
   "execution_count": null,
   "metadata": {},
   "outputs": [],
   "source": []
  },
  {
   "cell_type": "code",
   "execution_count": 6,
   "metadata": {
    "colab": {
     "base_uri": "https://localhost:8080/"
    },
    "executionInfo": {
     "elapsed": 104461,
     "status": "ok",
     "timestamp": 1621108791101,
     "user": {
      "displayName": "Sajeel Khalid",
      "photoUrl": "",
      "userId": "17554249077233151040"
     },
     "user_tz": 240
    },
    "id": "_pYFU92LXLVS",
    "outputId": "14a0e254-2572-434d-e364-e51aeb8b2c63"
   },
   "outputs": [
    {
     "name": "stderr",
     "output_type": "stream",
     "text": [
      "/usr/local/lib/python3.7/dist-packages/ipykernel_launcher.py:51: UserWarning: To copy construct from a tensor, it is recommended to use sourceTensor.clone().detach() or sourceTensor.clone().detach().requires_grad_(True), rather than torch.tensor(sourceTensor).\n",
      "/usr/local/lib/python3.7/dist-packages/ipykernel_launcher.py:52: UserWarning: To copy construct from a tensor, it is recommended to use sourceTensor.clone().detach() or sourceTensor.clone().detach().requires_grad_(True), rather than torch.tensor(sourceTensor).\n"
     ]
    },
    {
     "name": "stdout",
     "output_type": "stream",
     "text": [
      "epoch= 0 avg loss= tensor(1.1179, dtype=torch.float64) acc =  0.6932367149758454\n",
      "epoch= 1 avg loss= tensor(1.4643, dtype=torch.float64) acc =  0.7415458937198067\n",
      "epoch= 2 avg loss= tensor(1.5886, dtype=torch.float64) acc =  0.7608695652173914\n",
      "epoch= 3 avg loss= tensor(1.6686, dtype=torch.float64) acc =  0.7705314009661836\n",
      "epoch= 4 avg loss= tensor(1.7707, dtype=torch.float64) acc =  0.7763285024154589\n",
      "epoch= 5 avg loss= tensor(1.8542, dtype=torch.float64) acc =  0.7809983896940419\n",
      "epoch= 6 avg loss= tensor(1.9395, dtype=torch.float64) acc =  0.7848516218081435\n",
      "epoch= 7 avg loss= tensor(2.0133, dtype=torch.float64) acc =  0.788647342995169\n",
      "epoch= 8 avg loss= tensor(2.0796, dtype=torch.float64) acc =  0.7920021470746108\n",
      "epoch= 9 avg loss= tensor(2.1450, dtype=torch.float64) acc =  0.7954106280193237\n",
      "epoch= 10 avg loss= tensor(2.2158, dtype=torch.float64) acc =  0.7975406236275802\n",
      "epoch= 11 avg loss= tensor(2.2913, dtype=torch.float64) acc =  0.7992149758454107\n",
      "epoch= 12 avg loss= tensor(2.3671, dtype=torch.float64) acc =  0.801189149015236\n",
      "epoch= 13 avg loss= tensor(2.4404, dtype=torch.float64) acc =  0.8030538302277432\n",
      "epoch= 14 avg loss= tensor(2.5146, dtype=torch.float64) acc =  0.8047504025764896\n",
      "epoch= 15 avg loss= tensor(2.5891, dtype=torch.float64) acc =  0.8063858695652174\n",
      "epoch= 16 avg loss= tensor(2.6591, dtype=torch.float64) acc =  0.8080420574026712\n",
      "epoch= 17 avg loss= tensor(2.7274, dtype=torch.float64) acc =  0.8091116478797639\n",
      "epoch= 18 avg loss= tensor(2.7927, dtype=torch.float64) acc =  0.8100050851767099\n",
      "epoch= 19 avg loss= tensor(2.8522, dtype=torch.float64) acc =  0.8109299516908213\n",
      "epoch= 20 avg loss= tensor(2.9058, dtype=torch.float64) acc =  0.8117667356797792\n",
      "epoch= 21 avg loss= tensor(2.9563, dtype=torch.float64) acc =  0.812637241985068\n",
      "epoch= 22 avg loss= tensor(3.0052, dtype=torch.float64) acc =  0.8134845620667926\n",
      "epoch= 23 avg loss= tensor(3.0488, dtype=torch.float64) acc =  0.8142109500805152\n",
      "epoch= 24 avg loss= tensor(3.0921, dtype=torch.float64) acc =  0.8151207729468599\n",
      "epoch= 25 avg loss= tensor(3.1355, dtype=torch.float64) acc =  0.8158212560386473\n",
      "epoch= 26 avg loss= tensor(3.1765, dtype=torch.float64) acc =  0.8166040436571838\n",
      "epoch= 27 avg loss= tensor(3.2146, dtype=torch.float64) acc =  0.8175034506556246\n",
      "epoch= 28 avg loss= tensor(3.2516, dtype=torch.float64) acc =  0.8181742462102283\n",
      "epoch= 29 avg loss= tensor(3.2872, dtype=torch.float64) acc =  0.8189210950080515\n",
      "epoch= 30 avg loss= tensor(3.3243, dtype=torch.float64) acc =  0.8197366370578152\n",
      "epoch= 31 avg loss= tensor(3.3578, dtype=torch.float64) acc =  0.8205012077294686\n",
      "epoch= 32 avg loss= tensor(3.3910, dtype=torch.float64) acc =  0.8212194407846581\n",
      "epoch= 33 avg loss= tensor(3.4202, dtype=torch.float64) acc =  0.8218954248366013\n",
      "epoch= 34 avg loss= tensor(3.4483, dtype=torch.float64) acc =  0.8226363008971704\n",
      "epoch= 35 avg loss= tensor(3.4772, dtype=torch.float64) acc =  0.8232018250134192\n",
      "epoch= 36 avg loss= tensor(3.5041, dtype=torch.float64) acc =  0.8237694215955086\n",
      "epoch= 37 avg loss= tensor(3.5299, dtype=torch.float64) acc =  0.8243389270277142\n",
      "epoch= 38 avg loss= tensor(3.5530, dtype=torch.float64) acc =  0.8247863247863247\n",
      "epoch= 39 avg loss= tensor(3.5756, dtype=torch.float64) acc =  0.8253321256038647\n",
      "epoch= 40 avg loss= tensor(3.5969, dtype=torch.float64) acc =  0.8259396724402026\n",
      "epoch= 41 avg loss= tensor(3.6155, dtype=torch.float64) acc =  0.8264895330112721\n",
      "epoch= 42 avg loss= tensor(3.6329, dtype=torch.float64) acc =  0.8270138186720594\n",
      "epoch= 43 avg loss= tensor(3.6507, dtype=torch.float64) acc =  0.8275966183574879\n",
      "epoch= 44 avg loss= tensor(3.6661, dtype=torch.float64) acc =  0.8281266774020397\n",
      "epoch= 45 avg loss= tensor(3.6799, dtype=torch.float64) acc =  0.8286862003780718\n",
      "epoch= 46 avg loss= tensor(3.6936, dtype=torch.float64) acc =  0.8292476102374344\n",
      "epoch= 47 avg loss= tensor(3.7069, dtype=torch.float64) acc =  0.8298107890499195\n",
      "epoch= 48 avg loss= tensor(3.7194, dtype=torch.float64) acc =  0.8303263334319235\n",
      "epoch= 49 avg loss= tensor(3.7304, dtype=torch.float64) acc =  0.8307246376811595\n",
      "epoch= 50 avg loss= tensor(3.7413, dtype=torch.float64) acc =  0.8311310031258881\n",
      "epoch= 51 avg loss= tensor(3.7533, dtype=torch.float64) acc =  0.83161464139725\n",
      "epoch= 52 avg loss= tensor(3.7636, dtype=torch.float64) acc =  0.8321028165162702\n",
      "epoch= 53 avg loss= tensor(3.7742, dtype=torch.float64) acc =  0.8326176417963858\n",
      "epoch= 54 avg loss= tensor(3.7829, dtype=torch.float64) acc =  0.8331357048748353\n",
      "epoch= 55 avg loss= tensor(3.7922, dtype=torch.float64) acc =  0.8336999654934437\n",
      "epoch= 56 avg loss= tensor(3.8013, dtype=torch.float64) acc =  0.8342232392575643\n",
      "epoch= 57 avg loss= tensor(3.8092, dtype=torch.float64) acc =  0.834728469098784\n",
      "epoch= 58 avg loss= tensor(3.8175, dtype=torch.float64) acc =  0.8351756325227216\n",
      "epoch= 59 avg loss= tensor(3.8258, dtype=torch.float64) acc =  0.8356481481481481\n",
      "epoch= 60 avg loss= tensor(3.8329, dtype=torch.float64) acc =  0.8361447691454819\n",
      "epoch= 61 avg loss= tensor(3.8392, dtype=torch.float64) acc =  0.8366253701106436\n",
      "epoch= 62 avg loss= tensor(3.8454, dtype=torch.float64) acc =  0.8371098842113335\n",
      "epoch= 63 avg loss= tensor(3.8497, dtype=torch.float64) acc =  0.8376169987922706\n",
      "epoch= 64 avg loss= tensor(3.8551, dtype=torch.float64) acc =  0.8381085098476403\n",
      "epoch= 65 avg loss= tensor(3.8603, dtype=torch.float64) acc =  0.8386400234226321\n",
      "epoch= 66 avg loss= tensor(3.8650, dtype=torch.float64) acc =  0.8391015934818661\n",
      "epoch= 67 avg loss= tensor(3.8714, dtype=torch.float64) acc =  0.8395318272236431\n",
      "epoch= 68 avg loss= tensor(3.8778, dtype=torch.float64) acc =  0.8399320870965483\n",
      "epoch= 69 avg loss= tensor(3.8829, dtype=torch.float64) acc =  0.8402864044168392\n",
      "epoch= 70 avg loss= tensor(3.8894, dtype=torch.float64) acc =  0.8406137306933388\n",
      "epoch= 71 avg loss= tensor(3.8976, dtype=torch.float64) acc =  0.8409151905528717\n",
      "epoch= 72 avg loss= tensor(3.9063, dtype=torch.float64) acc =  0.8412083912381708\n",
      "epoch= 73 avg loss= tensor(3.9172, dtype=torch.float64) acc =  0.8413794229011621\n",
      "epoch= 74 avg loss= tensor(3.9327, dtype=torch.float64) acc =  0.8414331723027375\n",
      "epoch= 75 avg loss= tensor(3.9520, dtype=torch.float64) acc =  0.8414219425375031\n",
      "epoch= 76 avg loss= tensor(3.9686, dtype=torch.float64) acc =  0.8413168956647218\n",
      "epoch= 77 avg loss= tensor(3.9830, dtype=torch.float64) acc =  0.8412609934349065\n",
      "epoch= 78 avg loss= tensor(3.9951, dtype=torch.float64) acc =  0.8412829450253776\n",
      "epoch= 79 avg loss= tensor(4.0041, dtype=torch.float64) acc =  0.8413798309178744\n",
      "epoch= 80 avg loss= tensor(4.0144, dtype=torch.float64) acc =  0.8414594143257589\n",
      "epoch= 81 avg loss= tensor(4.0229, dtype=torch.float64) acc =  0.8415370566749146\n",
      "epoch= 82 avg loss= tensor(4.0305, dtype=torch.float64) acc =  0.8415982771666376\n",
      "epoch= 83 avg loss= tensor(4.0351, dtype=torch.float64) acc =  0.8416580400276052\n",
      "epoch= 84 avg loss= tensor(4.0406, dtype=torch.float64) acc =  0.841773231031543\n",
      "epoch= 85 avg loss= tensor(4.0496, dtype=torch.float64) acc =  0.8418997865408381\n",
      "epoch= 86 avg loss= tensor(4.0584, dtype=torch.float64) acc =  0.8420234327280804\n",
      "epoch= 87 avg loss= tensor(4.0668, dtype=torch.float64) acc =  0.8421991655687308\n",
      "epoch= 88 avg loss= tensor(4.0736, dtype=torch.float64) acc =  0.8424116593388699\n",
      "epoch= 89 avg loss= tensor(4.0790, dtype=torch.float64) acc =  0.8427267847557702\n",
      "epoch= 90 avg loss= tensor(4.0828, dtype=torch.float64) acc =  0.8431146148537453\n",
      "epoch= 91 avg loss= tensor(4.0857, dtype=torch.float64) acc =  0.8434021214030666\n",
      "epoch= 92 avg loss= tensor(4.0879, dtype=torch.float64) acc =  0.8437873357228196\n",
      "epoch= 93 avg loss= tensor(4.0901, dtype=torch.float64) acc =  0.8441258094357077\n",
      "epoch= 94 avg loss= tensor(4.0924, dtype=torch.float64) acc =  0.8444952962115434\n",
      "epoch= 95 avg loss= tensor(4.0950, dtype=torch.float64) acc =  0.8448948268921095\n",
      "epoch= 96 avg loss= tensor(4.0971, dtype=torch.float64) acc =  0.8452736690074207\n",
      "epoch= 97 avg loss= tensor(4.1000, dtype=torch.float64) acc =  0.8456817509612541\n",
      "epoch= 98 avg loss= tensor(4.1017, dtype=torch.float64) acc =  0.846081588835212\n",
      "epoch= 99 avg loss= tensor(4.1039, dtype=torch.float64) acc =  0.8464613526570048\n"
     ]
    }
   ],
   "source": [
    "from torch import nn\n",
    "import torch.optim as optim\n",
    "\n",
    "device = torch.device('cpu')\n",
    "if torch.cuda.is_available():\n",
    "    device = torch.device('cuda')\n",
    "\n",
    "#20,10,5 (40%)\n",
    "#30,20,10 (58%)(overfit)\n",
    "\n",
    "net = nn.Sequential(\n",
    "      nn.Linear(features.shape[1], 10),\n",
    "      nn.ReLU(),           \n",
    "      nn.Linear(10, 5),                 \n",
    "      nn.ReLU(),\n",
    "      nn.Linear(5, 5),                 \n",
    "      nn.ReLU(),\n",
    "      nn.Linear(5, 1),\n",
    "      nn.Sigmoid(),\n",
    "      ).to(device)\n",
    "\n",
    "net=net.double()\n",
    "\n",
    "losses=[]\n",
    "\n",
    "correct=0\n",
    "count=0\n",
    "# X_train.to(device)\n",
    "# y_train.to(device)\n",
    "\n",
    "# X_test.to(device)\n",
    "# y_test.to(device)\n",
    "def train_gen(feat,lbl, batch=4):\n",
    "  fBatch=[]#torch.zeros(batch, feat.size()[1])\n",
    "  lBatch=[]#torch.zeros(lbl)\n",
    "  for i, f in enumerate(feat):   \n",
    "    fBatch.append(f.numpy())\n",
    "    lBatch.append(lbl[i].numpy())\n",
    "    if len(fBatch)==batch:\n",
    "      yield fBatch, lBatch\n",
    "      fBatch,lBatch=[],[]\n",
    "  \n",
    "batchSize=1\n",
    "\n",
    "epochs=100\n",
    "\n",
    "for epoch in range(epochs):\n",
    "    gen=train_gen(X_train,y_train,batchSize)\n",
    "    for sample, label in zip(x_norm, y_train):\n",
    "    #for sample, label in gen:\n",
    "        sample=torch.tensor(sample).to(device)\n",
    "        label=torch.tensor(label).to(device)\n",
    "        #label=torch.from_numpy(np.array(label)).to(device)\n",
    "        sample=sample.double()\n",
    "        label=label.double()\n",
    "        \n",
    "        output=net(sample)        \n",
    "        net.zero_grad()\n",
    "        target = label\n",
    "        #target = target.view(-1, 1)  # make it the same shape as output #this is for batches\n",
    "        target = target.view(1)  # make it the same shape as output \n",
    "        #print('pred:',output, 'pred shape:',output.shape, 'label:', target, 'label shape:', target.shape)\n",
    "        criterion = nn.BCELoss()\n",
    "\n",
    "        optimizer = optim.Adam(net.parameters(), lr=0.01)\n",
    "\n",
    "        # in your training loop:\n",
    "        optimizer.zero_grad()   # zero the gradient buffers\n",
    "\n",
    "        loss = criterion(output, target)\n",
    "        loss.backward()\n",
    "        optimizer.step()    # Does the update\n",
    "        losses.append(loss)\n",
    "        count+=batchSize\n",
    "        if (output>0.5 and label==1) or (output<=0.5 and label==0):\n",
    "        #for i, o in enumerate(output):\n",
    "        #  print('o', o>0.5, 'i', label[i]>0.5)\n",
    "        #  if (o>0.5 and label[i]==1) or (o<=0.5 and label[i]==0):\n",
    "              correct+=1\n",
    "#         print('output=', output.item(), ' label = ', label.item())\n",
    "    acc=correct/count\n",
    "    \n",
    "    print('epoch=' ,epoch, 'avg loss=', torch.mean(torch.tensor(losses)), 'acc = ', acc)\n"
   ]
  },
  {
   "cell_type": "code",
   "execution_count": 7,
   "metadata": {
    "executionInfo": {
     "elapsed": 1169,
     "status": "ok",
     "timestamp": 1621108797850,
     "user": {
      "displayName": "Sajeel Khalid",
      "photoUrl": "",
      "userId": "17554249077233151040"
     },
     "user_tz": 240
    },
    "id": "zyfDUqzm5OmJ"
   },
   "outputs": [],
   "source": [
    "test=np.load(pathReq+'allStats20210513.npy')\n",
    "testfeats=test[:,:-1]\n",
    "\n",
    "x_norm_test2=torch.tensor(scaler.fit_transform(testfeats))\n",
    "y_test2=test[:,-1]"
   ]
  },
  {
   "cell_type": "code",
   "execution_count": 39,
   "metadata": {
    "colab": {
     "base_uri": "https://localhost:8080/"
    },
    "executionInfo": {
     "elapsed": 1236,
     "status": "ok",
     "timestamp": 1621109987408,
     "user": {
      "displayName": "Sajeel Khalid",
      "photoUrl": "",
      "userId": "17554249077233151040"
     },
     "user_tz": 240
    },
    "id": "FMi9wXSNBWCG",
    "outputId": "d3c55a25-ccd2-406e-e559-9bc7768740ab"
   },
   "outputs": [
    {
     "data": {
      "text/plain": [
       "Sequential(\n",
       "  (0): Linear(in_features=29, out_features=10, bias=True)\n",
       "  (1): ReLU()\n",
       "  (2): Linear(in_features=10, out_features=5, bias=True)\n",
       "  (3): ReLU()\n",
       "  (4): Linear(in_features=5, out_features=5, bias=True)\n",
       "  (5): ReLU()\n",
       "  (6): Linear(in_features=5, out_features=1, bias=True)\n",
       "  (7): Sigmoid()\n",
       ")"
      ]
     },
     "execution_count": 39,
     "metadata": {
      "tags": []
     },
     "output_type": "execute_result"
    }
   ],
   "source": [
    "from datetime import datetime\n",
    "dateReq=datetime.today().strftime('%Y-%m-%d')\n",
    "PATH=pathReq + '/savedModels/overlyConfident'+dateReq+'.pth'\n",
    "\n",
    "# for param_tensor in net.state_dict():\n",
    "#     print(param_tensor, \"\\t\", net.state_dict()[param_tensor])\n",
    "torch.save(net.state_dict(), PATH)\n",
    "net.load_state_dict(torch.load(PATH))\n",
    "net.eval()"
   ]
  },
  {
   "cell_type": "code",
   "execution_count": 32,
   "metadata": {
    "colab": {
     "base_uri": "https://localhost:8080/"
    },
    "executionInfo": {
     "elapsed": 845,
     "status": "ok",
     "timestamp": 1621109691222,
     "user": {
      "displayName": "Sajeel Khalid",
      "photoUrl": "",
      "userId": "17554249077233151040"
     },
     "user_tz": 240
    },
    "id": "dGgV0R-PBWg8",
    "outputId": "5583dd81-33eb-47b0-f757-7d3107a67b2f"
   },
   "outputs": [
    {
     "name": "stdout",
     "output_type": "stream",
     "text": [
      "pred test= 0.9999999998810889 label= 1.0\n",
      "pred test= 0.9999999956599717 label= 0.0\n",
      "pred test= 0.9999999956599717 label= 1.0\n",
      "pred test= 0.9999998912015452 label= 1.0\n",
      "pred test= 0.9999999956599717 label= 0.0\n",
      "pred test= 0.9999999956599717 label= 1.0\n",
      "pred test= 0.9999999956599717 label= 0.0\n",
      "pred test= 0.9999999957516867 label= 1.0\n",
      "pred test= 0.9999999956599717 label= 1.0\n",
      "pred test= 0.9999999956599717 label= 1.0\n",
      "pred test= 0.9999999804150467 label= 1.0\n",
      "pred test= 0.9999999956599717 label= 1.0\n",
      "pred test= 0.9467277134969712 label= 1.0\n",
      "pred test= 0.9999999975551932 label= 1.0\n",
      "pred test= 0.9999999956599717 label= 1.0\n",
      "pred test= 0.9999999956599717 label= 1.0\n",
      "pred test= 0.9999999956599717 label= 1.0\n",
      "pred test= 0.9999999956599717 label= 1.0\n",
      "pred test= 0.9999999956599717 label= 1.0\n",
      "pred test= 0.9999999956599717 label= 1.0\n",
      "pred test= 0.9999999999636351 label= 0.0\n",
      "pred test= 0.9999999956599717 label= 1.0\n",
      "pred test= 0.9999995896238477 label= 1.0\n",
      "pred test= 0.99999999999938 label= 1.0\n",
      "pred test= 0.9999999956599717 label= 1.0\n",
      "pred test= 0.9999999986499624 label= 1.0\n",
      "pred test= 0.9999999956599717 label= 1.0\n",
      "pred test= 0.9999999999906228 label= 1.0\n",
      "pred test= 0.9999999956599717 label= 1.0\n",
      "pred test= 0.9999999956599717 label= 1.0\n",
      "pred test= 0.9999999956599717 label= 1.0\n",
      "pred test= 0.9999999956599717 label= 1.0\n",
      "pred test= 0.9999999956599717 label= 1.0\n",
      "pred test= 0.9999999998604239 label= 1.0\n",
      "pred test= 0.9999999956599717 label= 0.0\n",
      "pred test= 0.9999999999588083 label= 1.0\n",
      "pred test= 0.9999999984409882 label= 1.0\n",
      "pred test= 0.99999999931912 label= 0.0\n",
      "pred test= 0.9999999956599717 label= 0.0\n",
      "pred test= 0.9999999956599717 label= 0.0\n",
      "pred test= 0.9999999956599717 label= 1.0\n",
      "pred test= 0.9999999956599717 label= 1.0\n",
      "pred test= 0.9999999956599717 label= 0.0\n",
      "pred test= 0.999999860536173 label= 1.0\n",
      "pred test= 0.9999999956599717 label= 0.0\n",
      "pred test= 0.9995533976411939 label= 1.0\n",
      "pred test= 0.8606283034031099 label= 0.0\n",
      "pred test= 0.9999999990168591 label= 1.0\n",
      "pred test= 0.9999999956599717 label= 1.0\n",
      "pred test= 0.9999999956599717 label= 0.0\n",
      "pred test= 0.9999999956599717 label= 1.0\n",
      "pred test= 0.9999999956599717 label= 1.0\n",
      "pred test= 0.9999999956599717 label= 1.0\n",
      "pred test= 0.9999977694139592 label= 0.0\n",
      "pred test= 0.9999999956599717 label= 0.0\n",
      "pred test= 0.9999999956599717 label= 1.0\n",
      "pred test= 0.9999999956599717 label= 1.0\n",
      "pred test= 0.9999999956599717 label= 1.0\n",
      "pred test= 0.9999999956599717 label= 1.0\n",
      "pred test= 0.9999999996593292 label= 1.0\n",
      "pred test= 0.9999999956599717 label= 1.0\n",
      "pred test= 0.9999999988388297 label= 1.0\n",
      "pred test= 0.9999999956599717 label= 1.0\n",
      "pred test= 0.9999999956599717 label= 0.0\n",
      "pred test= 0.9999999956599717 label= 0.0\n",
      "pred test= 0.9999999956599717 label= 1.0\n",
      "pred test= 0.9999999956599717 label= 1.0\n",
      "pred test= 0.9999999956599717 label= 0.0\n",
      "pred test= 0.9999999956599717 label= 1.0\n",
      "pred test= 0.9999999956599717 label= 1.0\n",
      "pred test= 0.9999999956599717 label= 1.0\n",
      "pred test= 0.9999999956599717 label= 1.0\n",
      "pred test= 0.9999999998240201 label= 0.0\n",
      "pred test= 0.9999999956599717 label= 1.0\n",
      "pred test= 0.9999999999985036 label= 1.0\n",
      "pred test= 0.9999999956599717 label= 1.0\n",
      "pred test= 0.9999999956599717 label= 0.0\n",
      "pred test= 0.9999999956599717 label= 0.0\n",
      "pred test= 0.9999999977985325 label= 1.0\n",
      "pred test= 0.9999999999552682 label= 1.0\n",
      "pred test= 0.9999999956599717 label= 1.0\n",
      "pred test= 0.9999999956599717 label= 1.0\n",
      "pred test= 0.9999999956599717 label= 1.0\n",
      "pred test= 0.9999999990259398 label= 1.0\n",
      "pred test= 0.9998322607797293 label= 1.0\n",
      "pred test= 0.9999999956599717 label= 0.0\n",
      "pred test= 0.9999999956599717 label= 1.0\n",
      "pred test= 0.9999999956599717 label= 1.0\n",
      "pred test= 0.9999999956599717 label= 0.0\n",
      "pred test= 0.9999999976202696 label= 1.0\n",
      "pred test= 0.9999998284026609 label= 1.0\n",
      "pred test= 0.9999999956599717 label= 0.0\n",
      "pred test= 0.9999999956599717 label= 1.0\n",
      "pred test= 0.9999999956599717 label= 1.0\n",
      "pred test= 0.5012223295808473 label= 1.0\n",
      "pred test= 0.9999999956599717 label= 1.0\n",
      "pred test= 0.9999999999839964 label= 1.0\n",
      "pred test= 0.9999999956599717 label= 0.0\n",
      "pred test= 0.9999999956599717 label= 0.0\n",
      "pred test= 0.9999999999993279 label= 1.0\n",
      "pred test= 0.9999999956599717 label= 1.0\n",
      "pred test= 0.9999999956599717 label= 1.0\n",
      "pred test= 0.9999999956599717 label= 1.0\n",
      "pred test= 0.9999999956599717 label= 1.0\n",
      "pred test= 0.9999999956599717 label= 1.0\n",
      "pred test= 0.9999999956599717 label= 1.0\n",
      "pred test= 0.999999999777311 label= 1.0\n",
      "pred test= 0.9999999956599717 label= 1.0\n",
      "pred test= 0.9999999956599717 label= 1.0\n",
      "pred test= 0.9999999956599717 label= 0.0\n",
      "pred test= 0.9999999956599717 label= 0.0\n",
      "pred test= 0.9999999956599717 label= 1.0\n",
      "pred test= 0.9999999956599717 label= 1.0\n",
      "pred test= 0.9999999956599717 label= 0.0\n",
      "pred test= 0.9999993970828709 label= 0.0\n",
      "pred test= 0.9669208071137714 label= 0.0\n",
      "pred test= 0.9999999945186575 label= 0.0\n",
      "pred test= 0.9999886714406977 label= 0.0\n",
      "pred test= 0.9999999956599717 label= 1.0\n",
      "pred test= 0.9999999993446558 label= 1.0\n",
      "pred test= 0.9999999956599717 label= 1.0\n",
      "pred test= 0.9926042028072382 label= 0.0\n",
      "pred test= 0.9999999956599717 label= 1.0\n",
      "pred test= 0.9999999956599717 label= 0.0\n",
      "pred test= 0.9999999956599717 label= 1.0\n",
      "pred test= 0.9999999956599717 label= 0.0\n",
      "pred test= 0.9999999956599717 label= 0.0\n",
      "pred test= 0.9999999956599717 label= 1.0\n",
      "pred test= 0.9999999956599717 label= 1.0\n",
      "pred test= 0.9999999956599717 label= 1.0\n",
      "pred test= 0.9998856608324458 label= 1.0\n",
      "pred test= 0.9999999956599717 label= 1.0\n",
      "pred test= 0.9999999956599717 label= 1.0\n",
      "pred test= 0.9999999956599717 label= 1.0\n",
      "pred test= 0.9999320295052817 label= 1.0\n",
      "pred test= 0.9999999956599717 label= 1.0\n",
      "pred test= 0.9999999999988884 label= 1.0\n",
      "pred test= 0.9999999956599717 label= 1.0\n",
      "pred test= 0.9999999956599717 label= 1.0\n",
      "pred test= 0.9999999956599717 label= 1.0\n",
      "pred test= 0.9999999956599717 label= 1.0\n",
      "pred test= 0.9999999941097975 label= 0.0\n",
      "pred test= 0.9999999980810408 label= 1.0\n",
      "pred test= 0.9999999956599717 label= 0.0\n",
      "pred test= 0.9999999956599717 label= 1.0\n",
      "pred test= 0.9999999956599717 label= 1.0\n",
      "pred test= 0.9999999956599717 label= 1.0\n",
      "pred test= 0.9999999956599717 label= 0.0\n",
      "pred test= 0.9999999956599717 label= 0.0\n",
      "pred test= 0.9999999999842852 label= 1.0\n",
      "pred test= 0.9999999956599717 label= 0.0\n",
      "pred test= 0.9999920277808433 label= 1.0\n",
      "pred test= 0.9999999956599717 label= 1.0\n",
      "pred test= 0.9999999956599717 label= 1.0\n",
      "pred test= 0.9999999956599717 label= 1.0\n",
      "pred test= 0.9789108413187855 label= 0.0\n",
      "pred test= 0.9999999997911437 label= 1.0\n",
      "pred test= 0.9999999930066319 label= 0.0\n",
      "pred test= 0.9999999999999456 label= 1.0\n",
      "pred test= 0.9999999995451363 label= 1.0\n",
      "pred test= 0.9999999956599717 label= 0.0\n",
      "pred test= 0.9999999956599717 label= 1.0\n",
      "pred test= 0.9999999956599717 label= 1.0\n",
      "pred test= 0.9999999997055353 label= 1.0\n",
      "pred test= 0.9999999979588177 label= 1.0\n",
      "pred test= 0.9999999956599717 label= 1.0\n",
      "pred test= 0.9999999956599717 label= 1.0\n",
      "pred test= 0.9999999999220965 label= 1.0\n",
      "pred test= 0.9999999956599717 label= 0.0\n",
      "pred test= 0.9999999990816255 label= 1.0\n",
      "pred test= 0.9999999999993812 label= 1.0\n",
      "pred test= 0.9999999999892035 label= 1.0\n",
      "pred test= 0.999999998138968 label= 0.0\n",
      "pred test= 0.9999999956599717 label= 0.0\n",
      "pred test= 0.9999999956599717 label= 0.0\n",
      "pred test= 0.9999999956599717 label= 1.0\n",
      "pred test= 0.9999999956599717 label= 1.0\n",
      "pred test= 0.9999999990094322 label= 1.0\n",
      "pred test= 0.9999999956599717 label= 1.0\n",
      "pred test= 0.9999999989728325 label= 1.0\n",
      "pred test= 0.998989609755108 label= 1.0\n",
      "pred test= 0.9999999956599717 label= 1.0\n",
      "pred test= 0.9999999997349933 label= 1.0\n",
      "pred test= 0.9999999956599717 label= 1.0\n",
      "pred test= 0.9999999956599717 label= 1.0\n",
      "pred test= 0.9999999956599717 label= 1.0\n",
      "pred test= 0.9999999956599717 label= 1.0\n",
      "pred test= 0.9999999956599717 label= 1.0\n",
      "pred test= 0.9999999963722974 label= 1.0\n",
      "pred test= 0.9999999956599717 label= 0.0\n",
      "pred test= 0.9999999956599717 label= 1.0\n",
      "pred test= 0.9999999956599717 label= 1.0\n",
      "pred test= 0.9999999956599717 label= 1.0\n",
      "pred test= 0.9999999956599717 label= 0.0\n",
      "pred test= 0.9999999956599717 label= 1.0\n",
      "pred test= 0.99999999969858 label= 1.0\n",
      "pred test= 0.9999999956599717 label= 1.0\n",
      "pred test= 0.9999999987439743 label= 1.0\n",
      "pred test= 0.9999999971390989 label= 1.0\n",
      "pred test= 0.9999999956599717 label= 0.0\n",
      "pred test= 0.9999999956599717 label= 1.0\n",
      "pred test= 0.9999999956599717 label= 1.0\n",
      "pred test= 0.9999999956599717 label= 0.0\n",
      "pred test= 0.9999999956599717 label= 1.0\n",
      "pred test= 0.9999999991269917 label= 0.0\n",
      "pred test= 0.9999999956599717 label= 0.0\n",
      "pred test= 0.9999999956599717 label= 1.0\n",
      "pred test= 0.9999999971136568 label= 1.0\n",
      "pred test= 0.9999999956599717 label= 0.0\n",
      "pred test= 0.9999999956599717 label= 1.0\n",
      "pred test= 0.9999999956599717 label= 1.0\n",
      "pred test= 0.9999999956599717 label= 0.0\n",
      "pred test= 0.9999999956599717 label= 1.0\n",
      "pred test= 0.9988959909848127 label= 1.0\n",
      "pred test= 0.9999999956599717 label= 1.0\n",
      "pred test= 0.9999999956599717 label= 0.0\n",
      "pred test= 0.9999999999999984 label= 1.0\n",
      "pred test= 0.9999999956599717 label= 1.0\n",
      "pred test= 0.9989833285916725 label= 1.0\n",
      "pred test= 0.9999999956599717 label= 0.0\n",
      "pred test= 0.9999999956599717 label= 1.0\n",
      "pred test= 0.9999999956599717 label= 1.0\n",
      "pred test= 0.9999999956599717 label= 1.0\n",
      "pred test= 0.957093330448842 label= 0.0\n",
      "pred test= 0.9999999976930358 label= 0.0\n",
      "pred test= 1.0 label= 1.0\n",
      "pred test= 0.9999999956599717 label= 1.0\n",
      "pred test= 0.9999999956599717 label= 1.0\n",
      "pred test= 0.9999999956599717 label= 0.0\n"
     ]
    }
   ],
   "source": [
    "net.eval()\n",
    "net.cpu()\n",
    "indices=500\n",
    "net(x_norm[:indices].cpu()),y_train[:indices],net(x_norm_test[:indices].cpu()),y_test[:indices]\n",
    "\n",
    "# for i in range(indices):\n",
    "#   print('pred=', net(x_norm[i].cpu()).item(),'label=', y_train[i])\n",
    "\n",
    "for i in range(indices):\n",
    "  pred_score=net(x_norm_test2[i].cpu()).item()\n",
    "  if pred_score >0.5:\n",
    "    print('pred test=', pred_score ,'label=', y_test2[i])"
   ]
  },
  {
   "cell_type": "code",
   "execution_count": 33,
   "metadata": {
    "executionInfo": {
     "elapsed": 251,
     "status": "ok",
     "timestamp": 1621109700931,
     "user": {
      "displayName": "Sajeel Khalid",
      "photoUrl": "",
      "userId": "17554249077233151040"
     },
     "user_tz": 240
    },
    "id": "_I6-x4RXTrIl"
   },
   "outputs": [],
   "source": [
    "net.eval()\n",
    "net.cpu()\n",
    "preds=net(inference_norm)"
   ]
  },
  {
   "cell_type": "code",
   "execution_count": 34,
   "metadata": {
    "colab": {
     "base_uri": "https://localhost:8080/"
    },
    "executionInfo": {
     "elapsed": 927,
     "status": "ok",
     "timestamp": 1621109703082,
     "user": {
      "displayName": "Sajeel Khalid",
      "photoUrl": "",
      "userId": "17554249077233151040"
     },
     "user_tz": 240
    },
    "id": "hJo-QiBmpHAw",
    "outputId": "62392626-49e4-4bdb-c0c0-dc35bda2ee4f"
   },
   "outputs": [
    {
     "data": {
      "text/plain": [
       "torch.Size([48, 29])"
      ]
     },
     "execution_count": 34,
     "metadata": {
      "tags": []
     },
     "output_type": "execute_result"
    }
   ],
   "source": [
    "inference_norm.shape"
   ]
  },
  {
   "cell_type": "code",
   "execution_count": 35,
   "metadata": {
    "colab": {
     "base_uri": "https://localhost:8080/"
    },
    "executionInfo": {
     "elapsed": 265,
     "status": "ok",
     "timestamp": 1621109704772,
     "user": {
      "displayName": "Sajeel Khalid",
      "photoUrl": "",
      "userId": "17554249077233151040"
     },
     "user_tz": 240
    },
    "id": "-Vv6td_fWSFv",
    "outputId": "145f0f36-f082-4ee0-b288-e32025e95c97"
   },
   "outputs": [
    {
     "data": {
      "text/plain": [
       "torch.Size([48, 1])"
      ]
     },
     "execution_count": 35,
     "metadata": {
      "tags": []
     },
     "output_type": "execute_result"
    }
   ],
   "source": [
    "\n",
    "preds.shape"
   ]
  },
  {
   "cell_type": "code",
   "execution_count": 36,
   "metadata": {
    "executionInfo": {
     "elapsed": 239,
     "status": "ok",
     "timestamp": 1621109705486,
     "user": {
      "displayName": "Sajeel Khalid",
      "photoUrl": "",
      "userId": "17554249077233151040"
     },
     "user_tz": 240
    },
    "id": "cm_NV0jP-tsf"
   },
   "outputs": [],
   "source": [
    "pList=[['Rafael Devers', 'Boston'],\n",
    " ['Willie Calhoun', 'Texas'],\n",
    " ['Eric Hosmer', 'San Diego'],\n",
    " ['Rhys Hoskins', 'Philadelphia'],\n",
    " ['Bryce Harper', 'Philadelphia'],\n",
    " ['Jesus Aguilar', 'Miami'],\n",
    " ['Trevor Story', 'Colorado'],\n",
    " ['Nick Castellanos', 'Cincinnati'],\n",
    " ['Ryan McMahon', 'Colorado'],\n",
    " ['Justin Turner', 'Los Angeles'],\n",
    " ['DJ LeMahieu', 'New York'],\n",
    " ['Alex Bregman', 'Houston'],\n",
    " ['Miguel Rojas', 'Miami'],\n",
    " ['Paul Goldschmidt', 'St. Louis'],\n",
    " ['Yoan Moncada', 'Chicago'],\n",
    " ['Trent Grisham', 'San Diego'],\n",
    " ['Yonathan Daza', 'Colorado'],\n",
    " ['Josh Rojas', 'Arizona'],\n",
    " ['Carlos Santana', 'Kansas City'],\n",
    " ['Yuli Gurriel', 'Houston'],\n",
    " ['David Fletcher', 'Los Angeles'],\n",
    " ['Dylan Carlson', 'St. Louis'],\n",
    " ['Raimel Tapia', 'Colorado'],\n",
    " ['Austin Riley', 'Atlanta'],\n",
    " ['David Peralta', 'Arizona'],\n",
    " ['Marcus Semien', 'Toronto'],\n",
    " ['Salvador Perez', 'Kansas City'],\n",
    " ['Andrew Benintendi', 'Kansas City'],\n",
    " ['Alex Verdugo', 'Boston'],\n",
    " ['Cedric Mullins', 'Baltimore'],\n",
    " ['Kris Bryant', 'Chicago'],\n",
    " ['Jesse Winker', 'Cincinnati'],\n",
    " ['Xander Bogaerts', 'Boston'],\n",
    " ['Michael Brantley', 'Houston'],\n",
    " ['Tommy Edman', 'St. Louis'],\n",
    " ['Giancarlo Stanton', 'New York'],\n",
    " ['Jared Walsh', 'Los Angeles'],\n",
    " ['J.D. Martinez', 'Boston'],\n",
    " ['Starlin Castro', 'Washington'],\n",
    " ['Nolan Arenado', 'St. Louis'],\n",
    " ['Nate Lowe', 'Texas'],\n",
    " ['Tim Anderson', 'Chicago'],\n",
    " ['Trea Turner', 'Washington'],\n",
    " ['Isiah Kiner-Falefa', 'Texas'],\n",
    " ['Adam Frazier', 'Pittsburgh'],\n",
    " ['Pavin Smith', 'Arizona'],\n",
    " ['Nick Solak', 'Texas'],\n",
    " ['Trey Mancini', 'Baltimore']]\n",
    "\n"
   ]
  },
  {
   "cell_type": "code",
   "execution_count": 38,
   "metadata": {
    "colab": {
     "base_uri": "https://localhost:8080/"
    },
    "executionInfo": {
     "elapsed": 243,
     "status": "ok",
     "timestamp": 1621109720720,
     "user": {
      "displayName": "Sajeel Khalid",
      "photoUrl": "",
      "userId": "17554249077233151040"
     },
     "user_tz": 240
    },
    "id": "rzmbFIuPUcAh",
    "outputId": "8febb28f-bd4a-4170-a1ed-fd6b55ffe635"
   },
   "outputs": [
    {
     "name": "stdout",
     "output_type": "stream",
     "text": [
      "2021-05-15\n",
      "['David Fletcher', 'Los Angeles'] 1.0\n",
      "['Pavin Smith', 'Arizona'] 1.0\n",
      "['Yonathan Daza', 'Colorado'] 1.0\n",
      "['Ryan McMahon', 'Colorado'] 0.9999999999999991\n",
      "['Dylan Carlson', 'St. Louis'] 0.9999999999972427\n",
      "['Nick Solak', 'Texas'] 0.9999999999873859\n",
      "['Nolan Arenado', 'St. Louis'] 0.9999999999864697\n",
      "['Tommy Edman', 'St. Louis'] 0.999999999022096\n",
      "['Willie Calhoun', 'Texas'] 0.99999999819039\n",
      "['Nate Lowe', 'Texas'] 0.9999999978206273\n",
      "['Cedric Mullins', 'Baltimore'] 0.9999999956599717\n",
      "['Tim Anderson', 'Chicago'] 0.9999999956599717\n",
      "['Raimel Tapia', 'Colorado'] 0.9999999956599717\n",
      "['Salvador Perez', 'Kansas City'] 0.9999999956599717\n",
      "['Michael Brantley', 'Houston'] 0.9999999956599717\n",
      "['J.D. Martinez', 'Boston'] 0.9999999956599717\n",
      "['Trey Mancini', 'Baltimore'] 0.9999999956599717\n",
      "['Starlin Castro', 'Washington'] 0.9999999956599717\n",
      "['Xander Bogaerts', 'Boston'] 0.9999999956599717\n",
      "['Jesse Winker', 'Cincinnati'] 0.9999999956599717\n"
     ]
    }
   ],
   "source": [
    "from datetime import datetime\n",
    "print(datetime.today().strftime('%Y-%m-%d'))\n",
    "nnOut=[]\n",
    "for i, ind in enumerate(torch.topk(preds.reshape(1,preds.shape[0]),20)[1][0]):  \n",
    "  nnOut.append(pList[ind])\n",
    "  print(pList[ind],torch.topk(preds.reshape(1,preds.shape[0]),20)[0][0][i].item())"
   ]
  },
  {
   "cell_type": "code",
   "execution_count": null,
   "metadata": {
    "colab": {
     "base_uri": "https://localhost:8080/"
    },
    "executionInfo": {
     "elapsed": 1016,
     "status": "ok",
     "timestamp": 1621018584629,
     "user": {
      "displayName": "Sajeel Khalid",
      "photoUrl": "",
      "userId": "17554249077233151040"
     },
     "user_tz": 240
    },
    "id": "amsby5xLpi38",
    "outputId": "0e1b6ded-fbec-42f7-911d-283acb022d82"
   },
   "outputs": [
    {
     "data": {
      "text/plain": [
       "49"
      ]
     },
     "execution_count": 73,
     "metadata": {
      "tags": []
     },
     "output_type": "execute_result"
    }
   ],
   "source": [
    "len(pList)"
   ]
  },
  {
   "cell_type": "code",
   "execution_count": 22,
   "metadata": {
    "executionInfo": {
     "elapsed": 484,
     "status": "ok",
     "timestamp": 1621109096334,
     "user": {
      "displayName": "Sajeel Khalid",
      "photoUrl": "",
      "userId": "17554249077233151040"
     },
     "user_tz": 240
    },
    "id": "fcM2ZJZIcJHl"
   },
   "outputs": [],
   "source": [
    "from sklearn.linear_model import LogisticRegression\n",
    "\n",
    "clf = LogisticRegression(random_state=0, max_iter=1000).fit(x_norm, y_train)"
   ]
  },
  {
   "cell_type": "code",
   "execution_count": 23,
   "metadata": {
    "colab": {
     "base_uri": "https://localhost:8080/"
    },
    "executionInfo": {
     "elapsed": 414,
     "status": "ok",
     "timestamp": 1621109097784,
     "user": {
      "displayName": "Sajeel Khalid",
      "photoUrl": "",
      "userId": "17554249077233151040"
     },
     "user_tz": 240
    },
    "id": "Csxu5MBGq2SH",
    "outputId": "825a6ed4-301c-45e2-e6a9-a1f524725732"
   },
   "outputs": [
    {
     "data": {
      "text/plain": [
       "0.8152173913043478"
      ]
     },
     "execution_count": 23,
     "metadata": {
      "tags": []
     },
     "output_type": "execute_result"
    }
   ],
   "source": [
    "clf.score(x_norm_test, y_test)"
   ]
  },
  {
   "cell_type": "code",
   "execution_count": 24,
   "metadata": {
    "colab": {
     "base_uri": "https://localhost:8080/"
    },
    "executionInfo": {
     "elapsed": 349,
     "status": "ok",
     "timestamp": 1621109099749,
     "user": {
      "displayName": "Sajeel Khalid",
      "photoUrl": "",
      "userId": "17554249077233151040"
     },
     "user_tz": 240
    },
    "id": "UeTtafFOrFyg",
    "outputId": "96a7b411-0633-43d2-f892-50b6f16bfff5"
   },
   "outputs": [
    {
     "name": "stdout",
     "output_type": "stream",
     "text": [
      "2021-05-15\n",
      "['Paul Goldschmidt', 'St. Louis'] 0.999780017203643\n",
      "['Rafael Devers', 'Boston'] 0.9848612150580556\n",
      "['Randal Grichuk', 'Toronto'] 0.9346816196472018\n",
      "['Giancarlo Stanton', 'New York'] 0.9259634913698378\n",
      "['Andrew Benintendi', 'Kansas City'] 0.8824150199235107\n",
      "['Jesus Aguilar', 'Miami'] 0.8433218626593961\n",
      "['Shohei Ohtani', 'Los Angeles'] 0.8396202610265788\n",
      "['Trey Mancini', 'Baltimore'] 0.8273806263552075\n",
      "['Rhys Hoskins', 'Philadelphia'] 0.7735909562856644\n",
      "['Corey Seager', 'Los Angeles'] 0.7596874128563706\n"
     ]
    }
   ],
   "source": [
    "from datetime import datetime\n",
    "print(datetime.today().strftime('%Y-%m-%d'))\n",
    "\n",
    "lrOut=[]\n",
    "for i, pred in enumerate(clf.predict_proba(inference_norm)[:,1][np.argsort(-clf.predict_proba(inference_norm)[:,1])][:10]):  \n",
    "  lrOut.append(pList[i])\n",
    "  print(pList[i], pred)"
   ]
  },
  {
   "cell_type": "code",
   "execution_count": 27,
   "metadata": {
    "colab": {
     "base_uri": "https://localhost:8080/"
    },
    "executionInfo": {
     "elapsed": 452,
     "status": "ok",
     "timestamp": 1621109252823,
     "user": {
      "displayName": "Sajeel Khalid",
      "photoUrl": "",
      "userId": "17554249077233151040"
     },
     "user_tz": 240
    },
    "id": "mApugbdMK2AE",
    "outputId": "e961a5aa-fb40-4631-d1dd-13fdc23fb598"
   },
   "outputs": [
    {
     "name": "stdout",
     "output_type": "stream",
     "text": [
      "['Paul Goldschmidt', 'St. Louis']\n",
      "['Corey Seager', 'Los Angeles']\n",
      "['Randal Grichuk', 'Toronto']\n",
      "['Giancarlo Stanton', 'New York']\n",
      "['Rhys Hoskins', 'Philadelphia']\n",
      "['Rafael Devers', 'Boston']\n",
      "['Jesus Aguilar', 'Miami']\n"
     ]
    }
   ],
   "source": [
    "for o in nnOut:\n",
    "  if o in lrOut:\n",
    "    print(o)"
   ]
  },
  {
   "cell_type": "code",
   "execution_count": null,
   "metadata": {
    "id": "r0HwoyahK2EN"
   },
   "outputs": [],
   "source": []
  },
  {
   "cell_type": "code",
   "execution_count": null,
   "metadata": {
    "id": "90sCHyjeE6Te"
   },
   "outputs": [],
   "source": [
    "# 2021-05-12\n",
    "# ['Jake Cronenworth', 'San Diego'] 0.9951982878094792\n",
    "# ['Paul Goldschmidt', 'St. Louis'] 0.9885262239419107\n",
    "# ['Yermin Mercedes', 'Chicago'] 0.9743571206807747\n",
    "# ['Carlos Santana', 'Kansas City'] 0.9727445792429186\n",
    "# ['Mike Trout', 'Los Angeles'] 0.9636184834153763\n",
    "# ['Austin Riley', 'Atlanta'] 0.9586897621663748\n",
    "# ['Randal Grichuk', 'Toronto'] 0.9498869962253059\n",
    "# ['J.D. Martinez', 'Boston'] 0.9106846220235486\n",
    "# ['Trey Mancini', 'Baltimore'] 0.8654366296051179\n",
    "# ['Trent Grisham', 'San Diego'] 0.7794279905260642\n",
    "\n"
   ]
  },
  {
   "cell_type": "code",
   "execution_count": null,
   "metadata": {
    "id": "TES-FdFZE6We"
   },
   "outputs": [],
   "source": []
  },
  {
   "cell_type": "code",
   "execution_count": null,
   "metadata": {
    "id": "ZGjwy0nmE6Zr"
   },
   "outputs": [],
   "source": []
  },
  {
   "cell_type": "code",
   "execution_count": null,
   "metadata": {
    "colab": {
     "base_uri": "https://localhost:8080/"
    },
    "executionInfo": {
     "elapsed": 576,
     "status": "ok",
     "timestamp": 1620770734966,
     "user": {
      "displayName": "Sajeel Khalid",
      "photoUrl": "",
      "userId": "17554249077233151040"
     },
     "user_tz": 240
    },
    "id": "m3lgqiFkcBxW",
    "outputId": "4d7fe776-08ee-4642-ec0e-2925caa11430"
   },
   "outputs": [
    {
     "data": {
      "text/plain": [
       "(array([18,  9, 11, 32, 34, 28, 36, 29, 15,  4, 39,  8,  3, 35,  0, 19, 26,\n",
       "        33,  2, 13, 21, 42,  6, 14, 30, 38, 41, 40, 37, 31,  7, 25, 17, 10,\n",
       "        46,  1, 43, 24, 22, 45, 20, 16, 12,  5, 44, 27, 23]),\n",
       " array([0.45747394, 0.07671667, 0.42466979, 0.50921759, 0.64018901,\n",
       "        0.0657057 , 0.26373826, 0.08482591, 0.56207819, 0.8352786 ,\n",
       "        0.0806784 , 0.83372114, 0.0657057 , 0.37323229, 0.25208786,\n",
       "        0.66286895, 0.0657057 , 0.08482591, 0.9721208 , 0.44813441,\n",
       "        0.0657057 , 0.36740579, 0.06914139, 0.0657057 , 0.06914139,\n",
       "        0.08482591, 0.43756551, 0.0657057 , 0.68468595, 0.66286895,\n",
       "        0.21396768, 0.08939631, 0.82797847, 0.42979197, 0.71715111,\n",
       "        0.47543885, 0.66309993, 0.10858724, 0.19750926, 0.62796537,\n",
       "        0.13930828, 0.18658975, 0.35013712, 0.07651625, 0.0657057 ,\n",
       "        0.0657057 , 0.07671667]),\n",
       " array([0.9721208 , 0.8352786 , 0.83372114, 0.82797847, 0.71715111,\n",
       "        0.68468595, 0.66309993, 0.66286895, 0.66286895, 0.64018901,\n",
       "        0.62796537, 0.56207819, 0.50921759, 0.47543885, 0.45747394,\n",
       "        0.44813441, 0.43756551, 0.42979197, 0.42466979, 0.37323229,\n",
       "        0.36740579, 0.35013712, 0.26373826, 0.25208786, 0.21396768,\n",
       "        0.19750926, 0.18658975, 0.13930828, 0.10858724, 0.08939631,\n",
       "        0.08482591, 0.08482591, 0.08482591, 0.0806784 , 0.07671667,\n",
       "        0.07671667, 0.07651625, 0.06914139, 0.06914139, 0.0657057 ,\n",
       "        0.0657057 , 0.0657057 , 0.0657057 , 0.0657057 , 0.0657057 ,\n",
       "        0.0657057 , 0.0657057 ]))"
      ]
     },
     "execution_count": 116,
     "metadata": {
      "tags": []
     },
     "output_type": "execute_result"
    }
   ],
   "source": [
    "np.argsort(-clf.predict_proba(inference_norm)[:,1]),clf.predict_proba(inference_norm)[:,1],clf.predict_proba(inference_norm)[:,1][np.argsort(-clf.predict_proba(inference_norm)[:,1])]\n"
   ]
  },
  {
   "cell_type": "code",
   "execution_count": null,
   "metadata": {
    "colab": {
     "base_uri": "https://localhost:8080/"
    },
    "executionInfo": {
     "elapsed": 207,
     "status": "ok",
     "timestamp": 1620769647096,
     "user": {
      "displayName": "Sajeel Khalid",
      "photoUrl": "",
      "userId": "17554249077233151040"
     },
     "user_tz": 240
    },
    "id": "_DtIyARISetU",
    "outputId": "ef6cf957-d4e7-40e8-b362-6d9264801321"
   },
   "outputs": [
    {
     "data": {
      "text/plain": [
       "array([[ 0.15407444,  0.12765536, -0.51097697, -1.28875385, -0.11525518,\n",
       "        -0.02817996, -0.53926629,  0.40723739,  0.94032604,  0.08294364,\n",
       "         1.06828656,  0.04501935,  0.        ,  0.53586396,  0.33600777,\n",
       "        -0.05340233,  0.14588743,  0.59336036]])"
      ]
     },
     "execution_count": 93,
     "metadata": {
      "tags": []
     },
     "output_type": "execute_result"
    }
   ],
   "source": [
    "h=['PA','AB','R','H','2B','3B','HR',\n",
    "           'RBI','BB','IBB','SO','HBP','SH','SF','GDP','SB','CS']#batting only\n",
    "hBvsP=['PA2','AB2','H2', '1B2','2B2','3B2','HR2','BB2','SO2','AVG2','OBP2','SLG2'] #BvsP\n",
    "\n",
    "clf.coef_"
   ]
  },
  {
   "cell_type": "code",
   "execution_count": null,
   "metadata": {
    "colab": {
     "base_uri": "https://localhost:8080/",
     "height": 35
    },
    "executionInfo": {
     "elapsed": 206,
     "status": "ok",
     "timestamp": 1620769689094,
     "user": {
      "displayName": "Sajeel Khalid",
      "photoUrl": "",
      "userId": "17554249077233151040"
     },
     "user_tz": 240
    },
    "id": "rMKVv5sNSe3l",
    "outputId": "db4772b5-68ad-45d3-ef73-adef24cb5168"
   },
   "outputs": [
    {
     "data": {
      "application/vnd.google.colaboratory.intrinsic+json": {
       "type": "string"
      },
      "text/plain": [
       "'BB'"
      ]
     },
     "execution_count": 94,
     "metadata": {
      "tags": []
     },
     "output_type": "execute_result"
    }
   ],
   "source": [
    "h[8]"
   ]
  },
  {
   "cell_type": "code",
   "execution_count": null,
   "metadata": {
    "colab": {
     "base_uri": "https://localhost:8080/"
    },
    "executionInfo": {
     "elapsed": 246,
     "status": "ok",
     "timestamp": 1620767498524,
     "user": {
      "displayName": "Sajeel Khalid",
      "photoUrl": "",
      "userId": "17554249077233151040"
     },
     "user_tz": 240
    },
    "id": "glxU0A-rrF13",
    "outputId": "0c54e0da-a8b8-4774-d002-0da68ceb2c68"
   },
   "outputs": [
    {
     "data": {
      "text/plain": [
       "tensor([1., 0., 1., 1., 1., 0., 0., 0., 0., 1., 0., 0., 1., 1., 1.])"
      ]
     },
     "execution_count": 41,
     "metadata": {
      "tags": []
     },
     "output_type": "execute_result"
    }
   ],
   "source": [
    "y_test[:15]"
   ]
  },
  {
   "cell_type": "code",
   "execution_count": null,
   "metadata": {
    "id": "ayvAWM_dq2YC"
   },
   "outputs": [],
   "source": []
  },
  {
   "cell_type": "code",
   "execution_count": null,
   "metadata": {
    "colab": {
     "base_uri": "https://localhost:8080/",
     "height": 219
    },
    "executionInfo": {
     "elapsed": 942,
     "status": "error",
     "timestamp": 1620754436768,
     "user": {
      "displayName": "Sajeel Khalid",
      "photoUrl": "",
      "userId": "17554249077233151040"
     },
     "user_tz": 240
    },
    "id": "T7vj3hdNc5vY",
    "outputId": "7b783696-ea60-4324-86ab-0f053b35d9c8"
   },
   "outputs": [
    {
     "ename": "IndexError",
     "evalue": "ignored",
     "output_type": "error",
     "traceback": [
      "\u001b[0;31m---------------------------------------------------------------------------\u001b[0m",
      "\u001b[0;31mIndexError\u001b[0m                                Traceback (most recent call last)",
      "\u001b[0;32m<ipython-input-46-c820f3e34b9c>\u001b[0m in \u001b[0;36m<module>\u001b[0;34m()\u001b[0m\n\u001b[1;32m      5\u001b[0m     \u001b[0mbalancedSet\u001b[0m\u001b[0;34m[\u001b[0m\u001b[0msmpl\u001b[0m\u001b[0;34m]\u001b[0m\u001b[0;34m=\u001b[0m\u001b[0mfeatures\u001b[0m\u001b[0;34m[\u001b[0m\u001b[0msmpl\u001b[0m\u001b[0;34m]\u001b[0m\u001b[0;34m\u001b[0m\u001b[0;34m\u001b[0m\u001b[0m\n\u001b[1;32m      6\u001b[0m   \u001b[0;32melse\u001b[0m\u001b[0;34m:\u001b[0m\u001b[0;34m\u001b[0m\u001b[0;34m\u001b[0m\u001b[0m\n\u001b[0;32m----> 7\u001b[0;31m     \u001b[0mbalancedSet\u001b[0m\u001b[0;34m[\u001b[0m\u001b[0msmpl\u001b[0m\u001b[0;34m]\u001b[0m\u001b[0;34m=\u001b[0m\u001b[0mfeatures\u001b[0m\u001b[0;34m[\u001b[0m\u001b[0msmpl\u001b[0m\u001b[0;34m]\u001b[0m\u001b[0;34m\u001b[0m\u001b[0;34m\u001b[0m\u001b[0m\n\u001b[0m\u001b[1;32m      8\u001b[0m \u001b[0;34m\u001b[0m\u001b[0m\n",
      "\u001b[0;31mIndexError\u001b[0m: index 914 is out of bounds for dimension 0 with size 914"
     ]
    }
   ],
   "source": [
    "pctTotal=(1-torch.mean(labels))*2\n",
    "\n",
    "finalNo=(features.size()[0]*pctTotal).int()\n",
    "\n",
    "balancedSet=torch.zeros(finalNo,features.size()[1])\n",
    "\n",
    "for smpl, l in enumerate(labels):\n",
    "  if l==1 and smpl<(finalNo/2):\n",
    "    balancedSet[smpl]=features[smpl].copy()\n",
    "  else:\n",
    "    balancedSet[smpl]=features[smpl].copy()\n",
    "\n"
   ]
  },
  {
   "cell_type": "code",
   "execution_count": null,
   "metadata": {
    "colab": {
     "base_uri": "https://localhost:8080/"
    },
    "executionInfo": {
     "elapsed": 819,
     "status": "ok",
     "timestamp": 1620754244387,
     "user": {
      "displayName": "Sajeel Khalid",
      "photoUrl": "",
      "userId": "17554249077233151040"
     },
     "user_tz": 240
    },
    "id": "8nZsFzcBdZy4",
    "outputId": "6bc7a1aa-8fc1-4878-bb6f-125614404d32"
   },
   "outputs": [
    {
     "data": {
      "text/plain": [
       "tensor(914, dtype=torch.int32)"
      ]
     },
     "execution_count": 44,
     "metadata": {
      "tags": []
     },
     "output_type": "execute_result"
    }
   ],
   "source": [
    "finalNo"
   ]
  },
  {
   "cell_type": "code",
   "execution_count": null,
   "metadata": {
    "id": "EjJPPUQlex-z"
   },
   "outputs": [],
   "source": []
  }
 ],
 "metadata": {
  "colab": {
   "authorship_tag": "ABX9TyOnTl+8kwkagbNlDBWBNAoY",
   "collapsed_sections": [],
   "name": "BTSTry.ipynb",
   "provenance": []
  },
  "kernelspec": {
   "display_name": "Python 3",
   "language": "python",
   "name": "python3"
  },
  "language_info": {
   "codemirror_mode": {
    "name": "ipython",
    "version": 3
   },
   "file_extension": ".py",
   "mimetype": "text/x-python",
   "name": "python",
   "nbconvert_exporter": "python",
   "pygments_lexer": "ipython3",
   "version": "3.7.4"
  }
 },
 "nbformat": 4,
 "nbformat_minor": 1
}
