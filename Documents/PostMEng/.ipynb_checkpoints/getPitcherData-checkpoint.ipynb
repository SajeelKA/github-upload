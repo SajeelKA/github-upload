{
 "cells": [
  {
   "cell_type": "code",
   "execution_count": 1,
   "metadata": {},
   "outputs": [],
   "source": [
    "#finding\n",
    "from bs4 import BeautifulSoup\n",
    "import requests\n",
    "import numpy as np\n",
    "\n",
    "def getURLs(l_rows):\n",
    "    dictRet=dict()#each players game log is stored\n",
    "    col=0\n",
    "\n",
    "    for r in l_rows:\n",
    "        col=0\n",
    "        for c in r.find_all(\"td\"):        \n",
    "            col+=1\n",
    "            if col==1:\n",
    "                playerName=c.text \n",
    "            if c.text.strip()=='gl':# find gameLog link in gl href\n",
    "                url=c(\"a\")[0]['href']\n",
    "                dictRet[playerName]=url#each players game log is stored\n",
    "                break\n",
    "    \n",
    "    return dictRet\n",
    "\n",
    "def getPastDayStatsPitcher(days):\n",
    "    \n",
    "    #URL=\"https://www.baseball-reference.com/leagues/daily.fcgi?request=1&type=b&dates=lastndays&lastndays=7&since=2021-04-01&fromandto=2021-04-01.2021-04-30&level=mlb&franch=ANY\"\n",
    "    URL=\"https://www.baseball-reference.com/leagues/daily.fcgi?request=1&type=p&dates=lastndays&lastndays=\"+str(days)+\"&since=2021-04-01&fromandto=2021-04-01.2021-04-30&level=mlb&franch=ANY\"\n",
    "    print(URL)\n",
    "    page = requests.get(URL)\n",
    "    soup = BeautifulSoup(page.content, 'html.parser')        \n",
    "    results=soup.find(id=\"daily\")\n",
    "    cells=results.find_all(\"td\")\n",
    "    headers=results.find_all(\"thead\")\n",
    "    i=0\n",
    "    headList=[]\n",
    "\n",
    "    for h in headers:#just find what each col refers to\n",
    "        for cells in h.text.split('\\n'):\n",
    "            if cells.strip() != '' and cells.strip() != 'Rk':\n",
    "                i+=1        \n",
    "                headList.append(cells)\n",
    "    print(headList)\n",
    "\n",
    "    rows=results.find_all(\"tr\")\n",
    "    statDict=dict()\n",
    "\n",
    "    for r in rows:\n",
    "        colCount=0\n",
    "        statListTemp=[]\n",
    "        cols=r.find_all(\"td\")\n",
    "        for c in cols:\n",
    "            if c.text.strip()!='gl':#skip gl for now\n",
    "                colCount+=1            \n",
    "            if colCount==1:\n",
    "                keyReq=c.text.strip()#using player-name based dictionary\n",
    "                colCount+=1\n",
    "            elif colCount>1 and c.text.strip()!='gl':\n",
    "                statListTemp.append(c.text.strip())#input respective stats\n",
    "        if colCount>1:\n",
    "            statDict[keyReq]=statListTemp#put into dict\n",
    "\n",
    "    urlGLDict=getURLs(rows)\n",
    "    \n",
    "    return statDict, urlGLDict, headList"
   ]
  },
  {
   "cell_type": "code",
   "execution_count": 76,
   "metadata": {},
   "outputs": [],
   "source": [
    "pDates={'Kyle Gibson': ['2021-04-07',\n",
    "  '2021-04-24',\n",
    "  '2021-05-21',\n",
    "  '2021-05-10',\n",
    "  '2021-04-29',\n",
    "  '2021-05-16',\n",
    "  '2021-04-01',\n",
    "  '2021-04-13',\n",
    "  '2021-04-18'],\n",
    " 'Wade LeBlanc': ['2021-04-24'],\n",
    " 'Chris Bassitt': ['2021-04-24',\n",
    "  '2021-05-05',\n",
    "  '2021-04-06',\n",
    "  '2021-04-29',\n",
    "  '2021-05-22',\n",
    "  '2021-04-12',\n",
    "  '2021-04-01',\n",
    "  '2021-05-11',\n",
    "  '2021-04-18'],\n",
    "      }"
   ]
  },
  {
   "cell_type": "code",
   "execution_count": null,
   "metadata": {},
   "outputs": [],
   "source": []
  },
  {
   "cell_type": "code",
   "execution_count": 77,
   "metadata": {},
   "outputs": [],
   "source": [
    "def getURLsPitchers(l_rows, pitcherList):\n",
    "    dictRet=dict()#each players game log is stored\n",
    "    col=0\n",
    "\n",
    "    for r in l_rows:\n",
    "        col=0\n",
    "        for c in r.find_all(\"td\"):        \n",
    "            col+=1\n",
    "            if col==1:\n",
    "                playerName=c.text \n",
    "            if playerName not in pitcherList:\n",
    "                break\n",
    "            if c.text.strip()=='gl':# find gameLog link in gl href\n",
    "                url=c(\"a\")[0]['href']\n",
    "                dictRet[playerName]=url#each players game log is stored\n",
    "                break\n",
    "    \n",
    "    return dictRet"
   ]
  },
  {
   "cell_type": "code",
   "execution_count": 78,
   "metadata": {},
   "outputs": [
    {
     "name": "stdout",
     "output_type": "stream",
     "text": [
      "https://www.baseball-reference.com/leagues/daily.fcgi?request=1&type=p&lastndays=7&dates=since&since=2021-04-01&fromandto=2021-05-01.2021-05-31&level=mlb&franch=ANY\n",
      "['Name', 'Age', '#days', 'Lev', 'Tm', 'G', 'GS', 'W', 'L', 'SV', 'IP', 'H', 'R', 'ER', 'BB', 'SO', 'HR', 'HBP', 'ERA', 'AB', '2B', '3B', 'IBB', 'GDP', 'SF', 'SB', 'CS', 'PO', 'BF', 'Pit', 'Str', 'StL', 'StS', 'GB/FB', 'LD', 'PU', 'WHIP', 'BAbip', 'SO9', 'SO/W']\n"
     ]
    }
   ],
   "source": [
    "\n",
    "days=7\n",
    "URL='https://www.baseball-reference.com/leagues/daily.fcgi?request=1&type=p&lastndays=7&dates=since&since=2021-04-01&fromandto=2021-05-01.2021-05-31&level=mlb&franch=ANY'\n",
    "print(URL)\n",
    "page = requests.get(URL)\n",
    "soup = BeautifulSoup(page.content, 'html.parser')        \n",
    "results=soup.find(id=\"daily\")\n",
    "cells=results.find_all(\"td\")\n",
    "headers=results.find_all(\"thead\")\n",
    "i=0\n",
    "headList=[]\n",
    "\n",
    "for h in headers:#just find what each col refers to\n",
    "    for cells in h.text.split('\\n'):\n",
    "        if cells.strip() != '' and cells.strip() != 'Rk':\n",
    "            i+=1        \n",
    "            headList.append(cells)\n",
    "print(headList)\n",
    "\n",
    "rows=results.find_all(\"tr\")\n",
    "\n",
    "pNames=list(pDates.keys())\n",
    "urlGLDict=getURLsPitchers(rows, pNames)\n"
   ]
  },
  {
   "cell_type": "code",
   "execution_count": 79,
   "metadata": {},
   "outputs": [
    {
     "data": {
      "text/plain": [
       "{'Chris Bassitt': '/minors/player.fcgi?id=bassit000chr&type=pgl',\n",
       " 'Kyle Gibson': '/minors/player.fcgi?id=gibson002kyl&type=pgl',\n",
       " 'Wade LeBlanc': '/minors/player.fcgi?id=leblan001wad&type=pgl'}"
      ]
     },
     "execution_count": 79,
     "metadata": {},
     "output_type": "execute_result"
    }
   ],
   "source": [
    "urlGLDict"
   ]
  },
  {
   "cell_type": "code",
   "execution_count": 80,
   "metadata": {},
   "outputs": [],
   "source": [
    "def getPitcherStatsPerApperance(url):\n",
    "    stats=requests.get(url)\n",
    "    stats=BeautifulSoup(stats.content, 'html.parser')\n",
    "    statTable=stats.find(id=\"pitching_gamelogs_milb\")\n",
    "    headers=['Rk','Date','Lev','Tm','at','Opp','Inngs','Dec','IP','H','R','ER','BB','SO','HR','HBP','GSc','AB','2B','3B','IBB','GDP','SF','SB','CS','PO','BF','Pit','Str','StL','StS','GB','FB','LD','PU']\n",
    "    headersCounted=['Date','Dec','IP','H','R','ER','BB','SO','HR','HBP','AB','2B','3B','IBB','Pit','Str','StL','StS']\n",
    "    perGame=dict()\n",
    "    mapping=dict()\n",
    "\n",
    "    \n",
    "    for i, h in enumerate(headers[1:]):\n",
    "        mapping[i]=h\n",
    "\n",
    "    for table in statTable.find_all('tbody'):#table body\n",
    "        for row in table.find_all('tr'):#per row         \n",
    "            cellNo=0\n",
    "            dateKey=''#to avoid old dateKeys being used\n",
    "            for c in row.find_all('td'):             \n",
    "                if mapping[cellNo] in headersCounted:                    \n",
    "                    if cellNo==0:\n",
    "                        if '(' in c.text or c.text.strip()=='':                            \n",
    "                            break\n",
    "                        dateKey=c.text\n",
    "                        perGame[dateKey]=[]\n",
    "                        cellNo+=1\n",
    "#                         print(dateKey)\n",
    "                        continue\n",
    "                    if mapping[cellNo]=='Dec':\n",
    "                        if c.text.strip()=='W':                        \n",
    "                            perGame[dateKey].append(1)#for later W/L calc\n",
    "                        else:\n",
    "                            perGame[dateKey].append(0)\n",
    "                    else:\n",
    "                        if c.text.strip()=='':\n",
    "                            perGame[dateKey].append(0)\n",
    "                        else:\n",
    "                            perGame[dateKey].append(c.text)                                \n",
    "                    if len(perGame[dateKey])>17:#needs to be exactly 17 anyways\n",
    "                        print(mapping[cellNo], cellNo)\n",
    "              \n",
    "                cellNo+=1\n",
    "    return perGame\n",
    "\n",
    "def sumUp(statDaily, dateTill):\n",
    "    cumulative=np.zeros((0,statDaily[list(statDaily.keys())[0]].shape[0]))\n",
    "    for i, d in enumerate(list(statDaily.keys())):\n",
    "        if i==0:\n",
    "            cumulative=np.vstack((cumulative, np.zeros((1,statDaily[d].shape[0]))))\n",
    "        if d == dateTill:\n",
    "            cumulative=np.vstack((cumulative, statDaily[d].copy()))\n",
    "            break\n",
    "        else:\n",
    "            cumulative=np.vstack((cumulative, statDaily[d].copy()))\n",
    "            \n",
    "    return np.cumsum(cumulative,axis=0)\n",
    "                 \n",
    "    "
   ]
  },
  {
   "cell_type": "code",
   "execution_count": 81,
   "metadata": {},
   "outputs": [
    {
     "name": "stdout",
     "output_type": "stream",
     "text": [
      "Kyle Gibson\n",
      "2021-04-01 [ 0.   0.1  4.   5.   5.   3.   1.   0.   0.   5.   0.   0.   0.  32.\n",
      " 17.   4.   7. ]\n",
      "2021-04-07 [ 1.  6.  6.  0.  0.  1.  8.  0.  0. 23.  2.  0.  0. 82. 55. 15. 12.]\n",
      "2021-04-13 [ 1.  7.  4.  2.  1.  2.  3.  0.  1. 24.  1.  0.  0. 86. 51. 13.  9.]\n",
      "2021-04-18 [ 0.  8.  4.  0.  0.  0.  6.  0.  0. 28.  2.  0.  0. 97. 66. 17. 10.]\n",
      "2021-04-24 [ 0.  6.  6.  1.  1.  2.  5.  0.  0. 22.  0.  0.  0. 99. 59. 12. 17.]\n",
      "2021-04-29 [ 1.  6.  3.  1.  1.  3.  4.  0.  0. 21.  2.  0.  0. 98. 60. 16.  8.]\n",
      "2021-05-04 [  0.   8.   3.   3.   3.   2.   8.   2.   0.  27.   0.   0.   0. 107.\n",
      "  67.  20.  17.]\n",
      "2021-05-10 [  0.   6.   4.   1.   1.   2.   6.   1.   0.  21.   1.   0.   0. 103.\n",
      "  63.  24.   9.]\n",
      "2021-05-16 [ 0.  7.  4.  2.  2.  2.  3.  0.  0. 25.  0.  0.  0. 94. 60. 18. 12.]\n",
      "2021-05-21 [  0.   6.   4.   1.   1.   2.   4.   0.   1.  22.   1.   0.   0. 106.\n",
      "  66.  19.   6.]\n",
      "Wade LeBlanc\n",
      "2021-04-06 [ 0.  1.  3.  3.  3.  0.  0.  1.  0.  6.  1.  0.  0. 12. 10.  4.  0.]\n",
      "2021-04-08 [ 0.  1.  0.  0.  0.  0.  1.  0.  1.  3.  0.  0.  0. 15.  8.  3.  1.]\n",
      "2021-04-10 [ 0.   0.2  1.   0.   0.   0.   1.   0.   0.   3.   0.   0.   0.  13.\n",
      "  8.   3.   0. ]\n",
      "2021-04-17 [ 0.   1.1  1.   0.   0.   0.   1.   0.   0.   5.   0.   0.   0.  24.\n",
      " 14.   3.   2. ]\n",
      "2021-04-24 [ 0.   1.2  6.   4.   4.   1.   2.   0.   0.  11.   2.   0.   0.  48.\n",
      " 33.   7.   7. ]\n",
      "2021-05-08 [ 0.  3.  0.  0.  0.  1.  4.  0.  0. 11.  0.  0.  0. 57. 35. 16.  3.]\n",
      "2021-05-14 [ 0.   2.2  4.   5.   5.   4.   3.   0.   0.  11.   1.   0.   0.  69.\n",
      " 37.  14.   3. ]\n",
      "2021-05-19 [ 0.  5.  6.  2.  2.  1.  3.  1.  0. 20.  1.  0.  0. 88. 61. 17.  5.]\n",
      "2021-05-25 [ 1.  6.  2.  0.  0.  1.  4.  0.  0. 19.  1.  0.  0. 72. 47. 12.  6.]\n",
      "Chris Bassitt\n",
      "2021-04-01 [ 0.   5.1  4.   3.   3.   2.   3.   0.   1.  19.   2.   0.   0.  68.\n",
      " 46.  13.   6. ]\n",
      "2021-04-06 [  0.   6.   9.   4.   4.   1.   4.   2.   1.  26.   2.   0.   0. 102.\n",
      "  65.  13.   8.]\n",
      "2021-04-12 [ 1.  5.  2.  2.  2.  5.  4.  0.  0. 16.  0.  0.  0. 93. 55. 17.  8.]\n",
      "2021-04-18 [ 0.  6.  5.  2.  2.  2.  8.  0.  0. 23.  0.  0.  0. 90. 63. 14. 16.]\n",
      "2021-04-24 [  1.   6.   8.   2.   2.   1.   8.   0.   0.  25.   3.   0.   0. 101.\n",
      "  67.  16.  14.]\n",
      "2021-04-29 [ 0.  6.  4.  2.  2.  1.  9.  1.  3. 22.  3.  0.  0. 99. 65. 16. 15.]\n",
      "2021-05-05 [ 0.  7.  6.  2.  2.  0.  7.  0.  0. 26.  1.  0.  0. 90. 63. 14. 12.]\n",
      "2021-05-11 [ 1.  7.  3.  2.  2.  0. 10.  1.  0. 23.  0.  0.  0. 86. 64. 17. 10.]\n",
      "2021-05-16 [ 0.  5.  6.  4.  4.  2.  4.  1.  2. 20.  1.  0.  0. 89. 58. 17.  6.]\n",
      "2021-05-22 [ 1.   7.2  5.   2.   2.   1.   8.   0.   0.  28.   1.   1.   0.  95.\n",
      " 64.  15.  11. ]\n"
     ]
    }
   ],
   "source": [
    "perDate=dict()\n",
    "pNames=list(pDict.keys())\n",
    "for p in pNames:\n",
    "    print(p)\n",
    "    urlToCheck='https://www.baseball-reference.com/register/'+urlGLDict[p][len('/minors/'):]\n",
    "#     urlReq.append(urlToCheck)\n",
    "    perDate[p]=getPitcherStatsPerApperance(urlToCheck)\n",
    "    \n",
    "    for daily in perDate[p].keys():        \n",
    "        perDate[p][daily]=np.array(perDate[p][daily],dtype=np.float32)    \n",
    "        print(daily,perDate[p][daily])\n",
    "#     allGL[p],allGLNumpy[p]=getGLBatter(urlToCheck)    "
   ]
  },
  {
   "cell_type": "code",
   "execution_count": 46,
   "metadata": {},
   "outputs": [
    {
     "data": {
      "text/plain": [
       "[0,\n",
       " '1.2',\n",
       " '6',\n",
       " '4',\n",
       " '4',\n",
       " '1',\n",
       " '2',\n",
       " '0',\n",
       " '0',\n",
       " '11',\n",
       " '2',\n",
       " '0',\n",
       " '0',\n",
       " '48',\n",
       " '33',\n",
       " '7',\n",
       " '7',\n",
       " 0,\n",
       " '']"
      ]
     },
     "execution_count": 46,
     "metadata": {},
     "output_type": "execute_result"
    }
   ],
   "source": [
    "# perDate[list(perDate.keys())[1]],list(perDate.keys())[1],\n",
    "perDate[p][daily]"
   ]
  },
  {
   "cell_type": "code",
   "execution_count": 35,
   "metadata": {},
   "outputs": [],
   "source": [
    "GLheadTotal=['Name','Age','days','Lev','Tm','G','GS','W','L','SV','IP','H','R''ER','BB','SO','HR','HBP','ERA','AB','2B','3B','IBB','GDP','SF','SB','CS','PO','BF','Pit','Str','StL','StS','GB/FB','LD','PU','WHIP','BAbip','SO9','SO/W']\n",
    "GLheadReq=['G','W','L','SV','IP','H','R''ER','BB','SO','HR','HBP','ERA','AB','2B','3B','IBB','GDP','SF','SB''CS','PO','BF','Pit','Str','StL','StS','GB/FB','LD','PU','WHIP','BAbip','SO9','SO/W']"
   ]
  },
  {
   "cell_type": "code",
   "execution_count": null,
   "metadata": {},
   "outputs": [],
   "source": []
  },
  {
   "cell_type": "code",
   "execution_count": 36,
   "metadata": {},
   "outputs": [
    {
     "ename": "NameError",
     "evalue": "name 'perGame' is not defined",
     "output_type": "error",
     "traceback": [
      "\u001b[0;31m---------------------------------------------------------------------------\u001b[0m",
      "\u001b[0;31mNameError\u001b[0m                                 Traceback (most recent call last)",
      "\u001b[0;32m<ipython-input-36-de02b25d975e>\u001b[0m in \u001b[0;36m<module>\u001b[0;34m\u001b[0m\n\u001b[0;32m----> 1\u001b[0;31m \u001b[0;32mfor\u001b[0m \u001b[0mdaily\u001b[0m \u001b[0;32min\u001b[0m \u001b[0mperGame\u001b[0m\u001b[0;34m.\u001b[0m\u001b[0mkeys\u001b[0m\u001b[0;34m(\u001b[0m\u001b[0;34m)\u001b[0m\u001b[0;34m:\u001b[0m\u001b[0;34m\u001b[0m\u001b[0;34m\u001b[0m\u001b[0m\n\u001b[0m\u001b[1;32m      2\u001b[0m     \u001b[0mperGame\u001b[0m\u001b[0;34m[\u001b[0m\u001b[0mdaily\u001b[0m\u001b[0;34m]\u001b[0m\u001b[0;34m=\u001b[0m\u001b[0mnp\u001b[0m\u001b[0;34m.\u001b[0m\u001b[0marray\u001b[0m\u001b[0;34m(\u001b[0m\u001b[0mperGame\u001b[0m\u001b[0;34m[\u001b[0m\u001b[0mdaily\u001b[0m\u001b[0;34m]\u001b[0m\u001b[0;34m,\u001b[0m\u001b[0mdtype\u001b[0m\u001b[0;34m=\u001b[0m\u001b[0mnp\u001b[0m\u001b[0;34m.\u001b[0m\u001b[0mfloat32\u001b[0m\u001b[0;34m)\u001b[0m\u001b[0;34m\u001b[0m\u001b[0;34m\u001b[0m\u001b[0m\n\u001b[1;32m      3\u001b[0m     \u001b[0mprint\u001b[0m\u001b[0;34m(\u001b[0m\u001b[0mdaily\u001b[0m\u001b[0;34m,\u001b[0m\u001b[0mperGame\u001b[0m\u001b[0;34m[\u001b[0m\u001b[0mdaily\u001b[0m\u001b[0;34m]\u001b[0m\u001b[0;34m)\u001b[0m\u001b[0;34m\u001b[0m\u001b[0;34m\u001b[0m\u001b[0m\n",
      "\u001b[0;31mNameError\u001b[0m: name 'perGame' is not defined"
     ]
    }
   ],
   "source": []
  },
  {
   "cell_type": "code",
   "execution_count": 124,
   "metadata": {},
   "outputs": [],
   "source": [
    "def sumUp(statDaily, dateTill):\n",
    "    cumulative=np.zeros((0,statDaily[list(statDaily.keys())[0]].shape[0]))\n",
    "    for i, d in enumerate(list(statDaily.keys())):\n",
    "        if i==0:\n",
    "            cumulative=np.vstack((cumulative, np.zeros((1,statDaily[d].shape[0]))))\n",
    "        if d == dateTill:\n",
    "            cumulative=np.vstack((cumulative, statDaily[d].copy()))\n",
    "            break\n",
    "        else:\n",
    "            cumulative=np.vstack((cumulative, statDaily[d].copy()))\n",
    "            \n",
    "    return np.cumsum(cumulative,axis=0)\n",
    "                 \n",
    "    "
   ]
  },
  {
   "cell_type": "code",
   "execution_count": 125,
   "metadata": {},
   "outputs": [
    {
     "data": {
      "text/plain": [
       "array([[  0. ,   0. ,   0. ,   0. ,   0. ,   0. ,   0. ,   0. ,   0. ,\n",
       "          0. ,   0. ,   0. ,   0. ,   0. ,   0. ,   0. ,   0. ],\n",
       "       [  0. ,   0.1,   4. ,   5. ,   5. ,   3. ,   1. ,   0. ,   0. ,\n",
       "          5. ,   0. ,   0. ,   0. ,  32. ,  17. ,   4. ,   7. ],\n",
       "       [  1. ,   6.1,  10. ,   5. ,   5. ,   4. ,   9. ,   0. ,   0. ,\n",
       "         28. ,   2. ,   0. ,   0. , 114. ,  72. ,  19. ,  19. ]])"
      ]
     },
     "execution_count": 125,
     "metadata": {},
     "output_type": "execute_result"
    }
   ],
   "source": [
    "a=sumUp(perGame, '2021-04-07')\n",
    "a"
   ]
  },
  {
   "cell_type": "code",
   "execution_count": 119,
   "metadata": {},
   "outputs": [
    {
     "data": {
      "text/plain": [
       "array([   0.        ,    0.        ,    0.        ,    0.        ,\n",
       "          0.        ,    0.        ,    0.        ,    0.        ,\n",
       "          0.        ,    0.        ,    0.        ,    0.        ,\n",
       "          0.        ,    0.        ,    0.        ,    0.        ,\n",
       "          0.        ,    0.        ,    0.1       ,    4.2       ,\n",
       "         13.3       ,   27.40000001,   44.50000001,   62.60000001,\n",
       "         80.70000001,   98.80000001,  121.90000001,  145.00000001,\n",
       "        168.10000002,  191.20000002,  246.30000002,  318.40000002,\n",
       "        394.50000002,  477.60000002,  561.70000003,  651.80000003,\n",
       "        747.90000003,  844.00000003,  940.10000003, 1037.20000003,\n",
       "       1142.30000003, 1247.40000004, 1352.50000004, 1480.60000004,\n",
       "       1610.70000004, 1740.80000004, 1870.90000004, 2083.00000004,\n",
       "       2350.10000005, 2632.20000005, 2926.30000005])"
      ]
     },
     "execution_count": 119,
     "metadata": {},
     "output_type": "execute_result"
    }
   ],
   "source": [
    "np.set_printoptions(suppress=True)\n",
    "\n",
    "\n",
    "np.cumsum(a, axis=0)"
   ]
  },
  {
   "cell_type": "code",
   "execution_count": 90,
   "metadata": {},
   "outputs": [
    {
     "data": {
      "text/plain": [
       "17"
      ]
     },
     "execution_count": 90,
     "metadata": {},
     "output_type": "execute_result"
    }
   ],
   "source": [
    "perGame[list(perGame.keys())[0]].shape[0]"
   ]
  },
  {
   "cell_type": "code",
   "execution_count": 45,
   "metadata": {},
   "outputs": [
    {
     "data": {
      "text/plain": [
       "'https://www.baseball-reference.com/register/player.fcgi?id=gibson002kyl&type=pgl'"
      ]
     },
     "execution_count": 45,
     "metadata": {},
     "output_type": "execute_result"
    }
   ],
   "source": [
    "h=['Rk',,'Date','Lev','Tm','at','Opp','Inngs','Dec','IP','H','R','ER','BB','SO','HR','HBP','GSc','AB','2B','3B','IBB','GDP','SF','SB','CS','PO','BF','Pit','Str','StL','StS','GB','FB','LD','PU']"
   ]
  },
  {
   "cell_type": "code",
   "execution_count": null,
   "metadata": {},
   "outputs": [],
   "source": []
  }
 ],
 "metadata": {
  "kernelspec": {
   "display_name": "Python 3",
   "language": "python",
   "name": "python3"
  },
  "language_info": {
   "codemirror_mode": {
    "name": "ipython",
    "version": 3
   },
   "file_extension": ".py",
   "mimetype": "text/x-python",
   "name": "python",
   "nbconvert_exporter": "python",
   "pygments_lexer": "ipython3",
   "version": "3.7.4"
  }
 },
 "nbformat": 4,
 "nbformat_minor": 2
}
