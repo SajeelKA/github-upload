{
 "cells": [
  {
   "cell_type": "code",
   "execution_count": 37,
   "metadata": {},
   "outputs": [],
   "source": [
    "import torch\n",
    "import numpy as np"
   ]
  },
  {
   "cell_type": "code",
   "execution_count": 39,
   "metadata": {},
   "outputs": [
    {
     "data": {
      "text/plain": [
       "(1565, 30)"
      ]
     },
     "execution_count": 39,
     "metadata": {},
     "output_type": "execute_result"
    }
   ],
   "source": [
    "stats=np.load('allStats.npy')\n",
    "stats.shape"
   ]
  },
  {
   "cell_type": "code",
   "execution_count": 56,
   "metadata": {},
   "outputs": [],
   "source": [
    "h=['PA','AB','R','H','2B','3B','HR',\n",
    "           'RBI','BB','IBB','SO','HBP','SH','SF','GDP','SB','CS']#batting only\n",
    "hBvsP=['PA2','AB2','H2', '1B2','2B2','3B2','HR2','BB2','SO2','AVG2','OBP2','SLG2'] #BvsP\n",
    "hTotal=h+hBvsP\n",
    "features=stats[:,:-1]\n",
    "labels=stats[:,-1]"
   ]
  },
  {
   "cell_type": "code",
   "execution_count": null,
   "metadata": {},
   "outputs": [],
   "source": []
  },
  {
   "cell_type": "code",
   "execution_count": null,
   "metadata": {},
   "outputs": [],
   "source": []
  },
  {
   "cell_type": "code",
   "execution_count": 57,
   "metadata": {},
   "outputs": [],
   "source": [
    "from sklearn.model_selection import train_test_split\n",
    "features=torch.tensor(features)\n",
    "labels=torch.tensor(labels)\n",
    "\n",
    "X_train, X_test, y_train, y_test = train_test_split(features, labels, test_size=0.1, random_state=42)\n"
   ]
  },
  {
   "cell_type": "code",
   "execution_count": null,
   "metadata": {},
   "outputs": [
    {
     "name": "stdout",
     "output_type": "stream",
     "text": [
      "epoch= 0 avg loss= tensor(0.6357, dtype=torch.float64) acc =  0.0014204545454545455\n",
      "epoch= 1 avg loss= tensor(0.6229, dtype=torch.float64) acc =  0.0007102272727272727\n",
      "epoch= 2 avg loss= tensor(0.6186, dtype=torch.float64) acc =  0.0004734848484848485\n",
      "epoch= 3 avg loss= tensor(0.6165, dtype=torch.float64) acc =  0.0003551136363636364\n",
      "epoch= 4 avg loss= tensor(0.6152, dtype=torch.float64) acc =  0.0002840909090909091\n",
      "epoch= 5 avg loss= tensor(0.6143, dtype=torch.float64) acc =  0.00023674242424242425\n",
      "epoch= 6 avg loss= tensor(0.6137, dtype=torch.float64) acc =  0.00020292207792207794\n",
      "epoch= 7 avg loss= tensor(0.6132, dtype=torch.float64) acc =  0.0001775568181818182\n",
      "epoch= 8 avg loss= tensor(0.6129, dtype=torch.float64) acc =  0.00015782828282828284\n",
      "epoch= 9 avg loss= tensor(0.6126, dtype=torch.float64) acc =  0.00014204545454545454\n",
      "epoch= 10 avg loss= tensor(0.6123, dtype=torch.float64) acc =  0.00012913223140495868\n",
      "epoch= 11 avg loss= tensor(0.6121, dtype=torch.float64) acc =  0.00011837121212121212\n",
      "epoch= 12 avg loss= tensor(0.6119, dtype=torch.float64) acc =  0.00010926573426573427\n",
      "epoch= 13 avg loss= tensor(0.6118, dtype=torch.float64) acc =  0.00010146103896103897\n",
      "epoch= 14 avg loss= tensor(0.6117, dtype=torch.float64) acc =  9.46969696969697e-05\n",
      "epoch= 15 avg loss= tensor(0.6115, dtype=torch.float64) acc =  8.87784090909091e-05\n",
      "epoch= 16 avg loss= tensor(0.6114, dtype=torch.float64) acc =  8.355614973262032e-05\n",
      "epoch= 17 avg loss= tensor(0.6113, dtype=torch.float64) acc =  7.891414141414142e-05\n",
      "epoch= 18 avg loss= tensor(0.6112, dtype=torch.float64) acc =  7.476076555023923e-05\n",
      "epoch= 19 avg loss= tensor(0.6112, dtype=torch.float64) acc =  7.102272727272727e-05\n",
      "epoch= 20 avg loss= tensor(0.6111, dtype=torch.float64) acc =  6.764069264069264e-05\n",
      "epoch= 21 avg loss= tensor(0.6110, dtype=torch.float64) acc =  6.456611570247934e-05\n",
      "epoch= 22 avg loss= tensor(0.6110, dtype=torch.float64) acc =  6.175889328063241e-05\n"
     ]
    }
   ],
   "source": [
    "from torch import nn\n",
    "import torch.optim as optim\n",
    "\n",
    "device = torch.device('cpu')\n",
    "if torch.cuda.is_available():\n",
    "    device = torch.device('cuda')\n",
    "\n",
    "net = nn.Sequential(\n",
    "      nn.Linear(features.shape[1], 20),\n",
    "      nn.Sigmoid(),\n",
    "      nn.Linear(20, 10),\n",
    "      nn.Sigmoid(),\n",
    "      nn.Linear(10, 5),\n",
    "      nn.Sigmoid(),\n",
    "      nn.Linear(5, 1)\n",
    "      ).to(device)\n",
    "\n",
    "net=net.double()\n",
    "epochs=100\n",
    "losses=[]\n",
    "\n",
    "correct=0\n",
    "count=0\n",
    "for epoch in range(epochs):\n",
    "    for sample, label in zip(X_train, y_train):\n",
    "#         print(sample, label)\n",
    "        output=net(sample.double())\n",
    "\n",
    "        net.zero_grad()\n",
    "\n",
    "\n",
    "        target = label.double()\n",
    "        target = target.view(1, -1)  # make it the same shape as output\n",
    "        criterion = nn.BCELoss()\n",
    "\n",
    "        optimizer = optim.SGD(net.parameters(), lr=0.001)\n",
    "\n",
    "        # in your training loop:\n",
    "        optimizer.zero_grad()   # zero the gradient buffers\n",
    "\n",
    "        loss = criterion(output, target)\n",
    "        loss.backward()\n",
    "        optimizer.step()    # Does the update\n",
    "        losses.append(loss)\n",
    "        count+=1\n",
    "        if (output>0.9 and label==1) or (output<0.1 and label==0):\n",
    "            correct+=1\n",
    "#         print('output=', output.item(), ' label = ', label.item())\n",
    "    acc=correct/count\n",
    "    print('epoch=' ,epoch, 'avg loss=', torch.mean(torch.tensor(losses)), 'acc = ', acc)\n",
    "\n"
   ]
  },
  {
   "cell_type": "code",
   "execution_count": 63,
   "metadata": {},
   "outputs": [
    {
     "data": {
      "text/plain": [
       "(torch.Size([1565, 12]), torch.Size([1565]))"
      ]
     },
     "execution_count": 63,
     "metadata": {},
     "output_type": "execute_result"
    }
   ],
   "source": [
    "features.shape, labels.shape"
   ]
  },
  {
   "cell_type": "code",
   "execution_count": null,
   "metadata": {},
   "outputs": [],
   "source": []
  }
 ],
 "metadata": {
  "kernelspec": {
   "display_name": "Python 3",
   "language": "python",
   "name": "python3"
  },
  "language_info": {
   "codemirror_mode": {
    "name": "ipython",
    "version": 3
   },
   "file_extension": ".py",
   "mimetype": "text/x-python",
   "name": "python",
   "nbconvert_exporter": "python",
   "pygments_lexer": "ipython3",
   "version": "3.7.4"
  }
 },
 "nbformat": 4,
 "nbformat_minor": 2
}
