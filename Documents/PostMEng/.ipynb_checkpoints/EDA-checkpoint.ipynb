{
 "cells": [
  {
   "cell_type": "code",
   "execution_count": 21,
   "metadata": {},
   "outputs": [],
   "source": [
    "import torch\n",
    "import numpy as np\n",
    "import os"
   ]
  },
  {
   "cell_type": "code",
   "execution_count": 22,
   "metadata": {},
   "outputs": [],
   "source": [
    "pathReq=os.getcwd()+'/'\n",
    "stats=np.load(pathReq+'allStats20210609BvsP.npy')"
   ]
  },
  {
   "cell_type": "code",
   "execution_count": 23,
   "metadata": {},
   "outputs": [],
   "source": [
    "features=stats[:,:-1]\n",
    "labels=stats[:,-1]"
   ]
  },
  {
   "cell_type": "code",
   "execution_count": 24,
   "metadata": {},
   "outputs": [
    {
     "name": "stdout",
     "output_type": "stream",
     "text": [
      "{'PA': 0, 'AB': 1, 'R': 2, 'H': 3, '2B': 4, '3B': 5, 'HR': 6, 'RBI': 7, 'BB': 8, 'IBB': 9, 'SO': 10, 'HBP': 11, 'SH': 12, 'SF': 13, 'GDP': 14, 'SB': 15, 'CS': 16, 'W': 17, 'IP': 18, 'H_': 19, 'R_': 20, 'ER_': 21, 'BB_': 22, 'SO_': 23, 'HR_': 24, 'HBP_': 25, 'AB_': 26, '2B_': 27, '3B_': 28, 'IBB_': 29, 'Pit': 30, 'Str': 31, 'StL': 32, 'StS': 33, 'PA2': 34, 'AB2': 35, 'H2': 36, '1B2': 37, '2B2': 38, '3B2': 39, 'HR2': 40, 'BB2': 41, 'SO2': 42, 'AVG2': 43, 'OBP2': 44, 'SLG2': 45}\n"
     ]
    }
   ],
   "source": [
    "import matplotlib.pyplot as plt\n",
    "\n",
    "h=['PA','AB','R','H','2B','3B','HR',\n",
    "           'RBI','BB','IBB','SO','HBP','SH','SF','GDP','SB','CS']#batting only\n",
    "hP=['W','IP','H_', 'R_', 'ER_', 'BB_', 'SO_', 'HR_', 'HBP_', 'AB_', '2B_', '3B_', 'IBB_','Pit', 'Str', 'StL', 'StS']\n",
    "hBvsP=['PA2','AB2','H2', '1B2','2B2','3B2','HR2','BB2','SO2','AVG2','OBP2','SLG2'] #BvsP\n",
    "hTotal=h+hP+hBvsP\n",
    "m=dict()\n",
    "\n",
    "for i, hh in enumerate(hTotal):\n",
    "    m[hh]=i\n",
    "    \n",
    "print(m)\n",
    "\n"
   ]
  },
  {
   "cell_type": "code",
   "execution_count": 25,
   "metadata": {},
   "outputs": [
    {
     "name": "stdout",
     "output_type": "stream",
     "text": [
      "{'PA': 0, 'AB': 1, 'R': 2, 'H': 3, '2B': 4, '3B': 5, 'HR': 6, 'RBI': 7, 'BB': 8, 'IBB': 9, 'SO': 10, 'HBP': 11, 'SH': 12, 'SF': 13, 'GDP': 14, 'SB': 15, 'CS': 16, 'W': 17, 'IP': 18, 'H_': 19, 'R_': 20, 'ER_': 21, 'BB_': 22, 'SO_': 23, 'HR_': 24, 'HBP_': 25, 'AB_': 26, '2B_': 27, '3B_': 28, 'IBB_': 29, 'Pit': 30, 'Str': 31, 'StL': 32, 'StS': 33, 'PA2': 34, 'AB2': 35, 'H2': 36, '1B2': 37, '2B2': 38, '3B2': 39, 'HR2': 40, 'BB2': 41, 'SO2': 42, 'AVG2': 43, 'OBP2': 44, 'SLG2': 45}\n"
     ]
    }
   ],
   "source": [
    "def normStats(stats, forInference):\n",
    "    \n",
    "    h=['PA','AB','R','H','2B','3B','HR',\n",
    "           'RBI','BB','IBB','SO','HBP','SH','SF','GDP','SB','CS']#batting only\n",
    "    # hP=['Dec','IP','H_','R_','ER','BB_','SO_','HR_','HBP_','AB_','2B_','3B_','IBB_','Pit','Str','StL','StS']#had to add underscores to some to separate from h\n",
    "    hP=['W','IP','H_', 'R_', 'ER_', 'BB_', 'SO_', 'HR_', 'HBP_', 'AB_', '2B_', '3B_', 'IBB_','Pit', 'Str', 'StL', 'StS']\n",
    "    hBvsP=['PA2','AB2','H2', '1B2','2B2','3B2','HR2','BB2','SO2','AVG2','OBP2','SLG2'] #BvsP\n",
    "    hTotal=h+hP+hBvsP\n",
    "    m=dict()\n",
    "    for i, hh in enumerate(hTotal):\n",
    "        m[hh]=i\n",
    "    print(m)\n",
    "    hTotal=h+hP+hBvsP\n",
    "    toCount=hTotal\n",
    "\n",
    "    toCount=h+hP#['PA','AB','R','H','2B','3B','HR','RBI','BB']\n",
    "             \n",
    "    \n",
    "    finalFeatures=np.zeros((stats.shape[0],len(toCount)))\n",
    "    finalInference=np.zeros((forInference.shape[0],len(toCount)))     \n",
    "    \n",
    "    \n",
    "    for r in range(finalFeatures.shape[0]):        \n",
    "        for i, cat in enumerate(toCount):\n",
    "            if cat in h: # to normalize hitting stats by PA\n",
    "                if stats[r, m['PA']]>0:\n",
    "                    finalFeatures[r,m[cat]]=stats[r, m[cat]]/stats[r, m['PA']] \n",
    "                else:\n",
    "                    finalFeatures[r,m[cat]]=stats[r, m[cat]]\n",
    "            if cat in hP: # to normalize pitching stats by IP\n",
    "                if stats[r, m['IP']]>0:\n",
    "                    finalFeatures[r,m[cat]]=stats[r, m[cat]]/stats[r, m['IP']]  \n",
    "                else:\n",
    "                    finalFeatures[r,m[cat]]=stats[r, m[cat]]\n",
    "            if cat in hBvsP: # to normalize BvsP stats by PA2\n",
    "                if stats[r, m['PA2']]>0:\n",
    "                    finalFeatures[r,m[cat]]=stats[r, m[cat]]/stats[r, m['PA2']]\n",
    "                else:\n",
    "                    finalFeatures[r,m[cat]]=stats[r, m[cat]]\n",
    "                \n",
    "    for r in range(finalInference.shape[0]):\n",
    "        for i, cat in enumerate(toCount):            \n",
    "            if cat in h: # to normalize hitting stats by PA                \n",
    "                if forInference[r, m['PA']]>0:\n",
    "                    finalInference[r,m[cat]]=forInference[r,m[cat]]/forInference[r, m['PA']]\n",
    "                else:\n",
    "                    finalInference[r,m[cat]]=forInference[r,m[cat]]\n",
    "            if cat in hP: # to normalize pitching stats by IP                \n",
    "                if forInference[r, m['IP']]>0:\n",
    "                    finalInference[r,m[cat]]=forInference[r,m[cat]]/forInference[r, m['IP']]\n",
    "                else:\n",
    "                    finalInference[r,m[cat]]=forInference[r,m[cat]]\n",
    "            if cat in hBvsP: # to normalize BvsP stats by PA2      \n",
    "                if forInference[r, m['PA2']]>0:\n",
    "                    finalInference[r,m[cat]]=forInference[r,m[cat]]/forInference[r, m['PA2']]\n",
    "                else:\n",
    "                    finalInference[r,m[cat]]=forInference[r,m[cat]]\n",
    "\n",
    "    return finalFeatures, finalInference\n",
    "\n",
    "finalFeatures, finalInference=normStats(stats, stats)\n",
    "\n",
    "# from sklearn.model_selection import train_test_split\n",
    "# from sklearn.preprocessing import StandardScaler\n",
    "# from sklearn.preprocessing import MinMaxScaler\n",
    "\n",
    "# features=torch.tensor(finalFeatures) #torch.tensor(stats[:,skippingFrom:skippingTo])\n",
    "# labels=torch.tensor(stats[:,-1])\n",
    "\n",
    "# forInferenceStats=torch.tensor(finalInference) #torch.tensor(forInference[:,skippingFrom:skippingTo])\n",
    "\n",
    "# pctTotal=(1-torch.mean(labels))*2\n",
    "# finalNo=(features.size()[0]*pctTotal).int()\n",
    "\n",
    "# balancedFeatures=torch.zeros(0,features.size()[1])\n",
    "# balancedLabels=torch.zeros(0,1)\n",
    "\n",
    "# c0=0\n",
    "# c1=0\n",
    "\n",
    "# for smpl, l in enumerate(labels):\n",
    "#   if l==1 and c1<(finalNo//2):\n",
    "#     #balancedFeatures[smpl]=features[smpl]\n",
    "#     balancedFeatures=np.vstack((balancedFeatures, features[smpl]))\n",
    "#     balancedLabels=np.vstack((balancedLabels, l))\n",
    "# #     balancedLabels[smpl]=l\n",
    "#     c1+=1\n",
    "#   if l==0 and (c1+c0)<finalNo:\n",
    "#     balancedFeatures=np.vstack((balancedFeatures, features[smpl]))\n",
    "#     balancedLabels=np.vstack((balancedLabels, l))\n",
    "#     c0+=1\n",
    "\n",
    "   \n",
    "# X_train, X_test, y_train, y_test = train_test_split(torch.tensor(balancedFeatures), torch.tensor(balancedLabels.squeeze()), test_size=0.2, random_state=42)\n",
    "\n",
    "# # X_train, X_test, y_train, y_test = train_test_split(features, labels, test_size=0.1, random_state=42)\n",
    "\n",
    "# scaler = StandardScaler()\n",
    "\n",
    "# x_norm=torch.tensor(scaler.fit_transform(X_train))\n",
    "\n",
    "# x_norm_test=torch.tensor(scaler.fit_transform(X_test))\n",
    "\n",
    "# inference_norm=torch.tensor(scaler.fit_transform(forInferenceStats))\n",
    "\n",
    "\n",
    "    "
   ]
  },
  {
   "cell_type": "code",
   "execution_count": 26,
   "metadata": {},
   "outputs": [
    {
     "data": {
      "text/plain": [
       "(5202, 47)"
      ]
     },
     "execution_count": 26,
     "metadata": {},
     "output_type": "execute_result"
    }
   ],
   "source": [
    "stats.shape"
   ]
  },
  {
   "cell_type": "code",
   "execution_count": 32,
   "metadata": {},
   "outputs": [
    {
     "data": {
      "text/plain": [
       "(array([2.300e+02, 1.179e+03, 3.333e+03, 3.850e+02, 4.600e+01, 2.300e+01,\n",
       "        2.000e+00, 1.000e+00, 2.000e+00, 1.000e+00]),\n",
       " array([0. , 0.1, 0.2, 0.3, 0.4, 0.5, 0.6, 0.7, 0.8, 0.9, 1. ]),\n",
       " <a list of 10 Patch objects>)"
      ]
     },
     "execution_count": 32,
     "metadata": {},
     "output_type": "execute_result"
    },
    {
     "data": {
      "image/png": "[encoded data removed]",
      "text/plain": [
       "<Figure size 432x288 with 1 Axes>"
      ]
     },
     "metadata": {
      "needs_background": "light"
     },
     "output_type": "display_data"
    }
   ],
   "source": [
    "plt.hist(finalFeatures[:,m['H']])"
   ]
  },
  {
   "cell_type": "code",
   "execution_count": 66,
   "metadata": {},
   "outputs": [
    {
     "name": "stdout",
     "output_type": "stream",
     "text": [
      "(4547, 46)\n"
     ]
    }
   ],
   "source": [
    "features=features[np.where(features[:,m['PA']]>0)[0]]\n",
    "labels=labels[np.where(features[:,m['PA']]>0)[0]]\n",
    "print(features.shape)\n",
    "for i, s in enumerate(features):\n",
    "    features[i]=features[i]/s[m['PA']]+1 #normalize over axis1"
   ]
  },
  {
   "cell_type": "code",
   "execution_count": 67,
   "metadata": {},
   "outputs": [],
   "source": [
    "# from sklearn.preprocessing import MinMaxScaler\n",
    "# from sklearn.preprocessing import StandardScaler\n",
    "\n",
    "# scaler = StandardScaler()\n",
    "\n",
    "# x_norm=torch.tensor(scaler.fit_transform(features))#normalize over axis0"
   ]
  },
  {
   "cell_type": "code",
   "execution_count": 70,
   "metadata": {},
   "outputs": [
    {
     "data": {
      "text/plain": [
       "(array([2.876e+03, 7.500e+01, 3.000e+01, 1.000e+01, 2.000e+00, 1.000e+01,\n",
       "        0.000e+00, 4.000e+00, 1.000e+00, 2.000e+00]),\n",
       " array([1.  , 1.14, 1.28, 1.42, 1.56, 1.7 , 1.84, 1.98, 2.12, 2.26, 2.4 ]),\n",
       " <a list of 10 Patch objects>)"
      ]
     },
     "execution_count": 70,
     "metadata": {},
     "output_type": "execute_result"
    },
    {
     "data": {
      "image/png": "[encoded data removed]",
      "text/plain": [
       "<Figure size 432x288 with 1 Axes>"
      ]
     },
     "metadata": {
      "needs_background": "light"
     },
     "output_type": "display_data"
    }
   ],
   "source": [
    "# over100f=stats[np.where(stats[:,m['AB']]>100)[0],:-1]\n",
    "# over100l=stats[np.where(stats[:,m['AB']]>100)[0], -1]\n",
    "\n",
    "i=np.where(labels==1)[0]\n",
    "plt.hist(features[i,m['1B2']])"
   ]
  },
  {
   "cell_type": "code",
   "execution_count": 78,
   "metadata": {},
   "outputs": [
    {
     "data": {
      "text/plain": [
       "array([[1.00000000e+00, 8.00000000e-01, 2.00000000e-01, 4.00000000e-01,\n",
       "        0.00000000e+00, 0.00000000e+00, 2.00000000e-01, 2.00000000e-01,\n",
       "        2.00000000e-01, 2.00000000e-01, 4.00000000e-01, 0.00000000e+00,\n",
       "        0.00000000e+00, 0.00000000e+00, 0.00000000e+00, 0.00000000e+00,\n",
       "        0.00000000e+00, 0.00000000e+00, 0.00000000e+00, 0.00000000e+00,\n",
       "        0.00000000e+00, 0.00000000e+00, 0.00000000e+00, 0.00000000e+00,\n",
       "        0.00000000e+00, 0.00000000e+00, 0.00000000e+00, 0.00000000e+00,\n",
       "        0.00000000e+00, 0.00000000e+00, 0.00000000e+00, 0.00000000e+00,\n",
       "        0.00000000e+00, 0.00000000e+00, 6.00000000e-01, 4.00000000e-01,\n",
       "        2.00000000e-01, 0.00000000e+00, 0.00000000e+00, 0.00000000e+00,\n",
       "        2.00000000e-01, 2.00000000e-01, 2.00000000e-01, 1.00000000e-01,\n",
       "        1.33400000e-01, 4.00000000e-01],\n",
       "       [1.00000000e+00, 7.77777778e-01, 2.22222222e-01, 4.44444444e-01,\n",
       "        0.00000000e+00, 0.00000000e+00, 2.22222222e-01, 4.44444444e-01,\n",
       "        2.22222222e-01, 1.11111111e-01, 3.33333333e-01, 0.00000000e+00,\n",
       "        0.00000000e+00, 0.00000000e+00, 0.00000000e+00, 0.00000000e+00,\n",
       "        0.00000000e+00, 0.00000000e+00, 0.00000000e+00, 0.00000000e+00,\n",
       "        0.00000000e+00, 0.00000000e+00, 0.00000000e+00, 0.00000000e+00,\n",
       "        0.00000000e+00, 0.00000000e+00, 0.00000000e+00, 0.00000000e+00,\n",
       "        0.00000000e+00, 0.00000000e+00, 0.00000000e+00, 0.00000000e+00,\n",
       "        0.00000000e+00, 0.00000000e+00, 2.22222222e-01, 2.22222222e-01,\n",
       "        0.00000000e+00, 0.00000000e+00, 0.00000000e+00, 0.00000000e+00,\n",
       "        0.00000000e+00, 0.00000000e+00, 0.00000000e+00, 0.00000000e+00,\n",
       "        0.00000000e+00, 0.00000000e+00],\n",
       "       [1.00000000e+00, 8.46153846e-01, 1.53846154e-01, 3.07692308e-01,\n",
       "        0.00000000e+00, 0.00000000e+00, 1.53846154e-01, 3.07692308e-01,\n",
       "        1.53846154e-01, 7.69230769e-02, 3.07692308e-01, 0.00000000e+00,\n",
       "        0.00000000e+00, 0.00000000e+00, 0.00000000e+00, 0.00000000e+00,\n",
       "        0.00000000e+00, 0.00000000e+00, 0.00000000e+00, 0.00000000e+00,\n",
       "        0.00000000e+00, 0.00000000e+00, 0.00000000e+00, 0.00000000e+00,\n",
       "        0.00000000e+00, 0.00000000e+00, 0.00000000e+00, 0.00000000e+00,\n",
       "        0.00000000e+00, 0.00000000e+00, 0.00000000e+00, 0.00000000e+00,\n",
       "        0.00000000e+00, 0.00000000e+00, 2.30769231e-01, 2.30769231e-01,\n",
       "        7.69230769e-02, 0.00000000e+00, 0.00000000e+00, 0.00000000e+00,\n",
       "        7.69230769e-02, 0.00000000e+00, 0.00000000e+00, 2.56153846e-02,\n",
       "        2.56153846e-02, 1.02538462e-01],\n",
       "       [1.00000000e+00, 8.82352941e-01, 1.76470588e-01, 2.94117647e-01,\n",
       "        0.00000000e+00, 0.00000000e+00, 1.76470588e-01, 2.94117647e-01,\n",
       "        1.17647059e-01, 5.88235294e-02, 2.35294118e-01, 0.00000000e+00,\n",
       "        0.00000000e+00, 0.00000000e+00, 0.00000000e+00, 0.00000000e+00,\n",
       "        0.00000000e+00, 0.00000000e+00, 2.47058812e-01, 4.70588235e-01,\n",
       "        2.35294118e-01, 2.35294118e-01, 5.88235294e-02, 3.52941176e-01,\n",
       "        1.17647059e-01, 0.00000000e+00, 1.29411765e+00, 1.76470588e-01,\n",
       "        0.00000000e+00, 0.00000000e+00, 5.47058824e+00, 3.76470588e+00,\n",
       "        1.11764706e+00, 4.70588235e-01, 1.58823529e+00, 1.52941176e+00,\n",
       "        2.35294118e-01, 5.88235294e-02, 1.17647059e-01, 0.00000000e+00,\n",
       "        5.88235294e-02, 5.88235294e-02, 4.11764706e-01, 9.05882353e-03,\n",
       "        1.08823529e-02, 2.03529412e-02],\n",
       "       [1.00000000e+00, 9.00000000e-01, 1.50000000e-01, 2.50000000e-01,\n",
       "        0.00000000e+00, 0.00000000e+00, 1.50000000e-01, 2.50000000e-01,\n",
       "        1.00000000e-01, 5.00000000e-02, 2.00000000e-01, 0.00000000e+00,\n",
       "        0.00000000e+00, 0.00000000e+00, 0.00000000e+00, 0.00000000e+00,\n",
       "        0.00000000e+00, 0.00000000e+00, 2.09999990e-01, 2.00000000e-01,\n",
       "        0.00000000e+00, 0.00000000e+00, 1.00000000e-01, 4.00000000e-01,\n",
       "        0.00000000e+00, 0.00000000e+00, 9.50000000e-01, 5.00000000e-02,\n",
       "        0.00000000e+00, 0.00000000e+00, 4.30000000e+00, 2.65000000e+00,\n",
       "        4.50000000e-01, 8.00000000e-01, 4.00000000e-01, 2.50000000e-01,\n",
       "        5.00000000e-02, 0.00000000e+00, 5.00000000e-02, 0.00000000e+00,\n",
       "        0.00000000e+00, 1.50000000e-01, 1.00000000e-01, 1.00000000e-02,\n",
       "        2.50000000e-02, 2.00000000e-02],\n",
       "       [1.00000000e+00, 8.80000000e-01, 1.60000000e-01, 2.80000000e-01,\n",
       "        4.00000000e-02, 0.00000000e+00, 1.20000000e-01, 2.00000000e-01,\n",
       "        1.20000000e-01, 4.00000000e-02, 2.00000000e-01, 0.00000000e+00,\n",
       "        0.00000000e+00, 0.00000000e+00, 0.00000000e+00, 0.00000000e+00,\n",
       "        0.00000000e+00, 4.00000000e-02, 2.00000000e-01, 2.00000000e-01,\n",
       "        1.20000000e-01, 1.20000000e-01, 1.20000000e-01, 1.60000000e-01,\n",
       "        0.00000000e+00, 0.00000000e+00, 7.20000000e-01, 8.00000000e-02,\n",
       "        0.00000000e+00, 0.00000000e+00, 3.32000000e+00, 2.08000000e+00,\n",
       "        6.40000000e-01, 1.60000000e-01, 4.00000000e-01, 4.00000000e-01,\n",
       "        4.00000000e-02, 4.00000000e-02, 0.00000000e+00, 0.00000000e+00,\n",
       "        0.00000000e+00, 0.00000000e+00, 8.00000000e-02, 4.00000000e-03,\n",
       "        4.00000000e-03, 4.00000000e-03],\n",
       "       [1.00000000e+00, 8.96551724e-01, 1.37931034e-01, 2.75862069e-01,\n",
       "        3.44827586e-02, 0.00000000e+00, 1.03448276e-01, 1.72413793e-01,\n",
       "        1.03448276e-01, 3.44827586e-02, 1.72413793e-01, 0.00000000e+00,\n",
       "        0.00000000e+00, 0.00000000e+00, 0.00000000e+00, 0.00000000e+00,\n",
       "        0.00000000e+00, 0.00000000e+00, 3.44827586e-01, 3.79310345e-01,\n",
       "        1.37931034e-01, 1.37931034e-01, 2.75862069e-01, 2.41379310e-01,\n",
       "        3.44827586e-02, 0.00000000e+00, 1.31034483e+00, 0.00000000e+00,\n",
       "        0.00000000e+00, 0.00000000e+00, 6.31034483e+00, 3.68965517e+00,\n",
       "        1.10344828e+00, 5.51724138e-01, 6.20689655e-01, 5.51724138e-01,\n",
       "        1.03448276e-01, 1.03448276e-01, 0.00000000e+00, 0.00000000e+00,\n",
       "        0.00000000e+00, 3.44827586e-02, 6.89655172e-02, 6.48275862e-03,\n",
       "        9.58620690e-03, 6.48275862e-03],\n",
       "       [1.00000000e+00, 9.09090909e-01, 1.21212121e-01, 3.03030303e-01,\n",
       "        3.03030303e-02, 0.00000000e+00, 9.09090909e-02, 2.12121212e-01,\n",
       "        9.09090909e-02, 3.03030303e-02, 1.81818182e-01, 0.00000000e+00,\n",
       "        0.00000000e+00, 0.00000000e+00, 0.00000000e+00, 0.00000000e+00,\n",
       "        0.00000000e+00, 3.03030303e-02, 1.81818182e-01, 6.06060606e-02,\n",
       "        0.00000000e+00, 0.00000000e+00, 3.03030303e-02, 1.81818182e-01,\n",
       "        0.00000000e+00, 0.00000000e+00, 6.06060606e-01, 6.06060606e-02,\n",
       "        0.00000000e+00, 0.00000000e+00, 2.36363636e+00, 1.48484848e+00,\n",
       "        3.63636364e-01, 3.03030303e-01, 1.27272727e+00, 1.12121212e+00,\n",
       "        2.72727273e-01, 9.09090909e-02, 9.09090909e-02, 0.00000000e+00,\n",
       "        9.09090909e-02, 1.51515152e-01, 3.63636364e-01, 7.36363636e-03,\n",
       "        1.00909091e-02, 1.72121212e-02],\n",
       "       [1.00000000e+00, 9.18918919e-01, 1.08108108e-01, 2.70270270e-01,\n",
       "        2.70270270e-02, 0.00000000e+00, 8.10810811e-02, 1.89189189e-01,\n",
       "        8.10810811e-02, 2.70270270e-02, 1.89189189e-01, 0.00000000e+00,\n",
       "        0.00000000e+00, 0.00000000e+00, 0.00000000e+00, 0.00000000e+00,\n",
       "        0.00000000e+00, 2.70270270e-02, 2.72972970e-01, 3.24324324e-01,\n",
       "        2.70270270e-01, 2.16216216e-01, 8.10810811e-02, 1.35135135e-01,\n",
       "        2.70270270e-02, 2.70270270e-02, 1.13513514e+00, 8.10810811e-02,\n",
       "        0.00000000e+00, 0.00000000e+00, 4.16216216e+00, 3.05405405e+00,\n",
       "        7.02702703e-01, 4.86486486e-01, 2.97297297e-01, 2.97297297e-01,\n",
       "        5.40540541e-02, 5.40540541e-02, 0.00000000e+00, 0.00000000e+00,\n",
       "        0.00000000e+00, 0.00000000e+00, 8.10810811e-02, 4.91891892e-03,\n",
       "        4.91891892e-03, 4.91891892e-03],\n",
       "       [1.00000000e+00, 9.26829268e-01, 1.46341463e-01, 2.92682927e-01,\n",
       "        2.43902439e-02, 0.00000000e+00, 9.75609756e-02, 1.95121951e-01,\n",
       "        7.31707317e-02, 2.43902439e-02, 1.95121951e-01, 0.00000000e+00,\n",
       "        0.00000000e+00, 0.00000000e+00, 0.00000000e+00, 0.00000000e+00,\n",
       "        0.00000000e+00, 2.43902439e-02, 2.19512195e-01, 9.75609756e-02,\n",
       "        7.31707317e-02, 4.87804878e-02, 1.46341463e-01, 3.65853659e-01,\n",
       "        4.87804878e-02, 0.00000000e+00, 7.56097561e-01, 0.00000000e+00,\n",
       "        0.00000000e+00, 0.00000000e+00, 4.29268293e+00, 2.60975610e+00,\n",
       "        7.80487805e-01, 5.36585366e-01, 1.70731707e-01, 1.46341463e-01,\n",
       "        4.87804878e-02, 4.87804878e-02, 0.00000000e+00, 0.00000000e+00,\n",
       "        0.00000000e+00, 2.43902439e-02, 4.87804878e-02, 8.12195122e-03,\n",
       "        1.04634146e-02, 8.12195122e-03]])"
      ]
     },
     "execution_count": 78,
     "metadata": {},
     "output_type": "execute_result"
    }
   ],
   "source": [
    "features[:10]"
   ]
  },
  {
   "cell_type": "code",
   "execution_count": 35,
   "metadata": {},
   "outputs": [
    {
     "data": {
      "text/plain": [
       "array([[1.        , 0.8       , 0.2       , 0.4       , 0.        ,\n",
       "        0.        , 0.2       , 0.2       , 0.2       , 0.2       ,\n",
       "        0.4       , 0.        , 0.        , 0.        , 0.        ,\n",
       "        0.        , 0.        , 0.        , 0.        , 0.        ,\n",
       "        0.        , 0.        , 0.        , 0.        , 0.        ,\n",
       "        0.        , 0.        , 0.        , 0.        , 0.        ,\n",
       "        0.        , 0.        , 0.        , 0.        , 0.6       ,\n",
       "        0.4       , 0.2       , 0.        , 0.        , 0.        ,\n",
       "        0.2       , 0.2       , 0.2       , 0.1       , 0.1334    ,\n",
       "        0.4       ],\n",
       "       [1.        , 0.77777778, 0.22222222, 0.44444444, 0.        ,\n",
       "        0.        , 0.22222222, 0.44444444, 0.22222222, 0.11111111,\n",
       "        0.33333333, 0.        , 0.        , 0.        , 0.        ,\n",
       "        0.        , 0.        , 0.        , 0.        , 0.        ,\n",
       "        0.        , 0.        , 0.        , 0.        , 0.        ,\n",
       "        0.        , 0.        , 0.        , 0.        , 0.        ,\n",
       "        0.        , 0.        , 0.        , 0.        , 0.22222222,\n",
       "        0.22222222, 0.        , 0.        , 0.        , 0.        ,\n",
       "        0.        , 0.        , 0.        , 0.        , 0.        ,\n",
       "        0.        ],\n",
       "       [1.        , 0.84615385, 0.15384615, 0.30769231, 0.        ,\n",
       "        0.        , 0.15384615, 0.30769231, 0.15384615, 0.07692308,\n",
       "        0.30769231, 0.        , 0.        , 0.        , 0.        ,\n",
       "        0.        , 0.        , 0.        , 0.        , 0.        ,\n",
       "        0.        , 0.        , 0.        , 0.        , 0.        ,\n",
       "        0.        , 0.        , 0.        , 0.        , 0.        ,\n",
       "        0.        , 0.        , 0.        , 0.        , 0.23076923,\n",
       "        0.23076923, 0.07692308, 0.        , 0.        , 0.        ,\n",
       "        0.07692308, 0.        , 0.        , 0.02561538, 0.02561538,\n",
       "        0.10253846],\n",
       "       [1.        , 0.88235294, 0.17647059, 0.29411765, 0.        ,\n",
       "        0.        , 0.17647059, 0.29411765, 0.11764706, 0.05882353,\n",
       "        0.23529412, 0.        , 0.        , 0.        , 0.        ,\n",
       "        0.        , 0.        , 0.        , 0.24705881, 0.47058824,\n",
       "        0.23529412, 0.23529412, 0.05882353, 0.35294118, 0.11764706,\n",
       "        0.        , 1.29411765, 0.17647059, 0.        , 0.        ,\n",
       "        5.47058824, 3.76470588, 1.11764706, 0.47058824, 1.58823529,\n",
       "        1.52941176, 0.23529412, 0.05882353, 0.11764706, 0.        ,\n",
       "        0.05882353, 0.05882353, 0.41176471, 0.00905882, 0.01088235,\n",
       "        0.02035294],\n",
       "       [1.        , 0.9       , 0.15      , 0.25      , 0.        ,\n",
       "        0.        , 0.15      , 0.25      , 0.1       , 0.05      ,\n",
       "        0.2       , 0.        , 0.        , 0.        , 0.        ,\n",
       "        0.        , 0.        , 0.        , 0.20999999, 0.2       ,\n",
       "        0.        , 0.        , 0.1       , 0.4       , 0.        ,\n",
       "        0.        , 0.95      , 0.05      , 0.        , 0.        ,\n",
       "        4.3       , 2.65      , 0.45      , 0.8       , 0.4       ,\n",
       "        0.25      , 0.05      , 0.        , 0.05      , 0.        ,\n",
       "        0.        , 0.15      , 0.1       , 0.01      , 0.025     ,\n",
       "        0.02      ]])"
      ]
     },
     "execution_count": 35,
     "metadata": {},
     "output_type": "execute_result"
    }
   ],
   "source": [
    "features[:5]"
   ]
  },
  {
   "cell_type": "code",
   "execution_count": 42,
   "metadata": {},
   "outputs": [
    {
     "name": "stdout",
     "output_type": "stream",
     "text": [
      "[ 0.00000000e+00  6.45314037e-04  0.00000000e+00  0.00000000e+00\n",
      " -0.00000000e+00  0.00000000e+00  0.00000000e+00  0.00000000e+00\n",
      " -0.00000000e+00 -0.00000000e+00  0.00000000e+00 -0.00000000e+00\n",
      "  0.00000000e+00 -0.00000000e+00  0.00000000e+00  0.00000000e+00\n",
      "  0.00000000e+00  0.00000000e+00  0.00000000e+00  0.00000000e+00\n",
      "  0.00000000e+00  0.00000000e+00 -0.00000000e+00 -0.00000000e+00\n",
      "  0.00000000e+00 -0.00000000e+00  0.00000000e+00  0.00000000e+00\n",
      " -0.00000000e+00 -0.00000000e+00  6.27472513e-05  0.00000000e+00\n",
      " -0.00000000e+00 -1.27690898e-03 -7.68686113e-03 -0.00000000e+00\n",
      "  3.89421514e-02  0.00000000e+00  0.00000000e+00  0.00000000e+00\n",
      "  0.00000000e+00 -0.00000000e+00 -0.00000000e+00  0.00000000e+00\n",
      "  0.00000000e+00  0.00000000e+00]\n"
     ]
    }
   ],
   "source": [
    "from sklearn import linear_model\n",
    "clf = linear_model.Lasso(alpha=0.1)\n",
    "clf.fit(features, labels)\n",
    "print(clf.coef_)\n"
   ]
  },
  {
   "cell_type": "code",
   "execution_count": 43,
   "metadata": {},
   "outputs": [
    {
     "data": {
      "text/plain": [
       "(array([ 1, 30, 36]),)"
      ]
     },
     "execution_count": 43,
     "metadata": {},
     "output_type": "execute_result"
    }
   ],
   "source": [
    "np.where(clf.coef_>0)"
   ]
  },
  {
   "cell_type": "code",
   "execution_count": 36,
   "metadata": {},
   "outputs": [
    {
     "name": "stdout",
     "output_type": "stream",
     "text": [
      "Collecting sklearn\n",
      "  Using cached https://files.pythonhosted.org/packages/1e/7a/dbb3be0ce9bd5c8b7e3d87328e79063f8b263b2b1bfa4774cb1147bfcd3f/sklearn-0.0.tar.gz\n",
      "Requirement already satisfied: scikit-learn in /home/adimn/anaconda3/envs/venv-base/lib/python3.7/site-packages (from sklearn) (0.22.2)\n",
      "Requirement already satisfied: numpy>=1.11.0 in /home/adimn/anaconda3/envs/venv-base/lib/python3.7/site-packages (from scikit-learn->sklearn) (1.17.2)\n",
      "Requirement already satisfied: joblib>=0.11 in /home/adimn/anaconda3/envs/venv-base/lib/python3.7/site-packages (from scikit-learn->sklearn) (0.14.1)\n",
      "Requirement already satisfied: scipy>=0.17.0 in /home/adimn/anaconda3/envs/venv-base/lib/python3.7/site-packages (from scikit-learn->sklearn) (1.3.1)\n",
      "Building wheels for collected packages: sklearn\n",
      "  Building wheel for sklearn (setup.py) ... \u001b[?25ldone\n",
      "\u001b[?25h  Created wheel for sklearn: filename=sklearn-0.0-py2.py3-none-any.whl size=1316 sha256=10bbb14ccf41277fc4f566411bfa1576b001ac25da4a7063f2451f2694715548\n",
      "  Stored in directory: /home/adimn/.cache/pip/wheels/76/03/bb/589d421d27431bcd2c6da284d5f2286c8e3b2ea3cf1594c074\n",
      "Successfully built sklearn\n",
      "Installing collected packages: sklearn\n",
      "Successfully installed sklearn-0.0\n"
     ]
    }
   ],
   "source": [
    "!pip install sklearn"
   ]
  },
  {
   "cell_type": "code",
   "execution_count": null,
   "metadata": {},
   "outputs": [],
   "source": []
  }
 ],
 "metadata": {
  "kernelspec": {
   "display_name": "Python 3",
   "language": "python",
   "name": "python3"
  },
  "language_info": {
   "codemirror_mode": {
    "name": "ipython",
    "version": 3
   },
   "file_extension": ".py",
   "mimetype": "text/x-python",
   "name": "python",
   "nbconvert_exporter": "python",
   "pygments_lexer": "ipython3",
   "version": "3.7.4"
  }
 },
 "nbformat": 4,
 "nbformat_minor": 2
}
